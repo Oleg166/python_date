{
 "cells": [
  {
   "cell_type": "markdown",
   "id": "1bfc958b",
   "metadata": {},
   "source": [
    "Данные - https://www.kaggle.com/usdot/flight-delays\n",
    "Задачи:\n",
    "1. Найти аэропорт с минимальной задержкой вылета \n",
    "2. Самая пунктуальная авиакомпания на прилет в Los Angeles International Airport\n",
    "3. Найти аэропорт, где самолёты проводят больше всего времени на рулении (среднее значение)\n",
    "4. Построить модель которая будет выбирать топ 3 аэропорта прилета (вероятность опоздания минимальная – RMSE метрика),  в зависимости от аэропорта вылета  "
   ]
  },
  {
   "cell_type": "code",
   "execution_count": 1,
   "id": "428f6cab",
   "metadata": {},
   "outputs": [],
   "source": [
    "import pandas as pd\n",
    "import numpy as np\n",
    "from tqdm.auto import tqdm\n",
    "import random\n",
    "from sklearn.model_selection import train_test_split\n",
    "from sklearn.linear_model import LinearRegression\n",
    "import warnings\n",
    "warnings.simplefilter(action='ignore', category=FutureWarning)\n",
    "pd.options.mode.chained_assignment = None"
   ]
  },
  {
   "cell_type": "code",
   "execution_count": 2,
   "id": "0e7bac31",
   "metadata": {},
   "outputs": [
    {
     "name": "stdout",
     "output_type": "stream",
     "text": [
      "CPU times: total: 17 s\n",
      "Wall time: 17.2 s\n"
     ]
    }
   ],
   "source": [
    "%%time\n",
    "df=pd.read_csv('Data/flights.csv', low_memory=False, dtype={'YEAR':str, 'MONTH':str, 'DAY':str, 'DAY_OF_WEEK':str, 'AIRLINE':str})"
   ]
  },
  {
   "cell_type": "code",
   "execution_count": 3,
   "id": "a3a20f09",
   "metadata": {},
   "outputs": [
    {
     "data": {
      "text/plain": [
       "(5819079, 31)"
      ]
     },
     "execution_count": 3,
     "metadata": {},
     "output_type": "execute_result"
    }
   ],
   "source": [
    "df.shape"
   ]
  },
  {
   "cell_type": "code",
   "execution_count": 4,
   "id": "92ec145b",
   "metadata": {},
   "outputs": [
    {
     "data": {
      "text/html": [
       "<div>\n",
       "<style scoped>\n",
       "    .dataframe tbody tr th:only-of-type {\n",
       "        vertical-align: middle;\n",
       "    }\n",
       "\n",
       "    .dataframe tbody tr th {\n",
       "        vertical-align: top;\n",
       "    }\n",
       "\n",
       "    .dataframe thead th {\n",
       "        text-align: right;\n",
       "    }\n",
       "</style>\n",
       "<table border=\"1\" class=\"dataframe\">\n",
       "  <thead>\n",
       "    <tr style=\"text-align: right;\">\n",
       "      <th></th>\n",
       "      <th>YEAR</th>\n",
       "      <th>MONTH</th>\n",
       "      <th>DAY</th>\n",
       "      <th>DAY_OF_WEEK</th>\n",
       "      <th>AIRLINE</th>\n",
       "      <th>FLIGHT_NUMBER</th>\n",
       "      <th>TAIL_NUMBER</th>\n",
       "      <th>ORIGIN_AIRPORT</th>\n",
       "      <th>DESTINATION_AIRPORT</th>\n",
       "      <th>SCHEDULED_DEPARTURE</th>\n",
       "      <th>DEPARTURE_TIME</th>\n",
       "      <th>DEPARTURE_DELAY</th>\n",
       "      <th>TAXI_OUT</th>\n",
       "      <th>WHEELS_OFF</th>\n",
       "      <th>SCHEDULED_TIME</th>\n",
       "      <th>ELAPSED_TIME</th>\n",
       "      <th>AIR_TIME</th>\n",
       "      <th>DISTANCE</th>\n",
       "      <th>WHEELS_ON</th>\n",
       "      <th>TAXI_IN</th>\n",
       "      <th>SCHEDULED_ARRIVAL</th>\n",
       "      <th>ARRIVAL_TIME</th>\n",
       "      <th>ARRIVAL_DELAY</th>\n",
       "      <th>DIVERTED</th>\n",
       "      <th>CANCELLED</th>\n",
       "      <th>CANCELLATION_REASON</th>\n",
       "      <th>AIR_SYSTEM_DELAY</th>\n",
       "      <th>SECURITY_DELAY</th>\n",
       "      <th>AIRLINE_DELAY</th>\n",
       "      <th>LATE_AIRCRAFT_DELAY</th>\n",
       "      <th>WEATHER_DELAY</th>\n",
       "    </tr>\n",
       "  </thead>\n",
       "  <tbody>\n",
       "    <tr>\n",
       "      <th>0</th>\n",
       "      <td>2015</td>\n",
       "      <td>1</td>\n",
       "      <td>1</td>\n",
       "      <td>4</td>\n",
       "      <td>AS</td>\n",
       "      <td>98</td>\n",
       "      <td>N407AS</td>\n",
       "      <td>ANC</td>\n",
       "      <td>SEA</td>\n",
       "      <td>5</td>\n",
       "      <td>2354.0</td>\n",
       "      <td>-11.0</td>\n",
       "      <td>21.0</td>\n",
       "      <td>15.0</td>\n",
       "      <td>205.0</td>\n",
       "      <td>194.0</td>\n",
       "      <td>169.0</td>\n",
       "      <td>1448</td>\n",
       "      <td>404.0</td>\n",
       "      <td>4.0</td>\n",
       "      <td>430</td>\n",
       "      <td>408.0</td>\n",
       "      <td>-22.0</td>\n",
       "      <td>0</td>\n",
       "      <td>0</td>\n",
       "      <td>NaN</td>\n",
       "      <td>NaN</td>\n",
       "      <td>NaN</td>\n",
       "      <td>NaN</td>\n",
       "      <td>NaN</td>\n",
       "      <td>NaN</td>\n",
       "    </tr>\n",
       "    <tr>\n",
       "      <th>1</th>\n",
       "      <td>2015</td>\n",
       "      <td>1</td>\n",
       "      <td>1</td>\n",
       "      <td>4</td>\n",
       "      <td>AA</td>\n",
       "      <td>2336</td>\n",
       "      <td>N3KUAA</td>\n",
       "      <td>LAX</td>\n",
       "      <td>PBI</td>\n",
       "      <td>10</td>\n",
       "      <td>2.0</td>\n",
       "      <td>-8.0</td>\n",
       "      <td>12.0</td>\n",
       "      <td>14.0</td>\n",
       "      <td>280.0</td>\n",
       "      <td>279.0</td>\n",
       "      <td>263.0</td>\n",
       "      <td>2330</td>\n",
       "      <td>737.0</td>\n",
       "      <td>4.0</td>\n",
       "      <td>750</td>\n",
       "      <td>741.0</td>\n",
       "      <td>-9.0</td>\n",
       "      <td>0</td>\n",
       "      <td>0</td>\n",
       "      <td>NaN</td>\n",
       "      <td>NaN</td>\n",
       "      <td>NaN</td>\n",
       "      <td>NaN</td>\n",
       "      <td>NaN</td>\n",
       "      <td>NaN</td>\n",
       "    </tr>\n",
       "    <tr>\n",
       "      <th>2</th>\n",
       "      <td>2015</td>\n",
       "      <td>1</td>\n",
       "      <td>1</td>\n",
       "      <td>4</td>\n",
       "      <td>US</td>\n",
       "      <td>840</td>\n",
       "      <td>N171US</td>\n",
       "      <td>SFO</td>\n",
       "      <td>CLT</td>\n",
       "      <td>20</td>\n",
       "      <td>18.0</td>\n",
       "      <td>-2.0</td>\n",
       "      <td>16.0</td>\n",
       "      <td>34.0</td>\n",
       "      <td>286.0</td>\n",
       "      <td>293.0</td>\n",
       "      <td>266.0</td>\n",
       "      <td>2296</td>\n",
       "      <td>800.0</td>\n",
       "      <td>11.0</td>\n",
       "      <td>806</td>\n",
       "      <td>811.0</td>\n",
       "      <td>5.0</td>\n",
       "      <td>0</td>\n",
       "      <td>0</td>\n",
       "      <td>NaN</td>\n",
       "      <td>NaN</td>\n",
       "      <td>NaN</td>\n",
       "      <td>NaN</td>\n",
       "      <td>NaN</td>\n",
       "      <td>NaN</td>\n",
       "    </tr>\n",
       "    <tr>\n",
       "      <th>3</th>\n",
       "      <td>2015</td>\n",
       "      <td>1</td>\n",
       "      <td>1</td>\n",
       "      <td>4</td>\n",
       "      <td>AA</td>\n",
       "      <td>258</td>\n",
       "      <td>N3HYAA</td>\n",
       "      <td>LAX</td>\n",
       "      <td>MIA</td>\n",
       "      <td>20</td>\n",
       "      <td>15.0</td>\n",
       "      <td>-5.0</td>\n",
       "      <td>15.0</td>\n",
       "      <td>30.0</td>\n",
       "      <td>285.0</td>\n",
       "      <td>281.0</td>\n",
       "      <td>258.0</td>\n",
       "      <td>2342</td>\n",
       "      <td>748.0</td>\n",
       "      <td>8.0</td>\n",
       "      <td>805</td>\n",
       "      <td>756.0</td>\n",
       "      <td>-9.0</td>\n",
       "      <td>0</td>\n",
       "      <td>0</td>\n",
       "      <td>NaN</td>\n",
       "      <td>NaN</td>\n",
       "      <td>NaN</td>\n",
       "      <td>NaN</td>\n",
       "      <td>NaN</td>\n",
       "      <td>NaN</td>\n",
       "    </tr>\n",
       "    <tr>\n",
       "      <th>4</th>\n",
       "      <td>2015</td>\n",
       "      <td>1</td>\n",
       "      <td>1</td>\n",
       "      <td>4</td>\n",
       "      <td>AS</td>\n",
       "      <td>135</td>\n",
       "      <td>N527AS</td>\n",
       "      <td>SEA</td>\n",
       "      <td>ANC</td>\n",
       "      <td>25</td>\n",
       "      <td>24.0</td>\n",
       "      <td>-1.0</td>\n",
       "      <td>11.0</td>\n",
       "      <td>35.0</td>\n",
       "      <td>235.0</td>\n",
       "      <td>215.0</td>\n",
       "      <td>199.0</td>\n",
       "      <td>1448</td>\n",
       "      <td>254.0</td>\n",
       "      <td>5.0</td>\n",
       "      <td>320</td>\n",
       "      <td>259.0</td>\n",
       "      <td>-21.0</td>\n",
       "      <td>0</td>\n",
       "      <td>0</td>\n",
       "      <td>NaN</td>\n",
       "      <td>NaN</td>\n",
       "      <td>NaN</td>\n",
       "      <td>NaN</td>\n",
       "      <td>NaN</td>\n",
       "      <td>NaN</td>\n",
       "    </tr>\n",
       "  </tbody>\n",
       "</table>\n",
       "</div>"
      ],
      "text/plain": [
       "   YEAR MONTH DAY DAY_OF_WEEK AIRLINE  FLIGHT_NUMBER TAIL_NUMBER  \\\n",
       "0  2015     1   1           4      AS             98      N407AS   \n",
       "1  2015     1   1           4      AA           2336      N3KUAA   \n",
       "2  2015     1   1           4      US            840      N171US   \n",
       "3  2015     1   1           4      AA            258      N3HYAA   \n",
       "4  2015     1   1           4      AS            135      N527AS   \n",
       "\n",
       "  ORIGIN_AIRPORT DESTINATION_AIRPORT  SCHEDULED_DEPARTURE  DEPARTURE_TIME  \\\n",
       "0            ANC                 SEA                    5          2354.0   \n",
       "1            LAX                 PBI                   10             2.0   \n",
       "2            SFO                 CLT                   20            18.0   \n",
       "3            LAX                 MIA                   20            15.0   \n",
       "4            SEA                 ANC                   25            24.0   \n",
       "\n",
       "   DEPARTURE_DELAY  TAXI_OUT  WHEELS_OFF  SCHEDULED_TIME  ELAPSED_TIME  \\\n",
       "0            -11.0      21.0        15.0           205.0         194.0   \n",
       "1             -8.0      12.0        14.0           280.0         279.0   \n",
       "2             -2.0      16.0        34.0           286.0         293.0   \n",
       "3             -5.0      15.0        30.0           285.0         281.0   \n",
       "4             -1.0      11.0        35.0           235.0         215.0   \n",
       "\n",
       "   AIR_TIME  DISTANCE  WHEELS_ON  TAXI_IN  SCHEDULED_ARRIVAL  ARRIVAL_TIME  \\\n",
       "0     169.0      1448      404.0      4.0                430         408.0   \n",
       "1     263.0      2330      737.0      4.0                750         741.0   \n",
       "2     266.0      2296      800.0     11.0                806         811.0   \n",
       "3     258.0      2342      748.0      8.0                805         756.0   \n",
       "4     199.0      1448      254.0      5.0                320         259.0   \n",
       "\n",
       "   ARRIVAL_DELAY  DIVERTED  CANCELLED CANCELLATION_REASON  AIR_SYSTEM_DELAY  \\\n",
       "0          -22.0         0          0                 NaN               NaN   \n",
       "1           -9.0         0          0                 NaN               NaN   \n",
       "2            5.0         0          0                 NaN               NaN   \n",
       "3           -9.0         0          0                 NaN               NaN   \n",
       "4          -21.0         0          0                 NaN               NaN   \n",
       "\n",
       "   SECURITY_DELAY  AIRLINE_DELAY  LATE_AIRCRAFT_DELAY  WEATHER_DELAY  \n",
       "0             NaN            NaN                  NaN            NaN  \n",
       "1             NaN            NaN                  NaN            NaN  \n",
       "2             NaN            NaN                  NaN            NaN  \n",
       "3             NaN            NaN                  NaN            NaN  \n",
       "4             NaN            NaN                  NaN            NaN  "
      ]
     },
     "execution_count": 4,
     "metadata": {},
     "output_type": "execute_result"
    }
   ],
   "source": [
    "pd.set_option('display.max_columns', None)\n",
    "df.head(5)"
   ]
  },
  {
   "cell_type": "code",
   "execution_count": 5,
   "id": "2d04a520",
   "metadata": {},
   "outputs": [
    {
     "name": "stdout",
     "output_type": "stream",
     "text": [
      "<class 'pandas.core.frame.DataFrame'>\n",
      "RangeIndex: 5819079 entries, 0 to 5819078\n",
      "Data columns (total 31 columns):\n",
      " #   Column               Dtype  \n",
      "---  ------               -----  \n",
      " 0   YEAR                 object \n",
      " 1   MONTH                object \n",
      " 2   DAY                  object \n",
      " 3   DAY_OF_WEEK          object \n",
      " 4   AIRLINE              object \n",
      " 5   FLIGHT_NUMBER        int64  \n",
      " 6   TAIL_NUMBER          object \n",
      " 7   ORIGIN_AIRPORT       object \n",
      " 8   DESTINATION_AIRPORT  object \n",
      " 9   SCHEDULED_DEPARTURE  int64  \n",
      " 10  DEPARTURE_TIME       float64\n",
      " 11  DEPARTURE_DELAY      float64\n",
      " 12  TAXI_OUT             float64\n",
      " 13  WHEELS_OFF           float64\n",
      " 14  SCHEDULED_TIME       float64\n",
      " 15  ELAPSED_TIME         float64\n",
      " 16  AIR_TIME             float64\n",
      " 17  DISTANCE             int64  \n",
      " 18  WHEELS_ON            float64\n",
      " 19  TAXI_IN              float64\n",
      " 20  SCHEDULED_ARRIVAL    int64  \n",
      " 21  ARRIVAL_TIME         float64\n",
      " 22  ARRIVAL_DELAY        float64\n",
      " 23  DIVERTED             int64  \n",
      " 24  CANCELLED            int64  \n",
      " 25  CANCELLATION_REASON  object \n",
      " 26  AIR_SYSTEM_DELAY     float64\n",
      " 27  SECURITY_DELAY       float64\n",
      " 28  AIRLINE_DELAY        float64\n",
      " 29  LATE_AIRCRAFT_DELAY  float64\n",
      " 30  WEATHER_DELAY        float64\n",
      "dtypes: float64(16), int64(6), object(9)\n",
      "memory usage: 1.3+ GB\n"
     ]
    }
   ],
   "source": [
    "df.info()"
   ]
  },
  {
   "cell_type": "markdown",
   "id": "9bc3c146",
   "metadata": {},
   "source": [
    "### Оставим в датафрейме только те столбцы, которые нам нужны для решения поставленных задач"
   ]
  },
  {
   "cell_type": "code",
   "execution_count": 6,
   "id": "ce5978eb",
   "metadata": {},
   "outputs": [],
   "source": [
    "df=df[['YEAR', 'MONTH', 'DAY', 'DAY_OF_WEEK', 'AIRLINE', 'ORIGIN_AIRPORT', 'DESTINATION_AIRPORT', 'DEPARTURE_DELAY', 'TAXI_OUT', 'TAXI_IN', 'ARRIVAL_DELAY', 'DIVERTED', 'CANCELLED']].copy()"
   ]
  },
  {
   "cell_type": "code",
   "execution_count": 7,
   "id": "18935db1",
   "metadata": {},
   "outputs": [
    {
     "name": "stdout",
     "output_type": "stream",
     "text": [
      "<class 'pandas.core.frame.DataFrame'>\n",
      "RangeIndex: 5819079 entries, 0 to 5819078\n",
      "Data columns (total 13 columns):\n",
      " #   Column               Dtype  \n",
      "---  ------               -----  \n",
      " 0   YEAR                 object \n",
      " 1   MONTH                object \n",
      " 2   DAY                  object \n",
      " 3   DAY_OF_WEEK          object \n",
      " 4   AIRLINE              object \n",
      " 5   ORIGIN_AIRPORT       object \n",
      " 6   DESTINATION_AIRPORT  object \n",
      " 7   DEPARTURE_DELAY      float64\n",
      " 8   TAXI_OUT             float64\n",
      " 9   TAXI_IN              float64\n",
      " 10  ARRIVAL_DELAY        float64\n",
      " 11  DIVERTED             int64  \n",
      " 12  CANCELLED            int64  \n",
      "dtypes: float64(4), int64(2), object(7)\n",
      "memory usage: 577.1+ MB\n"
     ]
    }
   ],
   "source": [
    "df.info()"
   ]
  },
  {
   "cell_type": "markdown",
   "id": "f3eadd50",
   "metadata": {},
   "source": [
    "### Из проведенного исследования нам известно, что в данных за октябрь месяц обозначения аэропортов в столбцах 'ORIGIN_AIRPORT' и'DESTINATION_AIRPORT' представлены в виде 5-и значного цифрового кода, тогда как в остальной части данных - в виде 3-х значного буквенно-цифрового кода"
   ]
  },
  {
   "cell_type": "code",
   "execution_count": 8,
   "id": "6b59f034",
   "metadata": {},
   "outputs": [
    {
     "data": {
      "text/html": [
       "<div>\n",
       "<style scoped>\n",
       "    .dataframe tbody tr th:only-of-type {\n",
       "        vertical-align: middle;\n",
       "    }\n",
       "\n",
       "    .dataframe tbody tr th {\n",
       "        vertical-align: top;\n",
       "    }\n",
       "\n",
       "    .dataframe thead th {\n",
       "        text-align: right;\n",
       "    }\n",
       "</style>\n",
       "<table border=\"1\" class=\"dataframe\">\n",
       "  <thead>\n",
       "    <tr style=\"text-align: right;\">\n",
       "      <th></th>\n",
       "      <th>YEAR</th>\n",
       "      <th>MONTH</th>\n",
       "      <th>DAY</th>\n",
       "      <th>DAY_OF_WEEK</th>\n",
       "      <th>AIRLINE</th>\n",
       "      <th>ORIGIN_AIRPORT</th>\n",
       "      <th>DESTINATION_AIRPORT</th>\n",
       "      <th>DEPARTURE_DELAY</th>\n",
       "      <th>TAXI_OUT</th>\n",
       "      <th>TAXI_IN</th>\n",
       "      <th>ARRIVAL_DELAY</th>\n",
       "      <th>DIVERTED</th>\n",
       "      <th>CANCELLED</th>\n",
       "    </tr>\n",
       "  </thead>\n",
       "  <tbody>\n",
       "    <tr>\n",
       "      <th>4385712</th>\n",
       "      <td>2015</td>\n",
       "      <td>10</td>\n",
       "      <td>1</td>\n",
       "      <td>4</td>\n",
       "      <td>AA</td>\n",
       "      <td>14747</td>\n",
       "      <td>11298</td>\n",
       "      <td>10.0</td>\n",
       "      <td>15.0</td>\n",
       "      <td>4.0</td>\n",
       "      <td>-19.0</td>\n",
       "      <td>0</td>\n",
       "      <td>0</td>\n",
       "    </tr>\n",
       "    <tr>\n",
       "      <th>4385713</th>\n",
       "      <td>2015</td>\n",
       "      <td>10</td>\n",
       "      <td>1</td>\n",
       "      <td>4</td>\n",
       "      <td>DL</td>\n",
       "      <td>14771</td>\n",
       "      <td>13487</td>\n",
       "      <td>11.0</td>\n",
       "      <td>14.0</td>\n",
       "      <td>7.0</td>\n",
       "      <td>-10.0</td>\n",
       "      <td>0</td>\n",
       "      <td>0</td>\n",
       "    </tr>\n",
       "    <tr>\n",
       "      <th>4385714</th>\n",
       "      <td>2015</td>\n",
       "      <td>10</td>\n",
       "      <td>1</td>\n",
       "      <td>4</td>\n",
       "      <td>NK</td>\n",
       "      <td>12889</td>\n",
       "      <td>13487</td>\n",
       "      <td>-5.0</td>\n",
       "      <td>15.0</td>\n",
       "      <td>4.0</td>\n",
       "      <td>-14.0</td>\n",
       "      <td>0</td>\n",
       "      <td>0</td>\n",
       "    </tr>\n",
       "    <tr>\n",
       "      <th>4385715</th>\n",
       "      <td>2015</td>\n",
       "      <td>10</td>\n",
       "      <td>1</td>\n",
       "      <td>4</td>\n",
       "      <td>AA</td>\n",
       "      <td>12892</td>\n",
       "      <td>13303</td>\n",
       "      <td>-3.0</td>\n",
       "      <td>28.0</td>\n",
       "      <td>7.0</td>\n",
       "      <td>7.0</td>\n",
       "      <td>0</td>\n",
       "      <td>0</td>\n",
       "    </tr>\n",
       "    <tr>\n",
       "      <th>4385716</th>\n",
       "      <td>2015</td>\n",
       "      <td>10</td>\n",
       "      <td>1</td>\n",
       "      <td>4</td>\n",
       "      <td>AA</td>\n",
       "      <td>14771</td>\n",
       "      <td>11057</td>\n",
       "      <td>-2.0</td>\n",
       "      <td>12.0</td>\n",
       "      <td>13.0</td>\n",
       "      <td>-11.0</td>\n",
       "      <td>0</td>\n",
       "      <td>0</td>\n",
       "    </tr>\n",
       "  </tbody>\n",
       "</table>\n",
       "</div>"
      ],
      "text/plain": [
       "         YEAR MONTH DAY DAY_OF_WEEK AIRLINE ORIGIN_AIRPORT  \\\n",
       "4385712  2015    10   1           4      AA          14747   \n",
       "4385713  2015    10   1           4      DL          14771   \n",
       "4385714  2015    10   1           4      NK          12889   \n",
       "4385715  2015    10   1           4      AA          12892   \n",
       "4385716  2015    10   1           4      AA          14771   \n",
       "\n",
       "        DESTINATION_AIRPORT  DEPARTURE_DELAY  TAXI_OUT  TAXI_IN  \\\n",
       "4385712               11298             10.0      15.0      4.0   \n",
       "4385713               13487             11.0      14.0      7.0   \n",
       "4385714               13487             -5.0      15.0      4.0   \n",
       "4385715               13303             -3.0      28.0      7.0   \n",
       "4385716               11057             -2.0      12.0     13.0   \n",
       "\n",
       "         ARRIVAL_DELAY  DIVERTED  CANCELLED  \n",
       "4385712          -19.0         0          0  \n",
       "4385713          -10.0         0          0  \n",
       "4385714          -14.0         0          0  \n",
       "4385715            7.0         0          0  \n",
       "4385716          -11.0         0          0  "
      ]
     },
     "execution_count": 8,
     "metadata": {},
     "output_type": "execute_result"
    }
   ],
   "source": [
    "df.loc[df['MONTH'] == '10' ].head()"
   ]
  },
  {
   "cell_type": "code",
   "execution_count": 9,
   "id": "03a7f8cd",
   "metadata": {},
   "outputs": [
    {
     "data": {
      "text/plain": [
       "(486165, 13)"
      ]
     },
     "execution_count": 9,
     "metadata": {},
     "output_type": "execute_result"
    }
   ],
   "source": [
    "df.loc[df['ORIGIN_AIRPORT'].str.len () != 3 ].shape"
   ]
  },
  {
   "cell_type": "markdown",
   "id": "23f140c8",
   "metadata": {},
   "source": [
    "###### По адресу https://github.com/srcole/flightdelay/blob/master/airportcodes/L_AIRPORT_ID.csv получим файл, в котором указано, какому аэропорту соответствует 5-и значный код"
   ]
  },
  {
   "cell_type": "code",
   "execution_count": 10,
   "id": "6e144336",
   "metadata": {},
   "outputs": [],
   "source": [
    "df_digit_aircodes=pd.read_csv('Data/L_AIRPORT_ID.csv', low_memory=False, dtype={'Code':str, 'Description':str})"
   ]
  },
  {
   "cell_type": "code",
   "execution_count": 11,
   "id": "0fc2b5cf",
   "metadata": {},
   "outputs": [
    {
     "data": {
      "text/plain": [
       "(6414, 2)"
      ]
     },
     "execution_count": 11,
     "metadata": {},
     "output_type": "execute_result"
    }
   ],
   "source": [
    "df_digit_aircodes.shape"
   ]
  },
  {
   "cell_type": "code",
   "execution_count": 12,
   "id": "1a5a4909",
   "metadata": {},
   "outputs": [
    {
     "data": {
      "text/html": [
       "<div>\n",
       "<style scoped>\n",
       "    .dataframe tbody tr th:only-of-type {\n",
       "        vertical-align: middle;\n",
       "    }\n",
       "\n",
       "    .dataframe tbody tr th {\n",
       "        vertical-align: top;\n",
       "    }\n",
       "\n",
       "    .dataframe thead th {\n",
       "        text-align: right;\n",
       "    }\n",
       "</style>\n",
       "<table border=\"1\" class=\"dataframe\">\n",
       "  <thead>\n",
       "    <tr style=\"text-align: right;\">\n",
       "      <th></th>\n",
       "      <th>Code</th>\n",
       "      <th>Description</th>\n",
       "    </tr>\n",
       "  </thead>\n",
       "  <tbody>\n",
       "    <tr>\n",
       "      <th>0</th>\n",
       "      <td>10001</td>\n",
       "      <td>Afognak Lake, AK: Afognak Lake Airport</td>\n",
       "    </tr>\n",
       "    <tr>\n",
       "      <th>1</th>\n",
       "      <td>10003</td>\n",
       "      <td>Granite Mountain, AK: Bear Creek Mining Strip</td>\n",
       "    </tr>\n",
       "    <tr>\n",
       "      <th>2</th>\n",
       "      <td>10004</td>\n",
       "      <td>Lik, AK: Lik Mining Camp</td>\n",
       "    </tr>\n",
       "    <tr>\n",
       "      <th>3</th>\n",
       "      <td>10005</td>\n",
       "      <td>Little Squaw, AK: Little Squaw Airport</td>\n",
       "    </tr>\n",
       "    <tr>\n",
       "      <th>4</th>\n",
       "      <td>10006</td>\n",
       "      <td>Kizhuyak, AK: Kizhuyak Bay</td>\n",
       "    </tr>\n",
       "  </tbody>\n",
       "</table>\n",
       "</div>"
      ],
      "text/plain": [
       "    Code                                    Description\n",
       "0  10001         Afognak Lake, AK: Afognak Lake Airport\n",
       "1  10003  Granite Mountain, AK: Bear Creek Mining Strip\n",
       "2  10004                       Lik, AK: Lik Mining Camp\n",
       "3  10005         Little Squaw, AK: Little Squaw Airport\n",
       "4  10006                     Kizhuyak, AK: Kizhuyak Bay"
      ]
     },
     "execution_count": 12,
     "metadata": {},
     "output_type": "execute_result"
    }
   ],
   "source": [
    "df_digit_aircodes.head()"
   ]
  },
  {
   "cell_type": "code",
   "execution_count": 13,
   "id": "58ef2060",
   "metadata": {},
   "outputs": [
    {
     "name": "stdout",
     "output_type": "stream",
     "text": [
      "<class 'pandas.core.frame.DataFrame'>\n",
      "RangeIndex: 6414 entries, 0 to 6413\n",
      "Data columns (total 2 columns):\n",
      " #   Column       Non-Null Count  Dtype \n",
      "---  ------       --------------  ----- \n",
      " 0   Code         6414 non-null   object\n",
      " 1   Description  6414 non-null   object\n",
      "dtypes: object(2)\n",
      "memory usage: 100.3+ KB\n"
     ]
    }
   ],
   "source": [
    "df_digit_aircodes.info()"
   ]
  },
  {
   "cell_type": "markdown",
   "id": "9fa49611",
   "metadata": {},
   "source": [
    "###### По адресу https://github.com/srcole/flightdelay/blob/master/airportcodes/L_AIRPORT.csv получим файл, в котором указано, какому аэропорту соответствует 3-х значный код"
   ]
  },
  {
   "cell_type": "code",
   "execution_count": 14,
   "id": "2c6bdd93",
   "metadata": {},
   "outputs": [],
   "source": [
    "df_norm_aircodes=pd.read_csv('Data/L_AIRPORT.csv', low_memory=False)"
   ]
  },
  {
   "cell_type": "code",
   "execution_count": 15,
   "id": "e7ecd088",
   "metadata": {},
   "outputs": [
    {
     "data": {
      "text/plain": [
       "(6429, 2)"
      ]
     },
     "execution_count": 15,
     "metadata": {},
     "output_type": "execute_result"
    }
   ],
   "source": [
    "df_norm_aircodes.shape"
   ]
  },
  {
   "cell_type": "code",
   "execution_count": 16,
   "id": "73ff0d3e",
   "metadata": {},
   "outputs": [
    {
     "data": {
      "text/html": [
       "<div>\n",
       "<style scoped>\n",
       "    .dataframe tbody tr th:only-of-type {\n",
       "        vertical-align: middle;\n",
       "    }\n",
       "\n",
       "    .dataframe tbody tr th {\n",
       "        vertical-align: top;\n",
       "    }\n",
       "\n",
       "    .dataframe thead th {\n",
       "        text-align: right;\n",
       "    }\n",
       "</style>\n",
       "<table border=\"1\" class=\"dataframe\">\n",
       "  <thead>\n",
       "    <tr style=\"text-align: right;\">\n",
       "      <th></th>\n",
       "      <th>Code</th>\n",
       "      <th>Description</th>\n",
       "    </tr>\n",
       "  </thead>\n",
       "  <tbody>\n",
       "    <tr>\n",
       "      <th>0</th>\n",
       "      <td>01A</td>\n",
       "      <td>Afognak Lake, AK: Afognak Lake Airport</td>\n",
       "    </tr>\n",
       "    <tr>\n",
       "      <th>1</th>\n",
       "      <td>03A</td>\n",
       "      <td>Granite Mountain, AK: Bear Creek Mining Strip</td>\n",
       "    </tr>\n",
       "    <tr>\n",
       "      <th>2</th>\n",
       "      <td>04A</td>\n",
       "      <td>Lik, AK: Lik Mining Camp</td>\n",
       "    </tr>\n",
       "    <tr>\n",
       "      <th>3</th>\n",
       "      <td>05A</td>\n",
       "      <td>Little Squaw, AK: Little Squaw Airport</td>\n",
       "    </tr>\n",
       "    <tr>\n",
       "      <th>4</th>\n",
       "      <td>06A</td>\n",
       "      <td>Kizhuyak, AK: Kizhuyak Bay</td>\n",
       "    </tr>\n",
       "  </tbody>\n",
       "</table>\n",
       "</div>"
      ],
      "text/plain": [
       "  Code                                    Description\n",
       "0  01A         Afognak Lake, AK: Afognak Lake Airport\n",
       "1  03A  Granite Mountain, AK: Bear Creek Mining Strip\n",
       "2  04A                       Lik, AK: Lik Mining Camp\n",
       "3  05A         Little Squaw, AK: Little Squaw Airport\n",
       "4  06A                     Kizhuyak, AK: Kizhuyak Bay"
      ]
     },
     "execution_count": 16,
     "metadata": {},
     "output_type": "execute_result"
    }
   ],
   "source": [
    "df_norm_aircodes.head()"
   ]
  },
  {
   "cell_type": "code",
   "execution_count": 17,
   "id": "537bcbd4",
   "metadata": {},
   "outputs": [
    {
     "name": "stdout",
     "output_type": "stream",
     "text": [
      "<class 'pandas.core.frame.DataFrame'>\n",
      "RangeIndex: 6429 entries, 0 to 6428\n",
      "Data columns (total 2 columns):\n",
      " #   Column       Non-Null Count  Dtype \n",
      "---  ------       --------------  ----- \n",
      " 0   Code         6429 non-null   object\n",
      " 1   Description  6429 non-null   object\n",
      "dtypes: object(2)\n",
      "memory usage: 100.6+ KB\n"
     ]
    }
   ],
   "source": [
    "df_norm_aircodes.info()"
   ]
  },
  {
   "cell_type": "markdown",
   "id": "6c68b2d3",
   "metadata": {},
   "source": [
    "###### Смержим обе эти таблицы по столбцу 'Description'"
   ]
  },
  {
   "cell_type": "code",
   "execution_count": 18,
   "id": "8bc3d093",
   "metadata": {},
   "outputs": [],
   "source": [
    "df_merge_aircodes=df_digit_aircodes.merge(df_norm_aircodes, how='inner', on='Description')"
   ]
  },
  {
   "cell_type": "code",
   "execution_count": 19,
   "id": "f658974c",
   "metadata": {},
   "outputs": [
    {
     "data": {
      "text/plain": [
       "(6443, 3)"
      ]
     },
     "execution_count": 19,
     "metadata": {},
     "output_type": "execute_result"
    }
   ],
   "source": [
    "df_merge_aircodes.shape"
   ]
  },
  {
   "cell_type": "code",
   "execution_count": 20,
   "id": "193c9376",
   "metadata": {},
   "outputs": [
    {
     "data": {
      "text/html": [
       "<div>\n",
       "<style scoped>\n",
       "    .dataframe tbody tr th:only-of-type {\n",
       "        vertical-align: middle;\n",
       "    }\n",
       "\n",
       "    .dataframe tbody tr th {\n",
       "        vertical-align: top;\n",
       "    }\n",
       "\n",
       "    .dataframe thead th {\n",
       "        text-align: right;\n",
       "    }\n",
       "</style>\n",
       "<table border=\"1\" class=\"dataframe\">\n",
       "  <thead>\n",
       "    <tr style=\"text-align: right;\">\n",
       "      <th></th>\n",
       "      <th>Code_x</th>\n",
       "      <th>Description</th>\n",
       "      <th>Code_y</th>\n",
       "    </tr>\n",
       "  </thead>\n",
       "  <tbody>\n",
       "    <tr>\n",
       "      <th>0</th>\n",
       "      <td>10001</td>\n",
       "      <td>Afognak Lake, AK: Afognak Lake Airport</td>\n",
       "      <td>01A</td>\n",
       "    </tr>\n",
       "    <tr>\n",
       "      <th>1</th>\n",
       "      <td>10003</td>\n",
       "      <td>Granite Mountain, AK: Bear Creek Mining Strip</td>\n",
       "      <td>03A</td>\n",
       "    </tr>\n",
       "    <tr>\n",
       "      <th>2</th>\n",
       "      <td>10004</td>\n",
       "      <td>Lik, AK: Lik Mining Camp</td>\n",
       "      <td>04A</td>\n",
       "    </tr>\n",
       "    <tr>\n",
       "      <th>3</th>\n",
       "      <td>10005</td>\n",
       "      <td>Little Squaw, AK: Little Squaw Airport</td>\n",
       "      <td>05A</td>\n",
       "    </tr>\n",
       "    <tr>\n",
       "      <th>4</th>\n",
       "      <td>10006</td>\n",
       "      <td>Kizhuyak, AK: Kizhuyak Bay</td>\n",
       "      <td>06A</td>\n",
       "    </tr>\n",
       "  </tbody>\n",
       "</table>\n",
       "</div>"
      ],
      "text/plain": [
       "  Code_x                                    Description Code_y\n",
       "0  10001         Afognak Lake, AK: Afognak Lake Airport    01A\n",
       "1  10003  Granite Mountain, AK: Bear Creek Mining Strip    03A\n",
       "2  10004                       Lik, AK: Lik Mining Camp    04A\n",
       "3  10005         Little Squaw, AK: Little Squaw Airport    05A\n",
       "4  10006                     Kizhuyak, AK: Kizhuyak Bay    06A"
      ]
     },
     "execution_count": 20,
     "metadata": {},
     "output_type": "execute_result"
    }
   ],
   "source": [
    "df_merge_aircodes.head()"
   ]
  },
  {
   "cell_type": "code",
   "execution_count": 21,
   "id": "892fe5a1",
   "metadata": {},
   "outputs": [
    {
     "name": "stdout",
     "output_type": "stream",
     "text": [
      "<class 'pandas.core.frame.DataFrame'>\n",
      "Int64Index: 6443 entries, 0 to 6442\n",
      "Data columns (total 3 columns):\n",
      " #   Column       Non-Null Count  Dtype \n",
      "---  ------       --------------  ----- \n",
      " 0   Code_x       6443 non-null   object\n",
      " 1   Description  6443 non-null   object\n",
      " 2   Code_y       6443 non-null   object\n",
      "dtypes: object(3)\n",
      "memory usage: 201.3+ KB\n"
     ]
    }
   ],
   "source": [
    "df_merge_aircodes.info()"
   ]
  },
  {
   "cell_type": "code",
   "execution_count": 22,
   "id": "d199c65d",
   "metadata": {},
   "outputs": [],
   "source": [
    "df_merge_aircodes.rename(columns = {'Code_x':'Code_id', 'Code_y':'Code'}, inplace = True )"
   ]
  },
  {
   "cell_type": "code",
   "execution_count": 23,
   "id": "df420a0b",
   "metadata": {},
   "outputs": [
    {
     "data": {
      "text/html": [
       "<div>\n",
       "<style scoped>\n",
       "    .dataframe tbody tr th:only-of-type {\n",
       "        vertical-align: middle;\n",
       "    }\n",
       "\n",
       "    .dataframe tbody tr th {\n",
       "        vertical-align: top;\n",
       "    }\n",
       "\n",
       "    .dataframe thead th {\n",
       "        text-align: right;\n",
       "    }\n",
       "</style>\n",
       "<table border=\"1\" class=\"dataframe\">\n",
       "  <thead>\n",
       "    <tr style=\"text-align: right;\">\n",
       "      <th></th>\n",
       "      <th>Code_id</th>\n",
       "      <th>Description</th>\n",
       "      <th>Code</th>\n",
       "    </tr>\n",
       "  </thead>\n",
       "  <tbody>\n",
       "    <tr>\n",
       "      <th>0</th>\n",
       "      <td>10001</td>\n",
       "      <td>Afognak Lake, AK: Afognak Lake Airport</td>\n",
       "      <td>01A</td>\n",
       "    </tr>\n",
       "    <tr>\n",
       "      <th>1</th>\n",
       "      <td>10003</td>\n",
       "      <td>Granite Mountain, AK: Bear Creek Mining Strip</td>\n",
       "      <td>03A</td>\n",
       "    </tr>\n",
       "    <tr>\n",
       "      <th>2</th>\n",
       "      <td>10004</td>\n",
       "      <td>Lik, AK: Lik Mining Camp</td>\n",
       "      <td>04A</td>\n",
       "    </tr>\n",
       "    <tr>\n",
       "      <th>3</th>\n",
       "      <td>10005</td>\n",
       "      <td>Little Squaw, AK: Little Squaw Airport</td>\n",
       "      <td>05A</td>\n",
       "    </tr>\n",
       "    <tr>\n",
       "      <th>4</th>\n",
       "      <td>10006</td>\n",
       "      <td>Kizhuyak, AK: Kizhuyak Bay</td>\n",
       "      <td>06A</td>\n",
       "    </tr>\n",
       "  </tbody>\n",
       "</table>\n",
       "</div>"
      ],
      "text/plain": [
       "  Code_id                                    Description Code\n",
       "0   10001         Afognak Lake, AK: Afognak Lake Airport  01A\n",
       "1   10003  Granite Mountain, AK: Bear Creek Mining Strip  03A\n",
       "2   10004                       Lik, AK: Lik Mining Camp  04A\n",
       "3   10005         Little Squaw, AK: Little Squaw Airport  05A\n",
       "4   10006                     Kizhuyak, AK: Kizhuyak Bay  06A"
      ]
     },
     "execution_count": 23,
     "metadata": {},
     "output_type": "execute_result"
    }
   ],
   "source": [
    "df_merge_aircodes.head()"
   ]
  },
  {
   "cell_type": "markdown",
   "id": "5c7e8394",
   "metadata": {},
   "source": [
    "###### Загрузим файл с данными аэропортов, которые представлены в изучаемом нами датафрейме"
   ]
  },
  {
   "cell_type": "code",
   "execution_count": 24,
   "id": "69bc83b6",
   "metadata": {},
   "outputs": [],
   "source": [
    "df_other_aircodes=pd.read_csv('Data/airports.csv', low_memory=False)"
   ]
  },
  {
   "cell_type": "code",
   "execution_count": 25,
   "id": "8ede79a9",
   "metadata": {},
   "outputs": [
    {
     "data": {
      "text/plain": [
       "(322, 7)"
      ]
     },
     "execution_count": 25,
     "metadata": {},
     "output_type": "execute_result"
    }
   ],
   "source": [
    "df_other_aircodes.shape"
   ]
  },
  {
   "cell_type": "code",
   "execution_count": 26,
   "id": "b940e29c",
   "metadata": {},
   "outputs": [
    {
     "data": {
      "text/html": [
       "<div>\n",
       "<style scoped>\n",
       "    .dataframe tbody tr th:only-of-type {\n",
       "        vertical-align: middle;\n",
       "    }\n",
       "\n",
       "    .dataframe tbody tr th {\n",
       "        vertical-align: top;\n",
       "    }\n",
       "\n",
       "    .dataframe thead th {\n",
       "        text-align: right;\n",
       "    }\n",
       "</style>\n",
       "<table border=\"1\" class=\"dataframe\">\n",
       "  <thead>\n",
       "    <tr style=\"text-align: right;\">\n",
       "      <th></th>\n",
       "      <th>IATA_CODE</th>\n",
       "      <th>AIRPORT</th>\n",
       "      <th>CITY</th>\n",
       "      <th>STATE</th>\n",
       "      <th>COUNTRY</th>\n",
       "      <th>LATITUDE</th>\n",
       "      <th>LONGITUDE</th>\n",
       "    </tr>\n",
       "  </thead>\n",
       "  <tbody>\n",
       "    <tr>\n",
       "      <th>0</th>\n",
       "      <td>ABE</td>\n",
       "      <td>Lehigh Valley International Airport</td>\n",
       "      <td>Allentown</td>\n",
       "      <td>PA</td>\n",
       "      <td>USA</td>\n",
       "      <td>40.65236</td>\n",
       "      <td>-75.44040</td>\n",
       "    </tr>\n",
       "    <tr>\n",
       "      <th>1</th>\n",
       "      <td>ABI</td>\n",
       "      <td>Abilene Regional Airport</td>\n",
       "      <td>Abilene</td>\n",
       "      <td>TX</td>\n",
       "      <td>USA</td>\n",
       "      <td>32.41132</td>\n",
       "      <td>-99.68190</td>\n",
       "    </tr>\n",
       "    <tr>\n",
       "      <th>2</th>\n",
       "      <td>ABQ</td>\n",
       "      <td>Albuquerque International Sunport</td>\n",
       "      <td>Albuquerque</td>\n",
       "      <td>NM</td>\n",
       "      <td>USA</td>\n",
       "      <td>35.04022</td>\n",
       "      <td>-106.60919</td>\n",
       "    </tr>\n",
       "    <tr>\n",
       "      <th>3</th>\n",
       "      <td>ABR</td>\n",
       "      <td>Aberdeen Regional Airport</td>\n",
       "      <td>Aberdeen</td>\n",
       "      <td>SD</td>\n",
       "      <td>USA</td>\n",
       "      <td>45.44906</td>\n",
       "      <td>-98.42183</td>\n",
       "    </tr>\n",
       "    <tr>\n",
       "      <th>4</th>\n",
       "      <td>ABY</td>\n",
       "      <td>Southwest Georgia Regional Airport</td>\n",
       "      <td>Albany</td>\n",
       "      <td>GA</td>\n",
       "      <td>USA</td>\n",
       "      <td>31.53552</td>\n",
       "      <td>-84.19447</td>\n",
       "    </tr>\n",
       "  </tbody>\n",
       "</table>\n",
       "</div>"
      ],
      "text/plain": [
       "  IATA_CODE                              AIRPORT         CITY STATE COUNTRY  \\\n",
       "0       ABE  Lehigh Valley International Airport    Allentown    PA     USA   \n",
       "1       ABI             Abilene Regional Airport      Abilene    TX     USA   \n",
       "2       ABQ    Albuquerque International Sunport  Albuquerque    NM     USA   \n",
       "3       ABR            Aberdeen Regional Airport     Aberdeen    SD     USA   \n",
       "4       ABY   Southwest Georgia Regional Airport       Albany    GA     USA   \n",
       "\n",
       "   LATITUDE  LONGITUDE  \n",
       "0  40.65236  -75.44040  \n",
       "1  32.41132  -99.68190  \n",
       "2  35.04022 -106.60919  \n",
       "3  45.44906  -98.42183  \n",
       "4  31.53552  -84.19447  "
      ]
     },
     "execution_count": 26,
     "metadata": {},
     "output_type": "execute_result"
    }
   ],
   "source": [
    "df_other_aircodes.head()"
   ]
  },
  {
   "cell_type": "code",
   "execution_count": 27,
   "id": "75c42488",
   "metadata": {},
   "outputs": [
    {
     "name": "stdout",
     "output_type": "stream",
     "text": [
      "<class 'pandas.core.frame.DataFrame'>\n",
      "RangeIndex: 322 entries, 0 to 321\n",
      "Data columns (total 7 columns):\n",
      " #   Column     Non-Null Count  Dtype  \n",
      "---  ------     --------------  -----  \n",
      " 0   IATA_CODE  322 non-null    object \n",
      " 1   AIRPORT    322 non-null    object \n",
      " 2   CITY       322 non-null    object \n",
      " 3   STATE      322 non-null    object \n",
      " 4   COUNTRY    322 non-null    object \n",
      " 5   LATITUDE   319 non-null    float64\n",
      " 6   LONGITUDE  319 non-null    float64\n",
      "dtypes: float64(2), object(5)\n",
      "memory usage: 17.7+ KB\n"
     ]
    }
   ],
   "source": [
    "df_other_aircodes.info()"
   ]
  },
  {
   "cell_type": "markdown",
   "id": "315b08cf",
   "metadata": {},
   "source": [
    "###### Смержим таблицы df_merge_aircodes и df_other_aircodes, чтобы получить таблицу, в которой будет соответствие используемых в нашем датасете аэропортов по 5-и значному цифровому коду и 3-х значному буквенному"
   ]
  },
  {
   "cell_type": "code",
   "execution_count": 28,
   "id": "2421e948",
   "metadata": {},
   "outputs": [],
   "source": [
    "df_aircodes=df_other_aircodes.merge(df_merge_aircodes, how='inner', left_on='IATA_CODE', right_on='Code')"
   ]
  },
  {
   "cell_type": "code",
   "execution_count": 29,
   "id": "e0052d5d",
   "metadata": {},
   "outputs": [
    {
     "data": {
      "text/plain": [
       "(323, 10)"
      ]
     },
     "execution_count": 29,
     "metadata": {},
     "output_type": "execute_result"
    }
   ],
   "source": [
    "df_aircodes.shape"
   ]
  },
  {
   "cell_type": "code",
   "execution_count": 30,
   "id": "a45708b9",
   "metadata": {},
   "outputs": [
    {
     "data": {
      "text/html": [
       "<div>\n",
       "<style scoped>\n",
       "    .dataframe tbody tr th:only-of-type {\n",
       "        vertical-align: middle;\n",
       "    }\n",
       "\n",
       "    .dataframe tbody tr th {\n",
       "        vertical-align: top;\n",
       "    }\n",
       "\n",
       "    .dataframe thead th {\n",
       "        text-align: right;\n",
       "    }\n",
       "</style>\n",
       "<table border=\"1\" class=\"dataframe\">\n",
       "  <thead>\n",
       "    <tr style=\"text-align: right;\">\n",
       "      <th></th>\n",
       "      <th>IATA_CODE</th>\n",
       "      <th>AIRPORT</th>\n",
       "      <th>CITY</th>\n",
       "      <th>STATE</th>\n",
       "      <th>COUNTRY</th>\n",
       "      <th>LATITUDE</th>\n",
       "      <th>LONGITUDE</th>\n",
       "      <th>Code_id</th>\n",
       "      <th>Description</th>\n",
       "      <th>Code</th>\n",
       "    </tr>\n",
       "  </thead>\n",
       "  <tbody>\n",
       "    <tr>\n",
       "      <th>0</th>\n",
       "      <td>ABE</td>\n",
       "      <td>Lehigh Valley International Airport</td>\n",
       "      <td>Allentown</td>\n",
       "      <td>PA</td>\n",
       "      <td>USA</td>\n",
       "      <td>40.65236</td>\n",
       "      <td>-75.44040</td>\n",
       "      <td>10135</td>\n",
       "      <td>Allentown/Bethlehem/Easton, PA: Lehigh Valley ...</td>\n",
       "      <td>ABE</td>\n",
       "    </tr>\n",
       "    <tr>\n",
       "      <th>1</th>\n",
       "      <td>ABI</td>\n",
       "      <td>Abilene Regional Airport</td>\n",
       "      <td>Abilene</td>\n",
       "      <td>TX</td>\n",
       "      <td>USA</td>\n",
       "      <td>32.41132</td>\n",
       "      <td>-99.68190</td>\n",
       "      <td>10136</td>\n",
       "      <td>Abilene, TX: Abilene Regional</td>\n",
       "      <td>ABI</td>\n",
       "    </tr>\n",
       "    <tr>\n",
       "      <th>2</th>\n",
       "      <td>ABQ</td>\n",
       "      <td>Albuquerque International Sunport</td>\n",
       "      <td>Albuquerque</td>\n",
       "      <td>NM</td>\n",
       "      <td>USA</td>\n",
       "      <td>35.04022</td>\n",
       "      <td>-106.60919</td>\n",
       "      <td>10140</td>\n",
       "      <td>Albuquerque, NM: Albuquerque International Sun...</td>\n",
       "      <td>ABQ</td>\n",
       "    </tr>\n",
       "    <tr>\n",
       "      <th>3</th>\n",
       "      <td>ABR</td>\n",
       "      <td>Aberdeen Regional Airport</td>\n",
       "      <td>Aberdeen</td>\n",
       "      <td>SD</td>\n",
       "      <td>USA</td>\n",
       "      <td>45.44906</td>\n",
       "      <td>-98.42183</td>\n",
       "      <td>10141</td>\n",
       "      <td>Aberdeen, SD: Aberdeen Regional</td>\n",
       "      <td>ABR</td>\n",
       "    </tr>\n",
       "    <tr>\n",
       "      <th>4</th>\n",
       "      <td>ABY</td>\n",
       "      <td>Southwest Georgia Regional Airport</td>\n",
       "      <td>Albany</td>\n",
       "      <td>GA</td>\n",
       "      <td>USA</td>\n",
       "      <td>31.53552</td>\n",
       "      <td>-84.19447</td>\n",
       "      <td>10146</td>\n",
       "      <td>Albany, GA: Southwest Georgia Regional</td>\n",
       "      <td>ABY</td>\n",
       "    </tr>\n",
       "  </tbody>\n",
       "</table>\n",
       "</div>"
      ],
      "text/plain": [
       "  IATA_CODE                              AIRPORT         CITY STATE COUNTRY  \\\n",
       "0       ABE  Lehigh Valley International Airport    Allentown    PA     USA   \n",
       "1       ABI             Abilene Regional Airport      Abilene    TX     USA   \n",
       "2       ABQ    Albuquerque International Sunport  Albuquerque    NM     USA   \n",
       "3       ABR            Aberdeen Regional Airport     Aberdeen    SD     USA   \n",
       "4       ABY   Southwest Georgia Regional Airport       Albany    GA     USA   \n",
       "\n",
       "   LATITUDE  LONGITUDE Code_id  \\\n",
       "0  40.65236  -75.44040   10135   \n",
       "1  32.41132  -99.68190   10136   \n",
       "2  35.04022 -106.60919   10140   \n",
       "3  45.44906  -98.42183   10141   \n",
       "4  31.53552  -84.19447   10146   \n",
       "\n",
       "                                         Description Code  \n",
       "0  Allentown/Bethlehem/Easton, PA: Lehigh Valley ...  ABE  \n",
       "1                      Abilene, TX: Abilene Regional  ABI  \n",
       "2  Albuquerque, NM: Albuquerque International Sun...  ABQ  \n",
       "3                    Aberdeen, SD: Aberdeen Regional  ABR  \n",
       "4             Albany, GA: Southwest Georgia Regional  ABY  "
      ]
     },
     "execution_count": 30,
     "metadata": {},
     "output_type": "execute_result"
    }
   ],
   "source": [
    "df_aircodes.head()"
   ]
  },
  {
   "cell_type": "code",
   "execution_count": 31,
   "id": "71cfd7b6",
   "metadata": {},
   "outputs": [
    {
     "data": {
      "text/html": [
       "<div>\n",
       "<style scoped>\n",
       "    .dataframe tbody tr th:only-of-type {\n",
       "        vertical-align: middle;\n",
       "    }\n",
       "\n",
       "    .dataframe tbody tr th {\n",
       "        vertical-align: top;\n",
       "    }\n",
       "\n",
       "    .dataframe thead th {\n",
       "        text-align: right;\n",
       "    }\n",
       "</style>\n",
       "<table border=\"1\" class=\"dataframe\">\n",
       "  <thead>\n",
       "    <tr style=\"text-align: right;\">\n",
       "      <th></th>\n",
       "      <th>IATA_CODE</th>\n",
       "      <th>AIRPORT</th>\n",
       "      <th>CITY</th>\n",
       "      <th>STATE</th>\n",
       "      <th>COUNTRY</th>\n",
       "      <th>LATITUDE</th>\n",
       "      <th>LONGITUDE</th>\n",
       "      <th>Code_id</th>\n",
       "      <th>Description</th>\n",
       "      <th>Code</th>\n",
       "    </tr>\n",
       "  </thead>\n",
       "  <tbody>\n",
       "    <tr>\n",
       "      <th>318</th>\n",
       "      <td>WYS</td>\n",
       "      <td>Westerly State Airport</td>\n",
       "      <td>West Yellowstone</td>\n",
       "      <td>MT</td>\n",
       "      <td>USA</td>\n",
       "      <td>44.68840</td>\n",
       "      <td>-111.11764</td>\n",
       "      <td>15897</td>\n",
       "      <td>West Yellowstone, MT: Yellowstone</td>\n",
       "      <td>WYS</td>\n",
       "    </tr>\n",
       "    <tr>\n",
       "      <th>319</th>\n",
       "      <td>XNA</td>\n",
       "      <td>Northwest Arkansas Regional Airport</td>\n",
       "      <td>Fayetteville/Springdale/Rogers</td>\n",
       "      <td>AR</td>\n",
       "      <td>USA</td>\n",
       "      <td>36.28187</td>\n",
       "      <td>-94.30681</td>\n",
       "      <td>15919</td>\n",
       "      <td>Fayetteville, AR: Northwest Arkansas Regional</td>\n",
       "      <td>XNA</td>\n",
       "    </tr>\n",
       "    <tr>\n",
       "      <th>320</th>\n",
       "      <td>YAK</td>\n",
       "      <td>Yakutat Airport</td>\n",
       "      <td>Yakutat</td>\n",
       "      <td>AK</td>\n",
       "      <td>USA</td>\n",
       "      <td>59.50336</td>\n",
       "      <td>-139.66023</td>\n",
       "      <td>15991</td>\n",
       "      <td>Yakutat, AK: Yakutat Airport</td>\n",
       "      <td>YAK</td>\n",
       "    </tr>\n",
       "    <tr>\n",
       "      <th>321</th>\n",
       "      <td>YUM</td>\n",
       "      <td>Yuma International Airport</td>\n",
       "      <td>Yuma</td>\n",
       "      <td>AZ</td>\n",
       "      <td>USA</td>\n",
       "      <td>32.65658</td>\n",
       "      <td>-114.60597</td>\n",
       "      <td>13785</td>\n",
       "      <td>Yuma, AZ: Yuma MCAS/Yuma International</td>\n",
       "      <td>YUM</td>\n",
       "    </tr>\n",
       "    <tr>\n",
       "      <th>322</th>\n",
       "      <td>YUM</td>\n",
       "      <td>Yuma International Airport</td>\n",
       "      <td>Yuma</td>\n",
       "      <td>AZ</td>\n",
       "      <td>USA</td>\n",
       "      <td>32.65658</td>\n",
       "      <td>-114.60597</td>\n",
       "      <td>16218</td>\n",
       "      <td>Yuma, AZ: Yuma MCAS/Yuma International</td>\n",
       "      <td>YUM</td>\n",
       "    </tr>\n",
       "  </tbody>\n",
       "</table>\n",
       "</div>"
      ],
      "text/plain": [
       "    IATA_CODE                              AIRPORT  \\\n",
       "318       WYS               Westerly State Airport   \n",
       "319       XNA  Northwest Arkansas Regional Airport   \n",
       "320       YAK                      Yakutat Airport   \n",
       "321       YUM           Yuma International Airport   \n",
       "322       YUM           Yuma International Airport   \n",
       "\n",
       "                               CITY STATE COUNTRY  LATITUDE  LONGITUDE  \\\n",
       "318                West Yellowstone    MT     USA  44.68840 -111.11764   \n",
       "319  Fayetteville/Springdale/Rogers    AR     USA  36.28187  -94.30681   \n",
       "320                         Yakutat    AK     USA  59.50336 -139.66023   \n",
       "321                            Yuma    AZ     USA  32.65658 -114.60597   \n",
       "322                            Yuma    AZ     USA  32.65658 -114.60597   \n",
       "\n",
       "    Code_id                                    Description Code  \n",
       "318   15897              West Yellowstone, MT: Yellowstone  WYS  \n",
       "319   15919  Fayetteville, AR: Northwest Arkansas Regional  XNA  \n",
       "320   15991                   Yakutat, AK: Yakutat Airport  YAK  \n",
       "321   13785         Yuma, AZ: Yuma MCAS/Yuma International  YUM  \n",
       "322   16218         Yuma, AZ: Yuma MCAS/Yuma International  YUM  "
      ]
     },
     "execution_count": 31,
     "metadata": {},
     "output_type": "execute_result"
    }
   ],
   "source": [
    "df_aircodes.tail()"
   ]
  },
  {
   "cell_type": "markdown",
   "id": "53ecf98f",
   "metadata": {},
   "source": [
    "###### Выполним замену 5-и значных цифровых кодов на 3-х значные буквенные"
   ]
  },
  {
   "cell_type": "code",
   "execution_count": 32,
   "id": "e2d02f0c",
   "metadata": {},
   "outputs": [
    {
     "data": {
      "text/plain": [
       "5819079"
      ]
     },
     "execution_count": 32,
     "metadata": {},
     "output_type": "execute_result"
    }
   ],
   "source": [
    "n_fl = len(df)\n",
    "n_fl"
   ]
  },
  {
   "cell_type": "code",
   "execution_count": 33,
   "id": "038107cc",
   "metadata": {},
   "outputs": [
    {
     "data": {
      "application/vnd.jupyter.widget-view+json": {
       "model_id": "7036a8cf93064324aeaeed8037d37322",
       "version_major": 2,
       "version_minor": 0
      },
      "text/plain": [
       "  0%|          | 0/5819079 [00:00<?, ?it/s]"
      ]
     },
     "metadata": {},
     "output_type": "display_data"
    },
    {
     "name": "stdout",
     "output_type": "stream",
     "text": [
      "CPU times: total: 3min 45s\n",
      "Wall time: 3min 49s\n"
     ]
    }
   ],
   "source": [
    "%%time\n",
    "for i in tqdm(range(n_fl)):\n",
    "    if len(df['ORIGIN_AIRPORT'].values[i]) !=3:\n",
    "        df.loc[df['ORIGIN_AIRPORT'] == df['ORIGIN_AIRPORT'].values[i], 'ORIGIN_AIRPORT'] = df_aircodes['IATA_CODE'].loc[df_aircodes['Code_id'] == df['ORIGIN_AIRPORT'].values[i]].values[0]\n",
    "    elif len(df['DESTINATION_AIRPORT'].values[i]) !=3:\n",
    "        df.loc[df['DESTINATION_AIRPORT'] == df['DESTINATION_AIRPORT'].values[i], 'DESTINATION_AIRPORT'] = df_aircodes['IATA_CODE'].loc[df_aircodes['Code_id'] == df['DESTINATION_AIRPORT'].values[i]].values[0]"
   ]
  },
  {
   "cell_type": "code",
   "execution_count": 34,
   "id": "69e02cb8",
   "metadata": {},
   "outputs": [
    {
     "data": {
      "text/html": [
       "<div>\n",
       "<style scoped>\n",
       "    .dataframe tbody tr th:only-of-type {\n",
       "        vertical-align: middle;\n",
       "    }\n",
       "\n",
       "    .dataframe tbody tr th {\n",
       "        vertical-align: top;\n",
       "    }\n",
       "\n",
       "    .dataframe thead th {\n",
       "        text-align: right;\n",
       "    }\n",
       "</style>\n",
       "<table border=\"1\" class=\"dataframe\">\n",
       "  <thead>\n",
       "    <tr style=\"text-align: right;\">\n",
       "      <th></th>\n",
       "      <th>YEAR</th>\n",
       "      <th>MONTH</th>\n",
       "      <th>DAY</th>\n",
       "      <th>DAY_OF_WEEK</th>\n",
       "      <th>AIRLINE</th>\n",
       "      <th>ORIGIN_AIRPORT</th>\n",
       "      <th>DESTINATION_AIRPORT</th>\n",
       "      <th>DEPARTURE_DELAY</th>\n",
       "      <th>TAXI_OUT</th>\n",
       "      <th>TAXI_IN</th>\n",
       "      <th>ARRIVAL_DELAY</th>\n",
       "      <th>DIVERTED</th>\n",
       "      <th>CANCELLED</th>\n",
       "    </tr>\n",
       "  </thead>\n",
       "  <tbody>\n",
       "    <tr>\n",
       "      <th>4385712</th>\n",
       "      <td>2015</td>\n",
       "      <td>10</td>\n",
       "      <td>1</td>\n",
       "      <td>4</td>\n",
       "      <td>AA</td>\n",
       "      <td>SEA</td>\n",
       "      <td>DFW</td>\n",
       "      <td>10.0</td>\n",
       "      <td>15.0</td>\n",
       "      <td>4.0</td>\n",
       "      <td>-19.0</td>\n",
       "      <td>0</td>\n",
       "      <td>0</td>\n",
       "    </tr>\n",
       "    <tr>\n",
       "      <th>4385713</th>\n",
       "      <td>2015</td>\n",
       "      <td>10</td>\n",
       "      <td>1</td>\n",
       "      <td>4</td>\n",
       "      <td>DL</td>\n",
       "      <td>SFO</td>\n",
       "      <td>MSP</td>\n",
       "      <td>11.0</td>\n",
       "      <td>14.0</td>\n",
       "      <td>7.0</td>\n",
       "      <td>-10.0</td>\n",
       "      <td>0</td>\n",
       "      <td>0</td>\n",
       "    </tr>\n",
       "    <tr>\n",
       "      <th>4385714</th>\n",
       "      <td>2015</td>\n",
       "      <td>10</td>\n",
       "      <td>1</td>\n",
       "      <td>4</td>\n",
       "      <td>NK</td>\n",
       "      <td>LAS</td>\n",
       "      <td>MSP</td>\n",
       "      <td>-5.0</td>\n",
       "      <td>15.0</td>\n",
       "      <td>4.0</td>\n",
       "      <td>-14.0</td>\n",
       "      <td>0</td>\n",
       "      <td>0</td>\n",
       "    </tr>\n",
       "    <tr>\n",
       "      <th>4385715</th>\n",
       "      <td>2015</td>\n",
       "      <td>10</td>\n",
       "      <td>1</td>\n",
       "      <td>4</td>\n",
       "      <td>AA</td>\n",
       "      <td>LAX</td>\n",
       "      <td>MIA</td>\n",
       "      <td>-3.0</td>\n",
       "      <td>28.0</td>\n",
       "      <td>7.0</td>\n",
       "      <td>7.0</td>\n",
       "      <td>0</td>\n",
       "      <td>0</td>\n",
       "    </tr>\n",
       "    <tr>\n",
       "      <th>4385716</th>\n",
       "      <td>2015</td>\n",
       "      <td>10</td>\n",
       "      <td>1</td>\n",
       "      <td>4</td>\n",
       "      <td>AA</td>\n",
       "      <td>SFO</td>\n",
       "      <td>CLT</td>\n",
       "      <td>-2.0</td>\n",
       "      <td>12.0</td>\n",
       "      <td>13.0</td>\n",
       "      <td>-11.0</td>\n",
       "      <td>0</td>\n",
       "      <td>0</td>\n",
       "    </tr>\n",
       "  </tbody>\n",
       "</table>\n",
       "</div>"
      ],
      "text/plain": [
       "         YEAR MONTH DAY DAY_OF_WEEK AIRLINE ORIGIN_AIRPORT  \\\n",
       "4385712  2015    10   1           4      AA            SEA   \n",
       "4385713  2015    10   1           4      DL            SFO   \n",
       "4385714  2015    10   1           4      NK            LAS   \n",
       "4385715  2015    10   1           4      AA            LAX   \n",
       "4385716  2015    10   1           4      AA            SFO   \n",
       "\n",
       "        DESTINATION_AIRPORT  DEPARTURE_DELAY  TAXI_OUT  TAXI_IN  \\\n",
       "4385712                 DFW             10.0      15.0      4.0   \n",
       "4385713                 MSP             11.0      14.0      7.0   \n",
       "4385714                 MSP             -5.0      15.0      4.0   \n",
       "4385715                 MIA             -3.0      28.0      7.0   \n",
       "4385716                 CLT             -2.0      12.0     13.0   \n",
       "\n",
       "         ARRIVAL_DELAY  DIVERTED  CANCELLED  \n",
       "4385712          -19.0         0          0  \n",
       "4385713          -10.0         0          0  \n",
       "4385714          -14.0         0          0  \n",
       "4385715            7.0         0          0  \n",
       "4385716          -11.0         0          0  "
      ]
     },
     "execution_count": 34,
     "metadata": {},
     "output_type": "execute_result"
    }
   ],
   "source": [
    "df.loc[df['MONTH'] == '10' ].head()"
   ]
  },
  {
   "cell_type": "code",
   "execution_count": 35,
   "id": "1937e088",
   "metadata": {},
   "outputs": [
    {
     "data": {
      "text/plain": [
       "(0, 13)"
      ]
     },
     "execution_count": 35,
     "metadata": {},
     "output_type": "execute_result"
    }
   ],
   "source": [
    "df.loc[df['ORIGIN_AIRPORT'].str.len () != 3 ].shape"
   ]
  },
  {
   "cell_type": "code",
   "execution_count": 36,
   "id": "f42b19f4",
   "metadata": {},
   "outputs": [
    {
     "data": {
      "text/plain": [
       "(0, 13)"
      ]
     },
     "execution_count": 36,
     "metadata": {},
     "output_type": "execute_result"
    }
   ],
   "source": [
    "df.loc[df['DESTINATION_AIRPORT'].str.len () != 3 ].shape"
   ]
  },
  {
   "cell_type": "code",
   "execution_count": 37,
   "id": "9ceac804",
   "metadata": {},
   "outputs": [
    {
     "data": {
      "text/plain": [
       "YEAR                        0\n",
       "MONTH                       0\n",
       "DAY                         0\n",
       "DAY_OF_WEEK                 0\n",
       "AIRLINE                     0\n",
       "ORIGIN_AIRPORT              0\n",
       "DESTINATION_AIRPORT         0\n",
       "DEPARTURE_DELAY         86153\n",
       "TAXI_OUT                89047\n",
       "TAXI_IN                 92513\n",
       "ARRIVAL_DELAY          105071\n",
       "DIVERTED                    0\n",
       "CANCELLED                   0\n",
       "dtype: int64"
      ]
     },
     "execution_count": 37,
     "metadata": {},
     "output_type": "execute_result"
    }
   ],
   "source": [
    "df.isna().sum()"
   ]
  },
  {
   "cell_type": "markdown",
   "id": "cdc918ae",
   "metadata": {},
   "source": [
    "## 1. Найти аэропорт с минимальной задержкой вылета"
   ]
  },
  {
   "cell_type": "code",
   "execution_count": 38,
   "id": "c296d164",
   "metadata": {},
   "outputs": [],
   "source": [
    "df1 = df.groupby('ORIGIN_AIRPORT')['DEPARTURE_DELAY'].median().sort_values(ascending=True)"
   ]
  },
  {
   "cell_type": "code",
   "execution_count": 39,
   "id": "453943fb",
   "metadata": {},
   "outputs": [
    {
     "data": {
      "text/plain": [
       "ORIGIN_AIRPORT\n",
       "YAK   -12.0\n",
       "CDV   -10.0\n",
       "VEL    -9.0\n",
       "DIK    -8.0\n",
       "PIH    -8.0\n",
       "Name: DEPARTURE_DELAY, dtype: float64"
      ]
     },
     "execution_count": 39,
     "metadata": {},
     "output_type": "execute_result"
    }
   ],
   "source": [
    "df1.head()"
   ]
  },
  {
   "cell_type": "code",
   "execution_count": 40,
   "id": "b016b651",
   "metadata": {},
   "outputs": [
    {
     "data": {
      "text/plain": [
       "'YAK'"
      ]
     },
     "execution_count": 40,
     "metadata": {},
     "output_type": "execute_result"
    }
   ],
   "source": [
    "df1.index[0]"
   ]
  },
  {
   "cell_type": "markdown",
   "id": "cc508386",
   "metadata": {},
   "source": [
    "YAK,Yakutat Airport,Yakutat,AK,USA,59.50336,-139.66023 - аэрпорт с минимальной задержкой вылета"
   ]
  },
  {
   "cell_type": "markdown",
   "id": "44e5dace",
   "metadata": {},
   "source": [
    "## 2. Самая пунктуальная авиакомпания на прилет в Los Angeles International Airport"
   ]
  },
  {
   "cell_type": "markdown",
   "id": "7c2c77d1",
   "metadata": {},
   "source": [
    "LAX,Los Angeles International Airport,Los Angeles,CA,USA,33.94254,-118.40807"
   ]
  },
  {
   "cell_type": "code",
   "execution_count": 41,
   "id": "ee922fad",
   "metadata": {},
   "outputs": [],
   "source": [
    "df2 = df.loc[df['DESTINATION_AIRPORT'] == 'LAX' ]"
   ]
  },
  {
   "cell_type": "code",
   "execution_count": 42,
   "id": "fe041179",
   "metadata": {},
   "outputs": [],
   "source": [
    "df3 = df2.groupby('AIRLINE')['ARRIVAL_DELAY'].median().sort_values(ascending=True)"
   ]
  },
  {
   "cell_type": "code",
   "execution_count": 43,
   "id": "98b0fede",
   "metadata": {},
   "outputs": [
    {
     "data": {
      "text/plain": [
       "AIRLINE\n",
       "HA   -9.0\n",
       "AA   -7.0\n",
       "B6   -7.0\n",
       "DL   -6.0\n",
       "AS   -5.0\n",
       "Name: ARRIVAL_DELAY, dtype: float64"
      ]
     },
     "execution_count": 43,
     "metadata": {},
     "output_type": "execute_result"
    }
   ],
   "source": [
    "df3.head()"
   ]
  },
  {
   "cell_type": "code",
   "execution_count": 44,
   "id": "bc710a56",
   "metadata": {},
   "outputs": [
    {
     "data": {
      "text/plain": [
       "'HA'"
      ]
     },
     "execution_count": 44,
     "metadata": {},
     "output_type": "execute_result"
    }
   ],
   "source": [
    "df3.index[0]"
   ]
  },
  {
   "cell_type": "markdown",
   "id": "c748eef9",
   "metadata": {},
   "source": [
    "HA,Hawaiian Airlines Inc. - самая пунктуальная авиакомпания на прилет в Los Angeles International Airport"
   ]
  },
  {
   "cell_type": "markdown",
   "id": "09b7d53a",
   "metadata": {},
   "source": [
    "## 3. Найти аэропорт, где самолёты проводят больше всего времени на рулении (среднее значение)"
   ]
  },
  {
   "cell_type": "code",
   "execution_count": 45,
   "id": "5583be7a",
   "metadata": {},
   "outputs": [
    {
     "data": {
      "text/html": [
       "<div>\n",
       "<style scoped>\n",
       "    .dataframe tbody tr th:only-of-type {\n",
       "        vertical-align: middle;\n",
       "    }\n",
       "\n",
       "    .dataframe tbody tr th {\n",
       "        vertical-align: top;\n",
       "    }\n",
       "\n",
       "    .dataframe thead th {\n",
       "        text-align: right;\n",
       "    }\n",
       "</style>\n",
       "<table border=\"1\" class=\"dataframe\">\n",
       "  <thead>\n",
       "    <tr style=\"text-align: right;\">\n",
       "      <th></th>\n",
       "      <th>YEAR</th>\n",
       "      <th>MONTH</th>\n",
       "      <th>DAY</th>\n",
       "      <th>DAY_OF_WEEK</th>\n",
       "      <th>AIRLINE</th>\n",
       "      <th>ORIGIN_AIRPORT</th>\n",
       "      <th>DESTINATION_AIRPORT</th>\n",
       "      <th>DEPARTURE_DELAY</th>\n",
       "      <th>TAXI_OUT</th>\n",
       "      <th>TAXI_IN</th>\n",
       "      <th>ARRIVAL_DELAY</th>\n",
       "      <th>DIVERTED</th>\n",
       "      <th>CANCELLED</th>\n",
       "    </tr>\n",
       "  </thead>\n",
       "  <tbody>\n",
       "    <tr>\n",
       "      <th>0</th>\n",
       "      <td>2015</td>\n",
       "      <td>1</td>\n",
       "      <td>1</td>\n",
       "      <td>4</td>\n",
       "      <td>AS</td>\n",
       "      <td>ANC</td>\n",
       "      <td>SEA</td>\n",
       "      <td>-11.0</td>\n",
       "      <td>21.0</td>\n",
       "      <td>4.0</td>\n",
       "      <td>-22.0</td>\n",
       "      <td>0</td>\n",
       "      <td>0</td>\n",
       "    </tr>\n",
       "    <tr>\n",
       "      <th>1</th>\n",
       "      <td>2015</td>\n",
       "      <td>1</td>\n",
       "      <td>1</td>\n",
       "      <td>4</td>\n",
       "      <td>AA</td>\n",
       "      <td>LAX</td>\n",
       "      <td>PBI</td>\n",
       "      <td>-8.0</td>\n",
       "      <td>12.0</td>\n",
       "      <td>4.0</td>\n",
       "      <td>-9.0</td>\n",
       "      <td>0</td>\n",
       "      <td>0</td>\n",
       "    </tr>\n",
       "    <tr>\n",
       "      <th>2</th>\n",
       "      <td>2015</td>\n",
       "      <td>1</td>\n",
       "      <td>1</td>\n",
       "      <td>4</td>\n",
       "      <td>US</td>\n",
       "      <td>SFO</td>\n",
       "      <td>CLT</td>\n",
       "      <td>-2.0</td>\n",
       "      <td>16.0</td>\n",
       "      <td>11.0</td>\n",
       "      <td>5.0</td>\n",
       "      <td>0</td>\n",
       "      <td>0</td>\n",
       "    </tr>\n",
       "    <tr>\n",
       "      <th>3</th>\n",
       "      <td>2015</td>\n",
       "      <td>1</td>\n",
       "      <td>1</td>\n",
       "      <td>4</td>\n",
       "      <td>AA</td>\n",
       "      <td>LAX</td>\n",
       "      <td>MIA</td>\n",
       "      <td>-5.0</td>\n",
       "      <td>15.0</td>\n",
       "      <td>8.0</td>\n",
       "      <td>-9.0</td>\n",
       "      <td>0</td>\n",
       "      <td>0</td>\n",
       "    </tr>\n",
       "    <tr>\n",
       "      <th>4</th>\n",
       "      <td>2015</td>\n",
       "      <td>1</td>\n",
       "      <td>1</td>\n",
       "      <td>4</td>\n",
       "      <td>AS</td>\n",
       "      <td>SEA</td>\n",
       "      <td>ANC</td>\n",
       "      <td>-1.0</td>\n",
       "      <td>11.0</td>\n",
       "      <td>5.0</td>\n",
       "      <td>-21.0</td>\n",
       "      <td>0</td>\n",
       "      <td>0</td>\n",
       "    </tr>\n",
       "  </tbody>\n",
       "</table>\n",
       "</div>"
      ],
      "text/plain": [
       "   YEAR MONTH DAY DAY_OF_WEEK AIRLINE ORIGIN_AIRPORT DESTINATION_AIRPORT  \\\n",
       "0  2015     1   1           4      AS            ANC                 SEA   \n",
       "1  2015     1   1           4      AA            LAX                 PBI   \n",
       "2  2015     1   1           4      US            SFO                 CLT   \n",
       "3  2015     1   1           4      AA            LAX                 MIA   \n",
       "4  2015     1   1           4      AS            SEA                 ANC   \n",
       "\n",
       "   DEPARTURE_DELAY  TAXI_OUT  TAXI_IN  ARRIVAL_DELAY  DIVERTED  CANCELLED  \n",
       "0            -11.0      21.0      4.0          -22.0         0          0  \n",
       "1             -8.0      12.0      4.0           -9.0         0          0  \n",
       "2             -2.0      16.0     11.0            5.0         0          0  \n",
       "3             -5.0      15.0      8.0           -9.0         0          0  \n",
       "4             -1.0      11.0      5.0          -21.0         0          0  "
      ]
     },
     "execution_count": 45,
     "metadata": {},
     "output_type": "execute_result"
    }
   ],
   "source": [
    "pd.set_option('display.max_columns', None)\n",
    "df.head()"
   ]
  },
  {
   "cell_type": "markdown",
   "id": "cc03b6fa",
   "metadata": {},
   "source": [
    "Самолеты при одном полете проводят время на рулении два раза:\n",
    "    1. В аэропорте вылета с момента отправки до момента отрыва колес от взлетной полосы\n",
    "    2. В аэропорте прилета с момента касания колес до взлетной полосы и до момента подъезда к терминалу.\n",
    "Посчитаем каждое из этих времен отдельно."
   ]
  },
  {
   "cell_type": "markdown",
   "id": "c8e44ef5",
   "metadata": {},
   "source": [
    "### 3.1 Найдем аэропорт вылета, где самолеты проводят больше всего времени на рулении с момента отправки до момента отрыва колес от взлетной полосы"
   ]
  },
  {
   "cell_type": "code",
   "execution_count": 46,
   "id": "208e1460",
   "metadata": {},
   "outputs": [],
   "source": [
    "df4 = df.groupby('ORIGIN_AIRPORT')['TAXI_OUT'].mean().sort_values(ascending=False)"
   ]
  },
  {
   "cell_type": "code",
   "execution_count": 47,
   "id": "916b73a2",
   "metadata": {},
   "outputs": [
    {
     "data": {
      "text/plain": [
       "(322,)"
      ]
     },
     "execution_count": 47,
     "metadata": {},
     "output_type": "execute_result"
    }
   ],
   "source": [
    "df4.shape"
   ]
  },
  {
   "cell_type": "code",
   "execution_count": 48,
   "id": "6e5faed0",
   "metadata": {},
   "outputs": [
    {
     "data": {
      "text/plain": [
       "ORIGIN_AIRPORT\n",
       "JFK    26.734585\n",
       "LGA    26.716354\n",
       "ITH    22.533333\n",
       "PHL    21.553135\n",
       "ISN    20.957190\n",
       "Name: TAXI_OUT, dtype: float64"
      ]
     },
     "execution_count": 48,
     "metadata": {},
     "output_type": "execute_result"
    }
   ],
   "source": [
    "df4.head()"
   ]
  },
  {
   "cell_type": "code",
   "execution_count": 49,
   "id": "8b8f106c",
   "metadata": {},
   "outputs": [
    {
     "data": {
      "text/plain": [
       "'JFK'"
      ]
     },
     "execution_count": 49,
     "metadata": {},
     "output_type": "execute_result"
    }
   ],
   "source": [
    "df4.index[0]"
   ]
  },
  {
   "cell_type": "markdown",
   "id": "19837b9c",
   "metadata": {},
   "source": [
    "JFK,John F. Kennedy International AirportВ (New York International Airport),New York,NY,USA,40.63975,-73.77893 - аэропорт вылета, где самолеты проводят больше всего времени на рулении с момента отправки до момента отрыва колес от взлетной полосы"
   ]
  },
  {
   "cell_type": "markdown",
   "id": "8137eafa",
   "metadata": {},
   "source": [
    "### 3.2 Найдем аэропорт прилета, где самолеты проводят больше всего времени на рулении с момента касания колес до взлетной полосы и до момента подъезда к терминалу."
   ]
  },
  {
   "cell_type": "code",
   "execution_count": 50,
   "id": "4427913a",
   "metadata": {},
   "outputs": [],
   "source": [
    "df5 = df.groupby('DESTINATION_AIRPORT')['TAXI_IN'].mean().sort_values(ascending=False)"
   ]
  },
  {
   "cell_type": "code",
   "execution_count": 51,
   "id": "d2c361c0",
   "metadata": {},
   "outputs": [
    {
     "data": {
      "text/plain": [
       "(322,)"
      ]
     },
     "execution_count": 51,
     "metadata": {},
     "output_type": "execute_result"
    }
   ],
   "source": [
    "df5.shape"
   ]
  },
  {
   "cell_type": "code",
   "execution_count": 52,
   "id": "3fdf0ea8",
   "metadata": {},
   "outputs": [
    {
     "data": {
      "text/plain": [
       "'ORD'"
      ]
     },
     "execution_count": 52,
     "metadata": {},
     "output_type": "execute_result"
    }
   ],
   "source": [
    "df5.index[0]"
   ]
  },
  {
   "cell_type": "markdown",
   "id": "fa81faaa",
   "metadata": {},
   "source": [
    "ORD,Chicago O'Hare International Airport,Chicago,IL,USA,41.97960,-87.90446 - аэропорт прилета, где самолеты проводят больше всего времени на рулении с момента касания колес до взлетной полосы и до момента подъезда к терминалу."
   ]
  },
  {
   "cell_type": "markdown",
   "id": "c9b615e6",
   "metadata": {},
   "source": [
    "## 4. Построить модель которая будет выбирать топ 3 аэропорта прилета (вероятность опоздания минимальная – RMSE метрика), в зависимости от аэропорта вылета"
   ]
  },
  {
   "cell_type": "code",
   "execution_count": 53,
   "id": "c815beeb",
   "metadata": {},
   "outputs": [
    {
     "data": {
      "text/plain": [
       "322"
      ]
     },
     "execution_count": 53,
     "metadata": {},
     "output_type": "execute_result"
    }
   ],
   "source": [
    "# получаем список всех аэропортов вылета\n",
    "origin_airport_list = df['ORIGIN_AIRPORT'].tolist()\n",
    "origin_airport_list1 = list(set(origin_airport_list))\n",
    "len(origin_airport_list1)"
   ]
  },
  {
   "cell_type": "code",
   "execution_count": 54,
   "id": "ea8c0b1e",
   "metadata": {},
   "outputs": [],
   "source": [
    "# задаем дату, на которую нужно выполнить предсказание задержки\n",
    "date_specific = '2016-12-31'"
   ]
  },
  {
   "cell_type": "code",
   "execution_count": 55,
   "id": "5edaa4f5",
   "metadata": {},
   "outputs": [],
   "source": [
    "# выбираем один случайным образом\n",
    "random_airport = random.choice(origin_airport_list1)"
   ]
  },
  {
   "cell_type": "code",
   "execution_count": 56,
   "id": "077b1702",
   "metadata": {},
   "outputs": [],
   "source": [
    "# описываем с помощью функции вывод результата\n",
    "def output(airport, df_out):\n",
    "    if len(df_result) == 1:\n",
    "        return f\"Вылет - {airport}.\\n    Прилет - {df_out['Airport'].values[0]} ({int(df_out['Arrival_delay'].values[0])})\"\n",
    "    elif len(df_result) == 2:\n",
    "        return f\"Вылет - {airport}.\\n    Прилет - {df_out['Airport'].values[0]} ({int(df_out['Arrival_delay'].values[0])}), {df_out['Airport'].values[1]} ({int(df_out['Arrival_delay'].values[1])})\"\n",
    "    else:\n",
    "        return f\"Вылет - {airport}.\\n    Прилет - {df_out['Airport'].values[0]} ({int(df_out['Arrival_delay'].values[0])}), {df_out['Airport'].values[1]} ({int(df_out['Arrival_delay'].values[1])}), {df_out['Airport'].values[2]} ({int(df_out['Arrival_delay'].values[2])})\""
   ]
  },
  {
   "cell_type": "code",
   "execution_count": 57,
   "id": "8f1be4ba",
   "metadata": {},
   "outputs": [],
   "source": [
    "# описываем функцию для создания фичей\n",
    "def make_new_features(data, max_lag):\n",
    "    data['year'] = data.index.year\n",
    "    data['month'] = data.index.month\n",
    "    data['day'] = data.index.day\n",
    "    data['dayw'] = data.index.dayofweek\n",
    "    \n",
    "    for lag in range(1,max_lag+1):\n",
    "        data['lag_{}'.format(lag)] = data['ARRIVAL_DELAY'].shift(lag)"
   ]
  },
  {
   "cell_type": "code",
   "execution_count": 58,
   "id": "2fce0fad",
   "metadata": {},
   "outputs": [
    {
     "name": "stdout",
     "output_type": "stream",
     "text": [
      "Вылет - BUF.\n",
      "    Прилет - RSW (-67), EWR (-30), FLL (-11)\n"
     ]
    }
   ],
   "source": [
    "date_specific = '2016-01-10'\n",
    "df_result = pd.DataFrame(columns = ['Airport', 'Arrival_delay'])\n",
    "df6 = df.loc[df['ORIGIN_AIRPORT'] == random_airport]\n",
    "df7=df6[['YEAR', 'MONTH', 'DAY', 'DAY_OF_WEEK', 'ORIGIN_AIRPORT', 'DESTINATION_AIRPORT', 'ARRIVAL_DELAY']].copy()\n",
    "df7.dropna(inplace=True)\n",
    "destination_airport_list = df7['DESTINATION_AIRPORT'].tolist()\n",
    "destination_airport_list1 = list(set(destination_airport_list))\n",
    "for i in destination_airport_list1:\n",
    "    df8 = df7.loc[df7['DESTINATION_AIRPORT'] == i]\n",
    "    df8['DATE'] = df8['YEAR'] + '.' + df8['MONTH'] + '.' + df8['DAY']\n",
    "    df8['DATE'] = pd.to_datetime(df8['DATE'], format = \"%Y.%m.%d\")\n",
    "    df9 = df8.groupby('DATE', as_index = False)['ARRIVAL_DELAY'].median()\n",
    "    df9 = df9.sort_values(by='DATE').reset_index(drop=True)\n",
    "    df9.set_index('DATE', inplace = True)\n",
    "    if len(df9) == 1:\n",
    "        new_row = {'Airport': i, 'Arrival_delay': df9.values[0][0]}\n",
    "        df10=pd.DataFrame([new_row])\n",
    "        df_result = pd.concat([df_result,df10],ignore_index=True)\n",
    "    elif len(df9) <= 20:\n",
    "        df_copy = df9.copy()\n",
    "        make_new_features(df_copy,0)\n",
    "        df_copy.dropna(inplace=True)\n",
    "        X_train,X_test, y_train, y_test = train_test_split(df_copy.drop('ARRIVAL_DELAY',axis=1),\n",
    "                                                  df_copy.ARRIVAL_DELAY,\n",
    "                                                  test_size=0.2,\n",
    "                                                  random_state=1234556)\n",
    "        lr=LinearRegression()\n",
    "        lr.fit(X_train,y_train)\n",
    "    \n",
    "        df_new = pd.DataFrame()\n",
    "        df_new['DATE'] = pd.Series(pd.to_datetime(date_specific))\n",
    "        df_new['ARRIVAL_DELAY'] = 0\n",
    "        forecast = pd.concat([df_copy,df_new],ignore_index=True)\n",
    "        forecast.set_index('DATE',inplace = True)\n",
    "        make_new_features(forecast,0)\n",
    "\n",
    "        value_date = lr.predict(forecast.drop('ARRIVAL_DELAY',axis=1).tail(1))[0]\n",
    "\n",
    "        new_row = {'Airport': i, 'Arrival_delay': value_date}\n",
    "        df10=pd.DataFrame([new_row])\n",
    "        df_result = pd.concat([df_result,df10],ignore_index=True)\n",
    "        df_result.sort_values(by='Arrival_delay', ascending=True, inplace=True)\n",
    "            \n",
    "    else:    \n",
    "        df_copy = df9.copy()\n",
    "        make_new_features(df_copy, 7)\n",
    "        df_copy.dropna(inplace=True)\n",
    "        X_train,X_test, y_train, y_test = train_test_split(df_copy.drop('ARRIVAL_DELAY',axis=1),\n",
    "                                                  df_copy.ARRIVAL_DELAY,\n",
    "                                                  test_size=0.2,\n",
    "                                                  random_state=1234556)\n",
    "        lr=LinearRegression()\n",
    "        lr.fit(X_train,y_train)\n",
    "\n",
    "        df_new = pd.DataFrame()\n",
    "        df_new['DATE'] = pd.Series(pd.to_datetime(date_specific))\n",
    "        df_new['ARRIVAL_DELAY'] = 0\n",
    "        forecast = pd.concat([df_copy,df_new],ignore_index=True)\n",
    "        forecast.set_index('DATE',inplace = True)\n",
    "        make_new_features(forecast, 7)\n",
    "    \n",
    "        value_date = lr.predict(forecast.drop('ARRIVAL_DELAY',axis=1).tail(1))[0]\n",
    "        new_row = {'Airport': i, 'Arrival_delay': value_date}\n",
    "        df10=pd.DataFrame([new_row])\n",
    "        df_result = pd.concat([df_result, df10],ignore_index=True)\n",
    "        df_result.sort_values(by='Arrival_delay', ascending=True, inplace=True)\n",
    "print(output(random_airport, df_result))"
   ]
  },
  {
   "cell_type": "code",
   "execution_count": null,
   "id": "029f2a66",
   "metadata": {},
   "outputs": [],
   "source": []
  },
  {
   "cell_type": "code",
   "execution_count": null,
   "id": "7c512681",
   "metadata": {},
   "outputs": [],
   "source": []
  },
  {
   "cell_type": "code",
   "execution_count": null,
   "id": "ebeff080",
   "metadata": {},
   "outputs": [],
   "source": []
  },
  {
   "cell_type": "code",
   "execution_count": null,
   "id": "d186bc63",
   "metadata": {},
   "outputs": [],
   "source": []
  },
  {
   "cell_type": "code",
   "execution_count": null,
   "id": "d577f492",
   "metadata": {},
   "outputs": [],
   "source": []
  },
  {
   "cell_type": "markdown",
   "id": "16eac4ff",
   "metadata": {},
   "source": [
    "###### Проверка для всех аэропортов на дату 10 января 2016"
   ]
  },
  {
   "cell_type": "code",
   "execution_count": 59,
   "id": "b3b5f1db",
   "metadata": {},
   "outputs": [],
   "source": [
    "date_specific = '2016-01-10'"
   ]
  },
  {
   "cell_type": "code",
   "execution_count": 60,
   "id": "b7eedb66",
   "metadata": {},
   "outputs": [],
   "source": [
    "def output(airport, df_out):\n",
    "    if len(df_result) == 1:\n",
    "        return f\"Вылет - {airport}.\\n    Прилет - {df_out['Airport'].values[0]} ({int(df_out['Arrival_delay'].values[0])})\"\n",
    "    elif len(df_result) == 2:\n",
    "        return f\"Вылет - {airport}.\\n    Прилет - {df_out['Airport'].values[0]} ({int(df_out['Arrival_delay'].values[0])}), {df_out['Airport'].values[1]} ({int(df_out['Arrival_delay'].values[1])})\"\n",
    "    else:\n",
    "        return f\"Вылет - {airport}.\\n    Прилет - {df_out['Airport'].values[0]} ({int(df_out['Arrival_delay'].values[0])}), {df_out['Airport'].values[1]} ({int(df_out['Arrival_delay'].values[1])}), {df_out['Airport'].values[2]} ({int(df_out['Arrival_delay'].values[2])})\""
   ]
  },
  {
   "cell_type": "code",
   "execution_count": 61,
   "id": "cf0d7270",
   "metadata": {},
   "outputs": [],
   "source": [
    "def make_new_features(data, max_lag):\n",
    "    # data['year'] = data.index.year\n",
    "    data['month'] = data.index.month\n",
    "    data['day'] = data.index.day\n",
    "    data['dayw'] = data.index.dayofweek\n",
    "    \n",
    "    for lag in range(1,max_lag+1):\n",
    "        data['lag_{}'.format(lag)] = data['ARRIVAL_DELAY'].shift(lag)"
   ]
  },
  {
   "cell_type": "code",
   "execution_count": 62,
   "id": "d5e70bb8",
   "metadata": {},
   "outputs": [
    {
     "data": {
      "application/vnd.jupyter.widget-view+json": {
       "model_id": "aa607e34bfef4934b578121a3973564a",
       "version_major": 2,
       "version_minor": 0
      },
      "text/plain": [
       "  0%|          | 0/322 [00:00<?, ?it/s]"
      ]
     },
     "metadata": {},
     "output_type": "display_data"
    },
    {
     "ename": "KeyboardInterrupt",
     "evalue": "",
     "output_type": "error",
     "traceback": [
      "\u001b[1;31m---------------------------------------------------------------------------\u001b[0m",
      "\u001b[1;31mKeyboardInterrupt\u001b[0m                         Traceback (most recent call last)",
      "File \u001b[1;32m<timed exec>:65\u001b[0m\n",
      "Cell \u001b[1;32mIn[61], line 8\u001b[0m, in \u001b[0;36mmake_new_features\u001b[1;34m(data, max_lag)\u001b[0m\n\u001b[0;32m      5\u001b[0m data[\u001b[38;5;124m'\u001b[39m\u001b[38;5;124mdayw\u001b[39m\u001b[38;5;124m'\u001b[39m] \u001b[38;5;241m=\u001b[39m data\u001b[38;5;241m.\u001b[39mindex\u001b[38;5;241m.\u001b[39mdayofweek\n\u001b[0;32m      7\u001b[0m \u001b[38;5;28;01mfor\u001b[39;00m lag \u001b[38;5;129;01min\u001b[39;00m \u001b[38;5;28mrange\u001b[39m(\u001b[38;5;241m1\u001b[39m,max_lag\u001b[38;5;241m+\u001b[39m\u001b[38;5;241m1\u001b[39m):\n\u001b[1;32m----> 8\u001b[0m     data[\u001b[38;5;124m'\u001b[39m\u001b[38;5;124mlag_\u001b[39m\u001b[38;5;132;01m{}\u001b[39;00m\u001b[38;5;124m'\u001b[39m\u001b[38;5;241m.\u001b[39mformat(lag)] \u001b[38;5;241m=\u001b[39m data[\u001b[38;5;124m'\u001b[39m\u001b[38;5;124mARRIVAL_DELAY\u001b[39m\u001b[38;5;124m'\u001b[39m]\u001b[38;5;241m.\u001b[39mshift(lag)\n",
      "File \u001b[1;32m~\\anaconda3\\lib\\site-packages\\pandas\\core\\frame.py:3980\u001b[0m, in \u001b[0;36mDataFrame.__setitem__\u001b[1;34m(self, key, value)\u001b[0m\n\u001b[0;32m   3977\u001b[0m     \u001b[38;5;28mself\u001b[39m\u001b[38;5;241m.\u001b[39m_setitem_array([key], value)\n\u001b[0;32m   3978\u001b[0m \u001b[38;5;28;01melse\u001b[39;00m:\n\u001b[0;32m   3979\u001b[0m     \u001b[38;5;66;03m# set column\u001b[39;00m\n\u001b[1;32m-> 3980\u001b[0m     \u001b[38;5;28;43mself\u001b[39;49m\u001b[38;5;241;43m.\u001b[39;49m\u001b[43m_set_item\u001b[49m\u001b[43m(\u001b[49m\u001b[43mkey\u001b[49m\u001b[43m,\u001b[49m\u001b[43m \u001b[49m\u001b[43mvalue\u001b[49m\u001b[43m)\u001b[49m\n",
      "File \u001b[1;32m~\\anaconda3\\lib\\site-packages\\pandas\\core\\frame.py:4187\u001b[0m, in \u001b[0;36mDataFrame._set_item\u001b[1;34m(self, key, value)\u001b[0m\n\u001b[0;32m   4184\u001b[0m         \u001b[38;5;28;01mif\u001b[39;00m \u001b[38;5;28misinstance\u001b[39m(existing_piece, DataFrame):\n\u001b[0;32m   4185\u001b[0m             value \u001b[38;5;241m=\u001b[39m np\u001b[38;5;241m.\u001b[39mtile(value, (\u001b[38;5;28mlen\u001b[39m(existing_piece\u001b[38;5;241m.\u001b[39mcolumns), \u001b[38;5;241m1\u001b[39m))\u001b[38;5;241m.\u001b[39mT\n\u001b[1;32m-> 4187\u001b[0m \u001b[38;5;28;43mself\u001b[39;49m\u001b[38;5;241;43m.\u001b[39;49m\u001b[43m_set_item_mgr\u001b[49m\u001b[43m(\u001b[49m\u001b[43mkey\u001b[49m\u001b[43m,\u001b[49m\u001b[43m \u001b[49m\u001b[43mvalue\u001b[49m\u001b[43m)\u001b[49m\n",
      "File \u001b[1;32m~\\anaconda3\\lib\\site-packages\\pandas\\core\\frame.py:4146\u001b[0m, in \u001b[0;36mDataFrame._set_item_mgr\u001b[1;34m(self, key, value)\u001b[0m\n\u001b[0;32m   4144\u001b[0m     \u001b[38;5;28mself\u001b[39m\u001b[38;5;241m.\u001b[39m_mgr\u001b[38;5;241m.\u001b[39minsert(\u001b[38;5;28mlen\u001b[39m(\u001b[38;5;28mself\u001b[39m\u001b[38;5;241m.\u001b[39m_info_axis), key, value)\n\u001b[0;32m   4145\u001b[0m \u001b[38;5;28;01melse\u001b[39;00m:\n\u001b[1;32m-> 4146\u001b[0m     \u001b[38;5;28;43mself\u001b[39;49m\u001b[38;5;241;43m.\u001b[39;49m\u001b[43m_iset_item_mgr\u001b[49m\u001b[43m(\u001b[49m\u001b[43mloc\u001b[49m\u001b[43m,\u001b[49m\u001b[43m \u001b[49m\u001b[43mvalue\u001b[49m\u001b[43m)\u001b[49m\n\u001b[0;32m   4148\u001b[0m \u001b[38;5;66;03m# check if we are modifying a copy\u001b[39;00m\n\u001b[0;32m   4149\u001b[0m \u001b[38;5;66;03m# try to set first as we want an invalid\u001b[39;00m\n\u001b[0;32m   4150\u001b[0m \u001b[38;5;66;03m# value exception to occur first\u001b[39;00m\n\u001b[0;32m   4151\u001b[0m \u001b[38;5;28;01mif\u001b[39;00m \u001b[38;5;28mlen\u001b[39m(\u001b[38;5;28mself\u001b[39m):\n",
      "File \u001b[1;32m~\\anaconda3\\lib\\site-packages\\pandas\\core\\frame.py:4136\u001b[0m, in \u001b[0;36mDataFrame._iset_item_mgr\u001b[1;34m(self, loc, value, inplace)\u001b[0m\n\u001b[0;32m   4132\u001b[0m \u001b[38;5;28;01mdef\u001b[39;00m \u001b[38;5;21m_iset_item_mgr\u001b[39m(\n\u001b[0;32m   4133\u001b[0m     \u001b[38;5;28mself\u001b[39m, loc: \u001b[38;5;28mint\u001b[39m \u001b[38;5;241m|\u001b[39m \u001b[38;5;28mslice\u001b[39m \u001b[38;5;241m|\u001b[39m np\u001b[38;5;241m.\u001b[39mndarray, value, inplace: \u001b[38;5;28mbool\u001b[39m \u001b[38;5;241m=\u001b[39m \u001b[38;5;28;01mFalse\u001b[39;00m\n\u001b[0;32m   4134\u001b[0m ) \u001b[38;5;241m-\u001b[39m\u001b[38;5;241m>\u001b[39m \u001b[38;5;28;01mNone\u001b[39;00m:\n\u001b[0;32m   4135\u001b[0m     \u001b[38;5;66;03m# when called from _set_item_mgr loc can be anything returned from get_loc\u001b[39;00m\n\u001b[1;32m-> 4136\u001b[0m     \u001b[38;5;28;43mself\u001b[39;49m\u001b[38;5;241;43m.\u001b[39;49m\u001b[43m_mgr\u001b[49m\u001b[38;5;241;43m.\u001b[39;49m\u001b[43miset\u001b[49m\u001b[43m(\u001b[49m\u001b[43mloc\u001b[49m\u001b[43m,\u001b[49m\u001b[43m \u001b[49m\u001b[43mvalue\u001b[49m\u001b[43m,\u001b[49m\u001b[43m \u001b[49m\u001b[43minplace\u001b[49m\u001b[38;5;241;43m=\u001b[39;49m\u001b[43minplace\u001b[49m\u001b[43m)\u001b[49m\n\u001b[0;32m   4137\u001b[0m     \u001b[38;5;28mself\u001b[39m\u001b[38;5;241m.\u001b[39m_clear_item_cache()\n",
      "File \u001b[1;32m~\\anaconda3\\lib\\site-packages\\pandas\\core\\internals\\managers.py:1268\u001b[0m, in \u001b[0;36mBlockManager.iset\u001b[1;34m(self, loc, value, inplace)\u001b[0m\n\u001b[0;32m   1266\u001b[0m     removed_blknos\u001b[38;5;241m.\u001b[39mappend(blkno_l)\n\u001b[0;32m   1267\u001b[0m \u001b[38;5;28;01melse\u001b[39;00m:\n\u001b[1;32m-> 1268\u001b[0m     nb \u001b[38;5;241m=\u001b[39m \u001b[43mblk\u001b[49m\u001b[38;5;241;43m.\u001b[39;49m\u001b[43mdelete\u001b[49m\u001b[43m(\u001b[49m\u001b[43mblk_locs\u001b[49m\u001b[43m)\u001b[49m\n\u001b[0;32m   1269\u001b[0m     blocks_tup \u001b[38;5;241m=\u001b[39m (\n\u001b[0;32m   1270\u001b[0m         \u001b[38;5;28mself\u001b[39m\u001b[38;5;241m.\u001b[39mblocks[:blkno_l] \u001b[38;5;241m+\u001b[39m (nb,) \u001b[38;5;241m+\u001b[39m \u001b[38;5;28mself\u001b[39m\u001b[38;5;241m.\u001b[39mblocks[blkno_l \u001b[38;5;241m+\u001b[39m \u001b[38;5;241m1\u001b[39m :]\n\u001b[0;32m   1271\u001b[0m     )\n\u001b[0;32m   1272\u001b[0m     \u001b[38;5;28mself\u001b[39m\u001b[38;5;241m.\u001b[39mblocks \u001b[38;5;241m=\u001b[39m blocks_tup\n",
      "File \u001b[1;32m~\\anaconda3\\lib\\site-packages\\pandas\\core\\internals\\blocks.py:1921\u001b[0m, in \u001b[0;36mNumpyBlock.delete\u001b[1;34m(self, loc)\u001b[0m\n\u001b[0;32m   1920\u001b[0m \u001b[38;5;28;01mdef\u001b[39;00m \u001b[38;5;21mdelete\u001b[39m(\u001b[38;5;28mself\u001b[39m, loc) \u001b[38;5;241m-\u001b[39m\u001b[38;5;241m>\u001b[39m Block:\n\u001b[1;32m-> 1921\u001b[0m     values \u001b[38;5;241m=\u001b[39m \u001b[43mnp\u001b[49m\u001b[38;5;241;43m.\u001b[39;49m\u001b[43mdelete\u001b[49m\u001b[43m(\u001b[49m\u001b[38;5;28;43mself\u001b[39;49m\u001b[38;5;241;43m.\u001b[39;49m\u001b[43mvalues\u001b[49m\u001b[43m,\u001b[49m\u001b[43m \u001b[49m\u001b[43mloc\u001b[49m\u001b[43m,\u001b[49m\u001b[43m \u001b[49m\u001b[38;5;241;43m0\u001b[39;49m\u001b[43m)\u001b[49m\n\u001b[0;32m   1922\u001b[0m     mgr_locs \u001b[38;5;241m=\u001b[39m \u001b[38;5;28mself\u001b[39m\u001b[38;5;241m.\u001b[39m_mgr_locs\u001b[38;5;241m.\u001b[39mdelete(loc)\n\u001b[0;32m   1923\u001b[0m     \u001b[38;5;28;01mreturn\u001b[39;00m \u001b[38;5;28mtype\u001b[39m(\u001b[38;5;28mself\u001b[39m)(values, placement\u001b[38;5;241m=\u001b[39mmgr_locs, ndim\u001b[38;5;241m=\u001b[39m\u001b[38;5;28mself\u001b[39m\u001b[38;5;241m.\u001b[39mndim)\n",
      "File \u001b[1;32m<__array_function__ internals>:180\u001b[0m, in \u001b[0;36mdelete\u001b[1;34m(*args, **kwargs)\u001b[0m\n",
      "File \u001b[1;32m~\\anaconda3\\lib\\site-packages\\numpy\\lib\\function_base.py:5185\u001b[0m, in \u001b[0;36mdelete\u001b[1;34m(arr, obj, axis)\u001b[0m\n\u001b[0;32m   5182\u001b[0m     slobj[axis] \u001b[38;5;241m=\u001b[39m keep\n\u001b[0;32m   5183\u001b[0m     new \u001b[38;5;241m=\u001b[39m arr[\u001b[38;5;28mtuple\u001b[39m(slobj)]\n\u001b[1;32m-> 5185\u001b[0m \u001b[38;5;28;01mif\u001b[39;00m wrap:\n\u001b[0;32m   5186\u001b[0m     \u001b[38;5;28;01mreturn\u001b[39;00m wrap(new)\n\u001b[0;32m   5187\u001b[0m \u001b[38;5;28;01melse\u001b[39;00m:\n",
      "\u001b[1;31mKeyboardInterrupt\u001b[0m: "
     ]
    }
   ],
   "source": [
    "%%time\n",
    "date_specific = '2016-01-10'\n",
    "for j in tqdm(origin_airport_list1):\n",
    "    df_result = pd.DataFrame(columns = ['Airport', 'Arrival_delay'])\n",
    "    # print(\"origin\" + j)\n",
    "    df6 = df.loc[df['ORIGIN_AIRPORT'] == j]\n",
    "    df7=df6[['YEAR', 'MONTH', 'DAY', 'DAY_OF_WEEK', 'ORIGIN_AIRPORT', 'DESTINATION_AIRPORT', 'ARRIVAL_DELAY']].copy()\n",
    "    df7.dropna(inplace=True)\n",
    "    destination_airport_list = df7['DESTINATION_AIRPORT'].tolist()\n",
    "    # destination_airport_list1 = ['LGA', 'MCO']\n",
    "    # destination_airport_list1 = 'MCO'\n",
    "    destination_airport_list1 = list(set(destination_airport_list))\n",
    "    for i in destination_airport_list1:\n",
    "        # print(\"dest\" + i)\n",
    "        df8 = df7.loc[df7['DESTINATION_AIRPORT'] == i]\n",
    "        df8['DATE'] = df8['YEAR'] + '.' + df8['MONTH'] + '.' + df8['DAY']\n",
    "        df8['DATE'] = pd.to_datetime(df8['DATE'], format = \"%Y.%m.%d\")\n",
    "        df9 = df8.groupby('DATE', as_index = False)['ARRIVAL_DELAY'].median()\n",
    "        df9 = df9.sort_values(by='DATE').reset_index(drop=True)\n",
    "        df9.set_index('DATE', inplace = True)\n",
    "        if len(df9) == 1:\n",
    "            new_row = {'Airport': i, 'Arrival_delay': df9.values[0][0]}\n",
    "            df10=pd.DataFrame([new_row])\n",
    "            df_result = pd.concat([df_result,df10],ignore_index=True)\n",
    "        elif len(df9) <= 20:\n",
    "            df_copy = df9.copy()\n",
    "            make_new_features(df_copy,0)\n",
    "            df_copy.dropna(inplace=True)\n",
    "            X_train,X_test, y_train, y_test = train_test_split(df_copy.drop('ARRIVAL_DELAY',axis=1),\n",
    "                                                      df_copy.ARRIVAL_DELAY,\n",
    "                                                      test_size=0.2,\n",
    "                                                      random_state=1234556)\n",
    "            lr=LinearRegression()\n",
    "            lr.fit(X_train,y_train)\n",
    "    \n",
    "            df_new = pd.DataFrame()\n",
    "            df_new['DATE'] = pd.Series(pd.to_datetime(date_specific))\n",
    "            df_new['ARRIVAL_DELAY'] = 0\n",
    "            forecast = pd.concat([df_copy,df_new],ignore_index=True)\n",
    "            forecast.set_index('DATE',inplace = True)\n",
    "            make_new_features(forecast,0)\n",
    "    \n",
    "            value_date = lr.predict(forecast.drop('ARRIVAL_DELAY',axis=1).tail(1))[0]\n",
    "\n",
    "            new_row = {'Airport': i, 'Arrival_delay': value_date}\n",
    "            df10=pd.DataFrame([new_row])\n",
    "            df_result = pd.concat([df_result,df10],ignore_index=True)\n",
    "            df_result.sort_values(by='Arrival_delay', ascending=True, inplace=True)\n",
    "            \n",
    "        else:    \n",
    "            df_copy = df9.copy()\n",
    "            make_new_features(df_copy, 7)\n",
    "            df_copy.dropna(inplace=True)\n",
    "            X_train,X_test, y_train, y_test = train_test_split(df_copy.drop('ARRIVAL_DELAY',axis=1),\n",
    "                                                      df_copy.ARRIVAL_DELAY,\n",
    "                                                      test_size=0.2,\n",
    "                                                      random_state=1234556)\n",
    "            lr=LinearRegression()\n",
    "            lr.fit(X_train,y_train)\n",
    "    \n",
    "            df_new = pd.DataFrame()\n",
    "            df_new['DATE'] = pd.Series(pd.to_datetime(date_specific))\n",
    "            df_new['ARRIVAL_DELAY'] = 0\n",
    "            forecast = pd.concat([df_copy,df_new],ignore_index=True)\n",
    "            forecast.set_index('DATE',inplace = True)\n",
    "            make_new_features(forecast, 7)\n",
    "    \n",
    "            value_date = lr.predict(forecast.drop('ARRIVAL_DELAY',axis=1).tail(1))[0]\n",
    "            new_row = {'Airport': i, 'Arrival_delay': value_date}\n",
    "            df10=pd.DataFrame([new_row])\n",
    "            df_result = pd.concat([df_result, df10],ignore_index=True)\n",
    "            df_result.sort_values(by='Arrival_delay', ascending=True, inplace=True)\n",
    "    print(output(j, df_result))\n",
    "    print('')\n",
    "    print('')"
   ]
  },
  {
   "cell_type": "code",
   "execution_count": null,
   "id": "1af54fb9",
   "metadata": {},
   "outputs": [],
   "source": []
  }
 ],
 "metadata": {
  "kernelspec": {
   "display_name": "Python 3 (ipykernel)",
   "language": "python",
   "name": "python3"
  },
  "language_info": {
   "codemirror_mode": {
    "name": "ipython",
    "version": 3
   },
   "file_extension": ".py",
   "mimetype": "text/x-python",
   "name": "python",
   "nbconvert_exporter": "python",
   "pygments_lexer": "ipython3",
   "version": "3.10.9"
  },
  "toc": {
   "base_numbering": 1,
   "nav_menu": {},
   "number_sections": true,
   "sideBar": true,
   "skip_h1_title": false,
   "title_cell": "Table of Contents",
   "title_sidebar": "Contents",
   "toc_cell": false,
   "toc_position": {},
   "toc_section_display": true,
   "toc_window_display": false
  }
 },
 "nbformat": 4,
 "nbformat_minor": 5
}
