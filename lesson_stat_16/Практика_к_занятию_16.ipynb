{
  "cells": [
    {
      "cell_type": "code",
      "source": [
        "import pandas as pd\n",
        "import numpy as np\n",
        "import matplotlib.pyplot as plt\n",
        "import random\n",
        "import scipy.stats as sts\n",
        "%matplotlib inline\n",
        "from itertools import product\n",
        "import warnings\n",
        "warnings.filterwarnings('ignore')"
      ],
      "metadata": {
        "id": "i7wvG9ApUfH1"
      },
      "execution_count": 1,
      "outputs": []
    },
    {
      "cell_type": "markdown",
      "metadata": {
        "id": "pDrecLU-4QjS"
      },
      "source": [
        "# Практика"
      ]
    },
    {
      "cell_type": "markdown",
      "metadata": {
        "id": "gUvTNDlMaV-a"
      },
      "source": [
        "## Определение вероятности. События\n",
        "\n",
        "Требуется сгенерировать необходимые выборки и произвести по ним расчеты"
      ]
    },
    {
      "cell_type": "markdown",
      "metadata": {
        "id": "5V70InEBTgup"
      },
      "source": [
        "### Задача 1\n",
        "Брошено две монеты. Найти вероятность того, что монеты выпали разными сторонами"
      ]
    },
    {
      "cell_type": "markdown",
      "source": [],
      "metadata": {
        "id": "tEj5UYFNUksR"
      }
    },
    {
      "cell_type": "markdown",
      "source": [
        "---\n",
        "**Решение**\n",
        "\n",
        "Все четыре события равновероятны.\n",
        "\n",
        "Первое событие - у обеих монет выпала решка \n",
        "\n",
        "P1 = 1/4 = 0.25\n",
        "\n",
        "Второе событие - у обеих монет выпал орел \n",
        "\n",
        "P2 = 1/4 = 0.25\n",
        "\n",
        "Третье событие - у первой выпала решка, у второй орел\n",
        "\n",
        "P3 = 1/4 = 0.25\n",
        "\n",
        "Четвертое событие - у первой выпал орел, у второй решка\n",
        "\n",
        "P4 = 1/4 = 0.25\n",
        "\n",
        "P = P3 + P4 = 0.25 + 0.25 = 0.5"
      ],
      "metadata": {
        "id": "ZVpclo5vUmno"
      }
    },
    {
      "cell_type": "code",
      "execution_count": 6,
      "metadata": {
        "id": "88Iw-SL3jYQV"
      },
      "outputs": [],
      "source": [
        "# бросаем первую монету\n",
        "A = [\"орел\"] + [\"решка\"] \n",
        "# бросаем вторую монету\n",
        "B = [\"орел\"] + [\"решка\"]\n",
        "# задаем число экспериментов\n",
        "n = 100000\n",
        "# формируем датафрейм с нашими экспериментами, столбец A - результат подбрасывания первой монеты, столбец B - второй монеты \n",
        "Z = pd.DataFrame({\"A\":list(map(lambda a: random.choice([\n",
        "                           random.choice(A)\n",
        "                           ]), range(n)\n",
        "                              ))\n",
        "                 , \"B\": list(map(lambda a: random.choice([\n",
        "                           random.choice(B)\n",
        "                           ]), range(n)\n",
        "                              ))})"
      ]
    },
    {
      "cell_type": "code",
      "source": [
        "# считаем статистику случаев, когда обе монеты выпали с разными сторонами\n",
        "p = len(Z[((Z.A == 'решка') & (Z.B == 'орел')) | ((Z.A == 'орел') & (Z.B == 'решка'))])/Z.shape[0]\n",
        "print(f\"{p} - вероятность события, что обе монеты выпали с разными сторонами\")"
      ],
      "metadata": {
        "colab": {
          "base_uri": "https://localhost:8080/"
        },
        "id": "Ao8PKFCrOck1",
        "outputId": "fa2aff1e-b7e8-4209-f259-64da01c4a3cf"
      },
      "execution_count": 7,
      "outputs": [
        {
          "output_type": "stream",
          "name": "stdout",
          "text": [
            "0.49992 - вероятность события, что обе монеты выпали с разными сторонами\n"
          ]
        }
      ]
    },
    {
      "cell_type": "markdown",
      "metadata": {
        "id": "t0XOMos2Tl0e"
      },
      "source": [
        "### Задача 2\n",
        "Брошено три монеты. Описать множество всех элементарных событий. Найти вероятности следующих событий:\n",
        "\n",
        "\n",
        "1.   A = {не выпало ни одного герба}\n",
        "2.   B = {выпало четное число гербов}\n",
        "3.   C = {на третьей монете выпал герб}\n"
      ]
    },
    {
      "cell_type": "markdown",
      "source": [
        "---\n",
        "**Решение**\n",
        "\n",
        "Всего возможно 2 в степени 3, итого 8 вариантов событий\n",
        "\n",
        "Номер события 1-я монета 2-я монета 3-я монета\n",
        "\n",
        "      1          решка      решка      решка\n",
        "      2          орел       решка      решка\n",
        "      3          решка      орел       решка\n",
        "      4          решка      решка      орел\n",
        "      5          орел       орел       решка\n",
        "      6          орел       решка      орел\n",
        "      7          решка      орел       орел\n",
        "      8          орел       орел       орел\n",
        "1. A = {не выпало ни одного герба}\n",
        "P = 1/8 = 0.125\n",
        "2. B = {выпало четное число гербов}\n",
        "P = 3/8 = 0.375\n",
        "3. C = {на третьей монете выпал герб}\n",
        "P = 4/8 = 0.5\n"
      ],
      "metadata": {
        "id": "waNIbHDyYknB"
      }
    },
    {
      "cell_type": "code",
      "execution_count": 8,
      "metadata": {
        "id": "o7NjAE9uUo-L"
      },
      "outputs": [],
      "source": [
        "# бросаем первую монету\n",
        "A = [\"орел\"] + [\"решка\"] \n",
        "# бросаем вторую монету\n",
        "B = [\"орел\"] + [\"решка\"]\n",
        "# бросаем третью монету\n",
        "C = [\"орел\"] + [\"решка\"]\n",
        "# задаем число экспериментов\n",
        "n = 100000\n",
        "# формируем датафрейм с нашими экспериментами, столбец A - результат подбрасывания первой монеты, столбец B - второй монеты, столбец C - третьей монеты \n",
        "Z = pd.DataFrame({\"A\":list(map(lambda a: random.choice([\n",
        "                           random.choice(A)\n",
        "                           ]), range(n)\n",
        "                              ))\n",
        "                 , \"B\": list(map(lambda a: random.choice([\n",
        "                           random.choice(B)\n",
        "                           ]), range(n)\n",
        "                              ))\n",
        "                 ,  \"C\": list(map(lambda a: random.choice([\n",
        "                           random.choice(C)\n",
        "                           ]), range(n)\n",
        "                              ))})"
      ]
    },
    {
      "cell_type": "code",
      "source": [
        "# 1. считаем статистику случаев, когда не выпало ни одного герба\n",
        "p1 = len(Z[(Z.A != 'орел') & (Z.B != 'орел') & (Z.C != 'орел')])/Z.shape[0]\n",
        "print(f\"{p1} - не выпало ни одного герба\")\n",
        "# 2. считаем статистику случаев, когда выпало четное число гербов\n",
        "p2 = len(Z[((Z.A != 'орел') & (Z.B != 'орел') & (Z.C != 'решка')) | ((Z.A != 'орел') & (Z.B != 'решка') & (Z.C != 'орел'))| ((Z.A != 'решка') & (Z.B != 'орел') & (Z.C != 'орел'))])/Z.shape[0]\n",
        "print(f\"{p2} - выпало четное число гербов\")\n",
        "# 3. считаем статистику случаев, когда на третьей монете выпал герб\n",
        "p3 = len(Z[Z.C != 'орел'])/Z.shape[0]\n",
        "print(f\"{p3} - на третьей монете выпал герб\")"
      ],
      "metadata": {
        "colab": {
          "base_uri": "https://localhost:8080/"
        },
        "id": "B0UM4gTobsdP",
        "outputId": "d7299b4b-d9ef-4b41-b4fc-c49f83994336"
      },
      "execution_count": 9,
      "outputs": [
        {
          "output_type": "stream",
          "name": "stdout",
          "text": [
            "0.12548 - не выпало ни одного герба\n",
            "0.37563 - выпало четное число гербов\n",
            "0.49989 - на третьей монете выпал герб\n"
          ]
        }
      ]
    },
    {
      "cell_type": "markdown",
      "metadata": {
        "id": "FTJ_7lbG53Ig"
      },
      "source": [
        "Предлагается также решить задачи: \n",
        "\n",
        "### Задача 3\n",
        "Из двух претендентов E и L на ответственную должность три члена комиссии должны отобрать одного. Каждый член комиссии должен указать либо одного достойного, либо забраковать обоих. Претендент считается выбранным, если он был признана достойным хотя бы двумя членами комиссии.\n",
        "Найти вероятность событий:\n",
        "\n",
        "A = {рекомендован L}, B = {рекомендован E}\n"
      ]
    },
    {
      "cell_type": "markdown",
      "source": [
        "---\n",
        "Решение\n",
        "\n",
        "Создадим таблицу с описанием всех возможных событий и выделим среди них те, по которым нужно посчитать статистику:\n",
        "\n",
        "![image.png](data:image/png;base64,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)\n",
        "\n",
        "Всего 3 в степени 3 события, то есть 27\n",
        "\n",
        "P(A) = 7/27 = 0.259259\n",
        "\n",
        "P(B) = 7/27 = 0.259259\n"
      ],
      "metadata": {
        "id": "bbkwfjzqys_r"
      }
    },
    {
      "cell_type": "code",
      "execution_count": 10,
      "metadata": {
        "id": "zczibr_j53Ih"
      },
      "outputs": [],
      "source": [
        "# выбор первого члена комиссии\n",
        "A = [\"E\"] + [\"L\"]  + [\"никто\"]\n",
        "# выбор второго члена комиссии\n",
        "B = [\"E\"] + [\"L\"]  + [\"никто\"]\n",
        "# выбор третьего члена комиссии\n",
        "C = [\"E\"] + [\"L\"]  + [\"никто\"]\n",
        "# задаем число экспериментов\n",
        "n = 100000\n",
        "# формируем датафрейм с нашими экспериментами, ге столбцы означают выбор каждого члена комиссии соответственно.\n",
        "Z = pd.DataFrame({\"A\":list(map(lambda a: random.choice([\n",
        "                           random.choice(A)\n",
        "                           ]), range(n)\n",
        "                              ))\n",
        "                 , \"B\": list(map(lambda a: random.choice([\n",
        "                           random.choice(B)\n",
        "                           ]), range(n)\n",
        "                              ))\n",
        "                 ,  \"C\": list(map(lambda a: random.choice([\n",
        "                           random.choice(C)\n",
        "                           ]), range(n)\n",
        "                              ))})"
      ]
    },
    {
      "cell_type": "code",
      "source": [
        "# 1. считаем статистику случаев, когда рекомендовали претендента L\n",
        "p1 = len(Z[((Z.A == 'L') & (Z.B == 'L')) | ((Z.B == 'L') & (Z.C == 'L'))| ((Z.A == 'L') & (Z.C == 'L'))])/Z.shape[0]\n",
        "print(f\"{p1} - рекомендован L\")\n",
        "# 2. считаем статистику случаев, когда рекомендовали претендента E\n",
        "p2 = len(Z[((Z.A == 'E') & (Z.B == 'E')) | ((Z.B == 'E') & (Z.C == 'E'))| ((Z.A == 'E') & (Z.C == 'E'))])/Z.shape[0]\n",
        "print(f\"{p2} - рекомендован E\")"
      ],
      "metadata": {
        "colab": {
          "base_uri": "https://localhost:8080/"
        },
        "id": "DBtXqKaEjmt1",
        "outputId": "c5d8018c-f13d-4166-b808-9569034f6cae"
      },
      "execution_count": 11,
      "outputs": [
        {
          "output_type": "stream",
          "name": "stdout",
          "text": [
            "0.25866 - рекомендован L\n",
            "0.25879 - рекомендован E\n"
          ]
        }
      ]
    },
    {
      "cell_type": "markdown",
      "metadata": {
        "id": "peM38mVfYa5B"
      },
      "source": [
        "### Задача 4\n",
        "Брошено две игральных кости. Описать множество элементарных событий. Найти вероятности событий:\n",
        "\n",
        "A = {вышло две \"шестерки\"}\n",
        "\n",
        "B = {сумма выпавших очков не меньше 11}\n",
        "\n",
        "C = {не выпала ни одна \"шестерка\"}"
      ]
    },
    {
      "cell_type": "markdown",
      "source": [
        "---\n",
        "Решение\n",
        "\n",
        "Всего возможно 6 в степени 2 событий - итого 36 \n",
        "Представим множество элементарных событий в виде таблицы:\n",
        "![image.png](data:image/png;base64,iVBORw0KGgoAAAANSUhEUgAAAgkAAAMNCAYAAAAShOdaAAAgAElEQVR4nOzdQUhb+f7//+f5U1e3XbVznZ9QvFI10G9azOyazHUKv9IhlgGhRYVyx8WgGUpRu5CCV7IQrzC4aFKGoabMIlMKtdyCMIyh4sA0bZzdKG3+wokRG4R+r4yzqned3yKJjZ3YVhPzSczrAQd6TmLy/pyk5p3P5318W/F4PI2IiIjIW44A1NXVmY5jm8Ph4PZSp+kwqsZA24zO1wEaaJshna7dPNqyLI1f4zcdhjEav8X/ZzoIERERqUxKEkRERKQgJQkiIiJSkJIEERERKai2k4T1VW61LbEMwBZPvpxh+tnBPNXm/acMtM1kt9xzHgI6hyIih9Yek4QU4R4HDkcP4VTe4agfR0+Y1K4/V7zcB8St+1ule9CTp/j8ykvutM0w0DbPI87wfz8t3cMD2Q/RGcYmj/H1Uie3lzq5vdTG6RI/zYfa+UFbgg/0GjyHxUkS9FhYlodgMu9wxIflCZLc9ed2ebSgB8uy8AT3+pMHLBnEY1lYuW0fYzucSvf651773OaLlDrWg3BQ4/dRFcMv8f//zI9aB/o7YJ8zCYtMfB/d5bZcIpHZ/Lvd7YNtMN02wz1auXy22Mf6s9OjuQ+dTm7/cIoTJX785fALGr6tkA+19VXuPW7Anx2vf/g4sevFfyOvqXNYMgsMTe72ay33i+Rdv/wj+CyLXkYJuA8wzP2I+LBaHtK1kiadzmwrXQ/prbRExqgiX/9kkN6HXazkzm/ATaijWj4ooRTv/8m88c/2h+iojiwpq9jxZ0V8dMT76T/A3wH7ShK6R0ZwTX+3czYhKxW+yQQjzNk29t1upvv8FJcn1NO91MmNq3/5wPu/Y8r72RIDX66yucv9Nu8/zbv9XY+5wXTbU56sw/L4DAPjG3+6b2bGY4MX/z7Ox2S+CWe+vWd+brdYd8aw+/Puy8lT3Mj7ED/R3kATr/n9nY+XiaHwNH8NnsMS6Q8EcIfGKfS5mQz2MkQg8wtwtn+XX/5eptJpYoMtZYh2LyL4OkL0z8YYbH5ztHkwRmywOfOtZ8dvvcwvxNy3oIIzIxFf5hdm3s996P3entGolM+Rol//5kFisUFyp7j5Uhdu4iSqJA8ryfs/b/wtp90QT1TNbFXx4wdIEhwP0T86fKBfnvY3k9DUy7XuQrMJKX6JLNJ9rZdGgPYLdDPNfNGzCWWwvsq9yT8+6K6b9xPEzjbwPyfh9Pm/wb//980H5/oGvz0/ziftR2F9i1f8waMQ/GP72zs8+mKXb+/viSH/eUsi9Zo1jvHRro+3xZMv53nUem57psA//Jo7u9UD1OI53K/WQUb7C32bSPLTwwX6R7O/AL2d9BNipkI+3N4rmSBOP53ewjd7O/shNPPml17yJx4uuOm6lPl1v7K8gNvtZuHhT9u/8CMzIdzunR8CH3a/CL5eCOd/2x6vkGWPUr/+K8ss4KS1+T33qxQlHX+EyaEF3F2XqJbhl2L8yWAvQ85Zpnb5v1Yq+y5cbP9q99mEnVycatzvs+xf7Pqbb7/vr2PY4sk/X9Bw5W8f8Mgb/Dz5B57+7DfyT/8PHl7yIvtNdTP6irUrrXy2/SF0nMv/yvv2frUVT8Fv7++L4a3nLdoWT0IvaRpu3j0LXd/gt+d/4+vR+u1D+48/32E5h8XxDu/+bWInN6crbcJgNyvLLLzr9rd+6SV/eshC/2h21iFJIg7O0VH6Fx7yUxIgwkzITVeXM+9BPvR+O79tNl/qwr2wzEqJhlqs0r3+mW+U7sAwB/x5UVJFjz83c2R1EOqfJTZYNSkCUOT4k0F6h5zMHnSGQDFXNzQWmk1opKkVpnNTB9F5pmml6YCShHdVu3u+za6R/3gGJuffWaC3PJ75ttx9/t3Pl0k8foVvO+neLs6r5/8OHyf2ywawxf//+A885+vf8SgAf/Cft5Krd8VQ+HmLszyeKTL8x9WjwC7nMvWatT/95F/4+Oze4n//WKrzHBatudC3iWZanRDKfYpGZghV0zfE9/IyHHBnx5f91vSnaQcvnf0LPPwpmRm/u4tLl04X+IB///12FLe1DL07gSm3Er3+EV8LQwQIV9mHZNHj9069qXk5PV5FxYtZ+x5/kmDvEM7ZqbIkhUVdArk9m5D3SdI+dpfu6b5M4WJfgpG5MdqLjXIXJ67+/U3B3G5FbSfr+eQsvErtMpvwyxJ3Emfwj77vQymXeFzg49DO2YkT7Q00/ft/Wc5+8z6T+xA6eZSGtz/M1rd4xXE+zk+c3hPDbs+7X8vjM5nny69PKHQuG4/R9Kef/i//eb63+D9kLNV2Dktl+9tEIu/Y1Cz9oY7MB1tHnMBKeX4ZlMQHTA83X+rCHZohkvyJhwv5SxMrLC9kvjV5O/tZePgTwZlQZuq1uRXn9pr7B94v4qNlyMls9oMkvRKg0mo8i339Iz6LjniAlbwZk2pSqvd/tdVk5Oxv/CssL0CoI1dr08LQAiwMtRzIVUTF/Z2E3GzCxHTewXbGbBvbtrHtB/QaWGrYIX99u4DYv1/vmMp+v6N81v831iaTb2YuTtbzydmX3PniBWtX/k9eslLPmSsQC70p5FsOv3hrKv1DYyjwvHuWKeJ7O0HYVW5ceUWFhdb0a+scllju28RQKO9gpigx8y1pZwFg5cvOFHTsvMQrGfS8KTJsvkSXO0RHyxAL/Z1vfgEmE8Rz35q8nfQvDDEUKlDf8KH3e0tkssJmEqCI1z9T8FnNCQKw//Eng3jyC1l/elhdNRk5+xp//u1p0ukVAm5wB1ZIH8B7oeg/ptQ+dpfuvP2o/83lj5mt5wPqFt4lcwnkQNs8j57D2uT8B9UZbNckfPGChm//vuMDJV/TsGvX23b1aTOXz77k8XYMR/mfz48D/Gma/PToBS7zgrHsVH6hb7sfHMOfnnePniV59Bx4/iaegba3ryzId5TPfjiH59+/bt937HHDnxKMmjqHB8A7NUt/3n7uuuc3m6fAumXmEsgd3yIq5O8lNA/GWAnAUMubMbQ87MqbDm/mUlfmO/2OpYaVZRbcp8ksv3rp7Ae2k4gWTrsXWF7Zw/28U5lL47IxjJ8O7DjPlWJfr39kkqEFYGGIlvz7VsrlG3uwr/E3X6Ir3vHm/TVEdc245dnf///yseLxeFqtokvg2RID1+HrMl/Lf6haRRs6h++iVtEH1Co34sPqgNl0Zf9iV6tgjb/Wx1/bf5a5hJZ/eQk7psllr3QOa0dkJpT37V9EKpWShJLY4MW//zxNLnuhc1g7ImRyBKUIIpXuiOkADofMX4WUYugc1o5M4ZWIVD4rHo+nnU7n++8pIiIiNeUIgG3bpuPYVrWFi4YcqsLFCqTCRRVuafwaf61S4aKIiIjsSkmCiIiIFKQkQURERApSkiAiIiIFKUkQERGRgkqSJKTCPTgcDnqKa9JQsXJtlCupe2A10nmUD7WjxbNlUYUtCaRIufdAJfQjqWVFJglR/A4HN7nGiKs0AVWWTHOpe7Ry+azpWKqZzqPsQTJI78MuVrJd7lYCbkIdPpQn1IpM87JeRglUWm/vGlTkX1zMtIWGFOFD+T8491cAt3jy2HQs1UznUfageZBYLG/3UhfuoYckkuCttlbAsg+5v8iZJPjQdCyimgQRqWwryyzgpFUJgkjZqXeDiFSwJMHxEO7AijpGihigJEFEKlbE18IQAVYGNY0gYoKWG0SkIkV8Fh3xACuxQZQiiJihJEFEKkySoEcJgkglsOLxeLqurm6fPx7F7+hj+q2jrpE5HvQ27usRK6sL5AbTbb8Se+to0/AFblw9aiSit1VHF8jKP4+7URdIA13wIj6sjtCfj/fPkp4qb2WCugCaGH8En9XB2+8Ad2CFWJmXnfT6W8UmCaVXWUlC5auOJKF6KUnQL0mNX+OvVWoVLSIiIrtSkiAiIiIFKUkQERGRgqx4PJ52Op2m4xAREZEKcwTAtm3TcWxT4eLeqHDxYKlwUYVbGr/GX6tUuCgiIiK7UpIgIiIiBSlJEBERkYKUJIiIiEhBShJERESkoKKThFS4B4fDsb35o6UIq3Js3n/KQNvM9jb9zHRE1St3Lm/d3zIdilS4ZNCT+bvxloVl+YiYDkjKLvce8ASTpkOpacUlCakwNyNe5mwb27aZG3Ex3efn0OQJ66vce9yAf6mT20ud+IePE7u+xLLpuKrOBtNtM9yjlctnTccilS/C5MMuVtJp0uk0s/0hOnxKE2pHBJ9l0csoAbfpWKS4JKGxlwcPesn1e2w878VFgrVU8YFVhJOnuPHDKU5kd0+0N9DEa35fNxpVFaqne6mTG1f/YjoQqQpepvJaRLecdkM8gb5P1govU+k0scEW04EIpa5JSK2ySCtN++sSXflSr1njGB+dNB2ISK2IMDm0gLvrEuVtEiwikP2Li6WRIvzdNK6ROdpL96AVZIsnoZc0DV/gtOlQRA67iA+rI5T5d/8s6UGlCCImlGwmIeq/yAQjfNN7OKcRlsfnecQZ/nH1qOlQRA4/7xTpbE3CyulxFS+KGFKSJCHqd9CXGGEurz7hMFken+FO4gz+vPoEESmP5ktduImTUFGCSNkVmSSkCPcc5gRhiydfKkEQKatkEE/e1QzJnx6ygJNWrTiIlF1xNQnR75lYBJjgomPizfHuu9hjh6Ay4VmSR88BXjDW9uLN8SvnuD1abyqqKrTBdNuvxHK7z+cZmISm4Qvc0PKNvK35El3xFiwrd8BNYGUKr8mYpIwi+KwOQrndhRasIXAHVoipNqXsrHg8nq6rqzMdxza1it4btYo+WGoVrVa5Gr/GX6vUKlpERER2pSRBREREClKSICIiIgVZ8Xg87XQ6TcchIiIiFeYIgG3bpuPYpsLFvVHh4sFS4aIKtzR+jb9WqXBRREREdqUkQURERApSkiAiIiIFKUkQERGRgpQkiIiISEFFJwmpcA8OhyO7+YmWIqoKsnn/KQNtM9ltiWXTAVWx3Lm8dX/LdChSJSI+C8uy8ATVArLWJIMevfYVoMgkIcr3ES9zto1t29ztnqbPf5jShA1+ftyAf6mT20udfH3lJXfGN0wHVYU2mG6b4R6tXD5rOhapGhEfHfF++t2mA5HyiuCzLHoZJaDX3rgik4R2xvJaRDeeckFijVTRYVWKerrzWkT/tek4JLbYNBpTNaqne6mTG1f/YjoQqRpJguMh+keHOW06FCkzL1PpNLHBFtOBCCWtSYjy/cQiLu/57aThcNng58k/aPq8fjtpEJGDkQz2MuScZUr9oUWMOlL0I0T9OPqmM//uvovde8hShGdLDFx/mfn3lXPcvnrUbDwih10ySO+Qk9m0F9B6tIhJxScJ7WPY9hiQK2Kc5649RnvRD1whPm3j9lIbkCu8+1++XmrTFKjIgUgS7B3COZtGkwgi5pX0EsjG815cJFg7PEUJO5xob6CJ1/y+bjoSkcNqheUFCHVkrmqwrBaGFmBhqAXLE9S8gkiZFZckpML05F3NkPolwiKtNB2WFYf1VW7lXc2wGX3FGsf46KTBmEQOtUzRWnp7WyHgBndghXRskGbT4YnUmOKWGxrP401cxOHIHXAxMneIlhpO1vNJYp6BttyB41z+UUsNe7fBdNuvxHK7z+cZmISm4QvcUI2HiOwQwWd1EMrtLrRgDWUSxdig0sRys+LxeLqurs50HNvUKnpv1Cr6YKlVtFrlavwaf61Sq2gRERHZlZIEERERKUhJgoiIiBRkxePxtNPpNB2HiIiIVJgjALZtm45jmwoX90aFiwdLhYsq3NL4Nf5apcJFERER2ZWSBBERESlISYKIiIgUpCRBREREClKSICIiIgWVLEmI+h04HA56woezBeTy+AwDbTPcur9lOpSqlWm1rXMo75Mk6Ml1gcxuvojpoKTMkkEPlmXhCar3p0mlSRKifvoS3XS7SvJolefZEncSf8Nz1nQg1WqD6bYZ7tHKZZ1D+UD9s3ndIKe8psORsongsyx6GSXgNh2LlCBJSBH+bprua19xqvgHq0BbPAm9xNPfzMemQ6la9XQvdXLj6l9MByIiFS/TLjw22GI6EKEESUIqfJOJ1ruMHZr+0Dtt3l/kUes5uj81HYlIbQl15JYbPGjGWcSM4pKEVJibE63cPawZwvoq9yaP8fVovelIRGpIM4OxN0sNKwEYavGhqgSR8isiSUgRvjlB690xDmeKsMWTf76g4ds2TpsORaSGNQ+O0k+IGWUJImV3ZP8/mmJ1Eab7HEznH168iCMywtyDXhqLjc6o//Kf5xC7PkMs//DzeQYen8H/wylOmApNpJYkE8Rx06UlapGyKyJJaGfMthnb3k8R7rlIxDvHg97qTg8yMsV23dv7Wzz5cp7fPr/AjatHDcYlcrhFfB4SwzEGm7P7k0MsuAOEm83GJVKLikgSRD7UBtNtv76ZkXk+z8AkNA0r4ZI/83Y66WixGModcAdYiQ2iHKFWRPBZHYRyuwstWEPgDqwQG9S7oNyseDyerqurMx3HNrWK3hu1ij5YahWtVrkav8Zfq9QqWkRERHalJEFEREQKUpIgIiIiBVnxeDztdDpNxyEiIiIV5giAbdum49imwsW9UeHiwVLhogq3NH6Nv1apcFFERER2pSRBREREClKSICIiIgUpSRAREZGClCSIiIhIQUUmCSnCPQ4cjrzNHy1NZBVhiydfzjDQlreNb5gOqmpt3n/KQNsMt+5vmQ5FqkAy6MGyrOzmIZg0HZGUU+719+iFN6okDZ6679qMtZfikSqT59tOuj81HUU1yzR4ejV8jstnf+U30+FIxUsGPbQ87GIlHVNjp5qTafAUD8wScHfw0HQ4NU5dIKUMMm23YYsnj03HIpUvwuQQBFbU+bE2eZlKp4EkQWUIxpWkJmG6L7fc0EM4VYpHrCyx67nlhqc8WTcdjcghl0wQBx72Wm+WG3wR01GJ1KQiZxIa6X1g05vdS4V7uHjRT5M9xuFYfTjKZz908ll2b/P+U8a+WOKjpTZOG41L5BBbWWYBCITTxJqBZBBPSwe+zjRTXtPBidSWkl7d0Nh7jW6mmT9MtYt5TlxtxcNLXjwzHYnIYeekNbfW0HyJLjfEEypgEym30l4CmVojgYtTjSV91MqxvsUrjvPxYR2fSCVoOY2bOMoJRMwrKkmI+nfWIES/n2DR5eX8IfkQXR7fWYOwHH7B2tkG/uekuZhEDr3mS3S5F3j4UzZLiEwytOCm65LKGEXKraiahPYLrfRddDCRO+AaYe5BL4ckR+D0+WMMfDHDo9yBs2fw/3CKEyaDqkqZSyBjud3n8wxMQtPwBW5cPWoyMKlIzQyGAzxsacEayhzpn00zqByhRmQugQzldhcy7wN3YIWY3gRlZ8Xj8XRdXZ3pOLapVfTeqFX0wVKraLXK1fg1/lqlVtEiIiKyKyUJIiIiUpCSBBERESnIisfjaafTaToOERERqTBHAGzbNh3HNhUu7o0KFw+WChdVuKXxa/y1SoWLIiIisislCSIiIlKQkgQREREpSEmCiIiIFKQkQURERAoqSZKQCvfgcDiy286mT4fB5v2nDLTNZLedTZ/kw+XO4637W6ZDkUoW8WFZVoHNR8R0bCJlkgx6sCwLT9BsO9SiGjxBJkG4GPEyZz84NI2d8m3ef8rY4wb8S39XY6d9yzR4ejV8jstnf+U30+FIZfNOkU5P7TgU8Vl00InXUEgi5ZNpcBUPzBJwd/DQcDRFJglRvp+AkbnD0/lxpw1+noTLP6rzY3Hq6V7qBLZ48th0LFJ1kkHGQ24CK0oRpBZ4mUqngSRB0xkCxSYJqTUSQOKmg4nF7LHuu9hj7UUHVhHWt3gFvPrnDI+eZ49dOcft0XqTUYnUlMjkEAv9s8TUJVik7IqrSUitsgh4v7GxbRt7bgTXdB/+aGmCMy71mjXgk391cnupk9s/nqHp378y/cx0YCK1IsJMCPo7NYsgYkIJChdbacqtNTSex+uCxNphqlw8xkcns/88Wc8nZ+FVSoV3IuWQDI4TcgcYVo4gYkRxSULjKVwkOFQ5Qb7GYzTxmt91NYOIAREmhxboHx1EKw0iZhSZJJzH61ok8ks2S4h+z8SiC+/5Q1LGeLKeT87+wW/R7MzBsySPnh/nk/ajZuMSqQHJ4Dgh+tFKg4g5RV7d0EjvNyNELl7EMZE50n3XpveQ5AhwlM/+dYbfvphnYDJzxPNtJ5+dfPdPydsyl0DGcrvPM+ezafgCN64q4ZJCMrMI7kBYlz1KjclcAhnK7S60YA2BO7BCbLD8c2pWPB5P19XVlf2Jd6NW0XujVtEHS62i1SpX49f4a5VaRYuIiMiulCSIiIhIQUoSREREpCArHo+nnU6n6ThERESkwhwBsG3bdBzbVLi4NypcPFgqXFThlsav8dcqFS6KiIjIrpQkiIiISEFKEkRERKQgJQkiIiJSkJIEERERKai4JCHqx+FwFNj8REsUYCXYvP+UgbYZbt1Xi+j9yp3D3Db9zHREUsmSQQ+WZWU3HxHTAUnZ5d4DnmDSdCg1rbgkoX0M27Z3bHe7ge4LtJcmPsM2mG6b4R6tXD5rOpYqtr7KvccN+Jc6ub3UiX/4OLHrSyybjksqVITJh12spNOk02lm+0N0+JQm1I4IPsuil1ECbtOxSGmXG1Jhvpt2MfLV4UgRoJ7upU5uXP2L6UCq28lT3PjhFCeyuyfaG2jiNb+vG41KKpaXqdgguX53LafdEE+g75O1wstUOk1ssMV0IEKJk4To9xMsdl87RK2i5UCkXrPGMT5Sy215r2zL6K5LlL9JroiUMEmIMj8N3RcOyyyCHIwtnoRe0jTczGnToUjliviy9QgdhPpniQ0qRRAxoWRJQir8HdOuEQ7NSoMciOXxeR5xhn9cPWo6FKlk3inS2ZqEldPjKl4UMaRESUKU7ycW6b7Wi1YaZDfL4zPcSZzBn1efIPI+zZe6cBMnoaIEkbIrSZKQCn/HNN1opUEK2+LJl0oQ5AMlg3jyrmZI/vSQBZy0asVBpOyOFP8QmVkE18g3h+Syx3wbTLf9Siy3+3yegUloGr7ADU2Xf7hnSR49B3jBWNuLN8evnOP2aL2pqKRSNV+iK96CZeUOuAmsTOE1GZOUUQSf1UEot7vQgjUE7sCKalMMsOLxeLqurs50HNvUKnpv1Cr6YKlVtFrlavwaf61Sq2gRERHZlZIEERERKUhJgoiIiBRkxePxtNPpNB2HiIiIVJgjALZtm45jmwoX90aFiwdLhYsq3NL4Nf5apcJFERER2ZWSBBERESlISYKIiIgUpCRBREREClKSICIiIgUVnyRE/Tgcju2tJ5wqQViVY/P+UwbaZra36WemI6pOOo+yHxGfhWVZeIJqAVlrkkGPXvsKUGSSEMXfl2Bkzsa2bey5EZi4yaHJE9ZXufe4Af9SJ7eXOvEPHyd2fYll03FVG51H2Y+Ij454P/1u04FIeUXwWRa9jBLQa29ccUlCao0ErTQ1Zvcbm2gtPqbKcfIUN/JaG59ob6CJ1/y+bjSq6qPzKHuWJDgeon90mNOmQ5Ey8zKVThMbbDEdiFBsktDYy7XuafocfqKkCPf0kRj5ht7G9/9oVUq9Zo1jfHTSdCBVTudR3iMZ7GXIOcuU+kOLGHWk2AdoH7O5i4M+xzS4Rpg7tBnCFk9CL2kavqBvNkXReZT3SAbpHXIym/YCWo8WMan4mgSHg/kLmZqEOW+Ei46ew1OTkGd5fJ5HnOEfV4+aDqWq6TzKuyUJ9g7hnJ1Ckwgi5hWVJKTC3zHtGuGr9sx+Y+83jLgWifxyuLKE5fEZ7iTO4M9bV5e903mU91theQFCHZmrGiyrhaEFWBhqwfIENa8gUmZFJQmNTa2wuMp2SpD6hcgitDYdliWHLZ58qQ+24uk8yofKFK2lt7cVAm5wB1ZIxwZpNh2eSI0priahfYy73dl6hCzXyBxj7cWGVSGeJXn0HOAFY20v3hy/co7bo/Wmoqo+Oo8i8sEi+KwOQrndhRasoUyiGBtUmlhuVjweT9fV1ZmOY5taRe+NWkUfLLWKVqtcjV/jr1VqFS0iIiK7UpIgIiIiBSlJEBERkYKseDyedjqdpuMQERGRCnMEwLZt03FsU+Hi3qhw8WCpcFGFWxq/xl+rVLgoIiIiu1KSICIiIgUpSRAREZGClCSIiIhIQUoSREREpKDik4SoH4fDkd0OX5vozftPGWibyW5LLJsOqErtPI8zTD8zHZFUriRBT64LZHbzRUwHJWWWDHqwLAtPUL0/TSouSYj6cfQlGJmzsW0b+24rExf9REsUnHkb/Py4Af9SJ7eXOvn6ykvujG+YDqr6rK9yL+88+oePE7uuhEverX82rxvklNd0OFI2EXyWRS+jBNymY5GikoTUWgJcXs7nOkO3X6CbBGuHZjahnu681sZ/bToOiS02jcZUhU6e4kbeeTzR3kATr/l93WhUIlKRMu3CY4MtpgMRikwSGptaYXGVnTnBIquHJknIt8HPk3/Q9Hn99oed7FPqNWsc46OTpgORShbqyC03eNCMs4gZR4r66fYx7nY76HNMZw+4cLmgtfi4KsezJQauv8z8+8o5bl89ajaeqrfFk9BLmoYvcNp0KFKhmhmMpRnM7iWDHlpafLSmp9Cig0h5FV242D6WrUewbWz7Gq2LpQirgnzaxu3cWnpTQsWLRVoen+cRZ/iHki35QM2Do/QTYka1iyJlV9pLIKPzTNPNhfaSPmrF0Fp6cZbHZ7iTOIM/rz5B5L2SCeK4Oa0lapGyK2GSEMXfN41r5CsOTY6wvsqtvKsZNqOvtJa+L1s8+VIJgnyYiG9nDUJkcogFdxeXms3FJFKriqtJSIXpuThBboXBNTLHg97Gd/5IVTlZzyeJeQbacgeOc/nHNq2l79WzJI+eA7xgrO3Fm+NXznF7tN5UVFKhvJ1OOloshnIH3AFWYoMoR6gVEXxWB6Hc7kIL1hC4AyvEBvUuKDcrHo+n67Ul0c8AACAASURBVOrqTMexTa2i90atog+WWkWrVa7Gr/HXKrWKFhERkV0pSRAREZGClCSIiIhIQVY8Hk87nU7TcYiIiEiFOQJg27bpOLapcHFvVLh4sFS4qMItjV/jr1UqXBQREZFdKUkQERGRgpQkiIiISEFKEkRERKQgJQkiIiJS0L6ThFS4B4fDQU849fYN9DgcOLKbP1psiJVheXyGgbYZbt3fMh1KVdq8/5SBtpntbfqZ6Yik0iWDHizLym47mz7J4Zd7/T164Y3aR5IQxe9wcJNrjLgK3HZxAkbmsG0b+2430309vJ1HVJ1nS9xJ/A3PWdOBVKn1Ve49bsC/1MntpU78w8eJXV9i2XRcUrGSQQ8tD7tYSadJp9Ok0zHU26dWRPBZFr2MEnCbjkX2kSS0M2bbhbs9RueZpptrudvav2LEtchqVScJWzwJvcTT38zHpkOpVidPcSOvRfSJ9gaaeM3v60ajkooVYXIIAmF1fqxNXqbSaWKDLaYDEUpck5BaS4DrFG+nD4m16s0SNu8v8qj1HN2fmo7kEEm9Zo1jfHTSdCBSkZIJ4sDDXuvNcoMvYjoqkZp0wIWLjTS1HuwzHKj1Ve5NHuPr0XrTkRwimZmZpuFmTpsORSrTyjILQFc4u9SwEsAd6kB5gkj5HXCSkGItcbDPcHC2ePLPFzR826YPsxJaHp/nEWf4x9WjpkORiuakNbfW0HyJLjfEEypgEym3I6V8sMamVlhcJQU7lhxamwrUL1S8//Kf5xC7PkMs//DzeQYen8Gft8YuH2Z5fIY7CZ07eY+W07h5SCIJXhUliBhV2pmE9gt0M8187rLH6PdMLHZzob2kz1Im9XRnq/Ez2wUun4Wm4Qvc1ofcHm3x5EslCPKBmi/R5V7g4U/ZmYPIJEMLbrouKWMQKbd9zCRE8Tv6mM7tLl7EMQGukTke9LYzNjdCz0UHDgBcjMw9oCpzBCmdZ0kePQd4wVjbizfHr5zjtuo95E+aGQwHeNjSgjWUOdI/m9YlkDUjgs/qIJTbXci8D9yBFWJ6E5SdFY/H03V1dabj2KZW0XujVtEHS62i1SpX49f4a5VaRYuIiMiulCSIiIhIQUoSREREpCArHo+nnU6n6ThERESkwhwBsG3bdBzbVLi4NypcPFgqXFThlsav8dcqFS6KiIjIrpQkiIiISEFKEkRERKQgJQkiIiJSkJIEERERKWjfSUIq3IPD4aAnnNrTbdUl05hooC1vG98wHVRV2rz/dMd5nH5mOiKpWBEflmUV2HxETMcmZZMMerAsC09QLcJN2keSEMXvcHCTa4y49nJb9fJ8m9cNUg2J9m59lXuPG/Bnz6F/+Dix60ssm45LKpN3inQ6vWOb7Qf6O/Gajk3KIILPsuhllIDbdCyyjyShnTHb5kFv4x5vk5p18hQ38lpEn2hvoInX/L5uNCqpFskg4yE3gWGlCLXBy1Q6TWywxXQgwr5aRdee2PUZYgAc5/KPf+ezk4YDqnap16xxjM91HuUDRCaHWOifJaYuwSJlpyThnY7y2Q+dfJbd27z/lLEvlvhoqY3TRuOqZls8Cb2kafiCzqF8gAgzIeif1SyCiAm6umEPTlxtxcNLXqjobt+Wx+d5xBn+cfWo6VCkCiSD44TcAbTSIGKGZhL2Yn2LVxznE5Vc7Mvy+Ax3Emfw59UniOwuwuTQAv2zMbTSIGKGZhLeYXn8KU/yiuuWwy9YO9vA/2gtfY8yl5IqQZC9SAbHCdFPp2YRRIzZx0xCFL+jj+nc7uJFHBPgGpnjQW/qHbdV39fv0+ePMfDFDI9yB87qQ25fniV59BzgBWNtL94cv3JOl5TKLjKzCO5AWJc91pwIPquDUG53oQVrCNyBFWKDmlMqNysej6fr6upMx7FNraL3Rq2iD5ZaRatVrsav8dcqtYoWERGRXSlJEBERkYKUJIiIiEhBVjweTzudTtNxiIiISIU5AmDbtuk4tqlwcW9UuHiwVLiowi2NX+OvVSpcFBERkV0pSRAREZGClCSIiIhIQUoSREREpCAlCSIiIlLQvpOEVLgHh8NBTzhV8Hhu80eLjtG4zftPGWibyW47mz7Jh9l5DmeYVrtteZeID8uytjdPMGk6IpGySgY9FfHe30eSEMXvcHCTa4y43ropFeZmxMucbWPbNnMjLqb7/FRznrB5/yljjxvwL3Vye6mT20t/5zN1gdyb9VXu5Z1D//BxYteXWDYdl1SoCL6OOIGVNOl0mvRKAIZ6UZ4gtSGCz7LoZZSA23Qs+0oS2hmz7cJdHRt7efCgl9wtjee9uEiwlvrzXavDBj9PwuV/qfNjUU6e4kZe98wT7Q008ZrfNSMjhSQTxHHSmmv419yK/tyb1A4vU+k0scEW04EA+2oVvQepVRZp5Vr1dYnOWN/iFfDqnzPZVseovXEppF6zxjE+14yMFNI8yGi/RYcFs+lhEp4O4oEVptQlWKTsDjBJSBH+bhrXyBztB/ckByv1mjXg8r86uXESWF/l1he/Mn2+k+5PTQdXrbZ4EnpJ0/AFTpsORSqWdyrNLBYdVgjcAVYGlSGImHBgVzdE/ReZYIRvCi1LVJVjfJT7xnuynk/OwqvUltGIqtny+DyPOMM/rh41HYpUrMya7ExnpiZhpeshLZZHNQkiBhxIkhD1O+hLjDCXV59QlRqPae28hJbHZ7iTOIP/B9V4yO6SwXFC7gDD3sx+82CYgHuBhz8pSxAptxInCSnCPYckQYDszMEf/BbNzhw8S/Lo+XE+ade34L3Z4smXShDkwzS3OmFhmZXcgeRPPFwAZ6uWHETKzYrH4+m6uro9/EgUv6OP6beOukbmeND0PY6+t28Buu9ij31YZULFdYFcX+XWFy9Yy+56vq2seoSq6AL5bImB6y//fLwKikDVBdJMF7yIz6Ij9GbfHVghZqAuQV0ANf7yjz+Cz+og9NZRE/8HLMvaT5JwsCouSahwVZEkVDElCfqQ0Pg1/lqlVtEiIiKyKyUJIiIiUpCSBBERESnIisfjaadTf/RUREREdjoCYNu26Ti2qXBxb1S4eLBUuKjCLY1f469VKlwUERGRXSlJEBERkYKUJIiIiEhBShJERESkICUJIiIiUtC+k4RUuAeHw0FPOFXweGbzEy06RPM27z9loG2GW/fVInq/cucwsy2xbDogqQoRn4VlWXjUJ7rmJIMevfYVYB9JQhS/w8FNrjHi+vNt30e8zNk2tm1zt3uaPn81pwkbTLfNcI9WLp81HUs12+Dnxw34lzq5vdTJ11decmd8w3RQUukiPjri/fS7TQci5RXBZ1n0MkpAr71x+0gS2hmzbR70FmoE3c5YXovoxlMuSKyRKnDP6lBP91InN67+xXQgVa6e7rwW0X9tOg6JLTaNxiSVLUlwPET/6DCnTYciZeZlKp0mNthiOhDhQGsSonw/sYjLe55C6YTUqg1+nvyDps/rt5MGkbclg70MOWeZ8pqORKS2HSn5I0b9OPqmM//uvotdcMZBas6zJQauv8z8+8o5bl89ajYeqVzJIL1DTmbTXkDr0SImlT5JaB/DtseAXBHjPHftMdpL/kRSVT5t4/ZSG5ArYvxfvl5q01SyvCVJsHcI52waTSKImHegl0A2nvfiIsFa9RYlyAE40d5AE6/5fd10JFJ5VlhegFBH5qoGy2phaAEWhlqwPEHNK4iUWWmThFSYnryrGVK/RFiklSatONS29VVu5V3NsBl9xRrH+OikwZikQmWK1tLb2woBN7gDK6RjgzSbDk+kxuxjuSGK39HHdG538SKOCXCNzPGg9zzexEUcjtyNLkbmqnmpYYPptl+J5XafzzMwCU3DF7ihNfUPd7KeTxLzDLTlDhzn8o9aahCRQiL4rA5Cud2FFqyhTKIYG1SaWG5WPB5P19XVmY5jm1pF741aRR8stYpWq1yNX+OvVWoVLSIiIrtSkiAiIiIFKUkQERGRgqx4PJ52Op2m4xAREZEKcwTAtm3TcWxT4eLeqHDxYKlwUYVbGr/GX6tUuCgiIiK7UpIgIiIiBSlJEBERkYKUJIiIiEhBShJERESkoH0nCZk20A56woVbPEb9jnfeXi0ybY1ntrfpZ6Yjqk47z+MSy6YDkgqWJOjJdYHMbr6I6aCkzJJBD5Zl4Qmq96dJ+0gSovgdDm5yjRHXbnfx05fopnu326vF+ir3HjfgX+rk9lIn/uHjxK7rA27vNvg57zx+feUld/K6QooU0j+b1w1yyms6HCmbCD7LopdRAm7Tscg+koR2xmybB7279X9OEf5umu5rX3GqqNAqwMlT3PjhFCeyuyfaG2jiNb+vG42qCtXTnXce/9p0HBJbbBqNSUQqU6ZdeGywxXQgwgHUJKTCN5lovctY9faH3l3qNWsc46OTpgOpZhv8PPkHTZ/XbycNIoWEOnLLDR404yxixpGSPloqzM2JVu7a7UB11yL82RZPQi9pGr7AadOhVKNnSwxcf5n595Vz3L561Gw8UsGaGYylGczuJYMeWlp8tKan0KKDSHmVcCYhRfjmBK13xziMkwjL4/M84gz/0Ifb/nzaxu1cbUdTQsWL8sGaB0fpJ8SMahdFyq6EMwkpVhdhus/BdP7hxYs4IiPMPehltyqGSrc8PsOdxBn8eevqsn8n2htomnyVqe3Q0o28TzJBHDddWqIWKbsSziRkChrt7W2OERe4RuawqzZB2OLJl0oQira+yq28qxk2o69U2yG7ivh21iBEJodYcHdxqdlcTCK1ah8zCVH8jr43swWLF3FMZJKB3a94qFLPkjx6DvCCsbYXb45fOcft0XpTUVWfk/V8kphnoC134DiXf2xTbYcU5O100tFiMZQ74A6wEhtEOUKtiOCzOgjldhdasIbAHVghNqh3QblZ8Xg8XVdXZzqObWoVvTdqFX2w1CparXI1fo2/VqlVtIiIiOxKSYKIiIgUpCRBRERECrLi8Xja6XSajkNEREQqzBEA27ZNx7FNhYt7o8LFg6XCRRVuafwaf61S4aKIiIjsSkmCiIiIFKQkQURERApSkiAiIiIFKUkQERGRgvadJKTCPTgcDnrCqfyjhHscOBx5mz9agjDN2bz/lIG2meym9sb7pfMoe5UMerAsK7vtbPokh1/u9ffohTdqH0lCFL/DwU2uMeIqfI/uu3ndIMfai4vQqA1+ftyAf6mT20udfH3lJXfyuhnKh9J5lL1JBj20POxiJZ0mnU6TTsdQb59aEcFnWfQySsBtOhbZR5KQaQl96Do+FlRPd16L6L82HYfEFptGY6pGOo+yFxEmhyAQVufH2uRlKp0mNthiOhDhgGoSpvtyyw097FiNqGob/Dz5B02f129/2Ml+6DzKeyQTxIGHvdab5QZfxHRUIjXpSGkfrpHeBza92b1UuIeLF/002WNU7aLDsyUGrr/M/PvKOW5fPWo2nmql8ygfamWZBSAQThNrBpJBPC0d+DrTTHlNBydSWw706obG3mt0M818NdcuftrG7exaur8poaK7/dJ5lD1x0ppba2i+RJcb4gkVsImU28FeAplaI4GLU4ekfOFEewNNvOb3ddORVDedR3mnltO4iaOcQMS8kiYJUf/OGoTo9xMsurycr9YkYX2VW3lV+JvRV6xxjI9OGoypGuk8yl40X6LLvcDDn7JZQmSSoQU3XZdUxihSbvuoSYjid/QxndtdvIhjAlwjczy40ErfRQcTudtcI8w96KVacwRO1vNJYp6BttyB41z+sY3TJmOqRjqPsifNDIYDPGxpwRrKHOmfTesSyJoRwWd1EMrtLmTeB+7ACjG9CcrOisfj6bq6OtNxbFOr6L1Rq+iDpVbRapWr8Wv8tUqtokVERGRXShJERESkICUJIiIiUpAVj8fTTqfTdBwiIiJSYY4A2LZtOo5tKlzcGxUuHiwVLqpwS+PX+GuVChdFRERkV0oSREREpCAlCSIiIlKQkgQREREpSEmCiIiIFLTvJCEV7sHhcNCT39Hprdsy286mT9VqeXyGgbYZbt3fMh1KVdq8/5SBtpnspjbR8g4RH5ZlFdh8REzHJmWTDHqwLAtPUO1ATdpHkhDF73Bwk2uMuP58ayrcw8WIlznbxrZtbPsBvVXb4Snr2RJ3En/Dc9Z0INVqg58fN+Bf6uT2UidfX3nJnbyukCI7eKdIp9M7ttl+oL8Tr+nYpAwi+CyLXkYJuE3HIvtIEtoZs20eFPzkj/L9BIx8U8WdH/9kiyehl3j6m/nYdChVq57uH05xIrv316bjkNhi02hMUjWSQcZDbgLDShFqg5epdJrYYIvpQIRS1ySk1kgAkZuON8sN/mhJn6LcNu8v8qj1HN2fmo7ksNjg58k/aPq8fjtpEHmXyOQQC/2jahUtYsCRkj5aapVFYOQbmweNQCpMz8U+/BdsxtpL+kzlsb7KvcljfL1UD6gWoSjPlhi4/jLz7yvnuH31qNl4pEpEmAlB/6xmEURMOICrG1ppyq01NJ7H64LEWjVWLm7x5J8vaPi2jdOmQzkMPm3jdrYmwd+UUPGifJBkcJyQO4BWGkTMKO1MQuMpXERYS0F71Rcl/Jf/PIfY9Rli+YefzzPw+Az+vDV22ZsT7Q00Tb7i93XgpOlopHJFmBxaoH82hlYaRMwo7UxC43m8rkUiv2RnDqLfM7Hownu+GjOGerqz33wz2wUun4Wm4QvcVoKwN+ur3Mq7mmEz+oo1jvGREgR5h2RwnBD9dGoWQcSYfcwkRPE7+pjO7S5exDEBrpE5HvQ20vvNCJGLmWMA3Xft6r8EUopzsp5PEvMMtOUOHOfyj1rGkXfJzCK4A2Fd9lhzIvisDkK53YUWrCFwB1aIqXq17Kx4PJ6uq6szHcc2tYreG7WKPlhqFa1WuRq/xl+r1CpaREREdqUkQURERApSkiAiIiIFWfF4PO10Ok3HISIiIhXmCIBt26bj2KbCxb1R4eLBUuGiCrc0fo2/VqlwUURERHalJEFEREQKUpIgIiIiBSlJEBERkYKUJIiIiEhB+04SUuEeHA4HPeG8NtBRPw6Ho8DmJ1qKaMtuiydfzjDQlrflNSqSD7d5/2neeVSbaHmPiA/LsrY3TzBpOiIps2TQo9e+AuwjSYjidzi4yTVGXG/d1D6Gbds7trvdQPcF2ksRrSGeb/O6QY7Wmw6nCm3w8+MG/Nlz+PWVl9xRsiW7iuDriBNYSZNOp0mvBGCoF31W1IoIPsuil1ECbtOxyD6ShHbGbJsHH9LaMRXmu2kXI19Vc4ogxaunO6+99l+bjkNii02jMUnFSiaI46Q11/CvuRX9ubda4mUqnSY22GI6EGFfraI/XPT7CRa77/KgyltFx67PEAMyLY7/zmcnDQdU1Tb4efIPmoZd20mDyA7Ng4z2W3RYMJseJuHpIB5YYUpdgkXK7gCThCjz09B9t5pnEY7y2Q+dfJbd27z/lLEvlvhoqY3TRuOqQs+WGLj+MvPvK+e4ffWo2Xikonmn0sxi0WGFwB1gZVAZgogJB3Z1Qyr8HdOuEQ7TSsOJq614eMmLZ6YjqUKftm3XdfibEipelHfIrEnPdGZqEla6HtJieVSTIGLAASUJUb6fWKT7Wi9VvtKw0/oWrzjOx4dqUOV3or2BJl7z+7rpSKQSJYPjhNwBhr2Z/ebBMAH3Ag9/UpYgUm4HkiSkwt8xTTcXqnwWYXn8KU/yPsiWwy9YO9vA/6gmYW/WV7mVdzXDZvQVaxzjI51HKaC51QkLy6zkDiR/4uECOFu15CBSbvuoSYjid/QxndtdvIhjAlwjc9krHjKzCK6Rb6r6skeA0+ePMfDFDI9yB86ewZ9XpS8f6GQ9nyTmGWjLHTjO5R9V1yG78E4x25+tR8hyB1aY8hqMScoogs/qYPvVX2jBGsq8B2KqTSk7Kx6Pp+vq6kzHsU2tovdGraIPllpFq1Wuxq/x1yq1ihYREZFdKUkQERGRgpQkiIiISEFWPB5PO536o6ciIiKy0xEA27ZNx7FNhYt7o8LFg6XCRRVuafwaf61S4aKIiIjsSkmCiIiIFKQkQURERApSkiAiIiIFKUkQERGRgvadJKTCPTgcDnrCqZ03RP04HI7t7U+3V6HN+08ZaJvJbjubPsmH2XkO1SZa3iPiw7Ks7KY20VJ7kkEPlmXhMfzm30eSEMXvcHCTa4y4CtzWl2Bkzsa2bey5EZi4STXnCZv3nzL2uAH/Uie3lzq5vfR3PlP3wj3a4Oe8c/j1lZfcyesKKbJDxIfVESewkiadTpOedTLU4iNiOi6Rsojgsyx6GSXgNh3LvpKEdsZsO9vx8S2pNRK00pS7qbGJ1qLCM22Dnyfh8r/U+bE49XTndc/8a9NxSGyxaTQmqVTJRBzcXVzKNfzzdtJPnIRmE6QmeJlKp4kNtpgOBNhXq+h3aOzlWreDPgfctb9iraePxMgcYwXyiaqwvsUr4NU/Z3j0PHvsyjluj9abjKrKbfDz5B80DbuUeElBza1OWFhmBXjTGHiB5Z0HRKQMSpskAO1jNndx0OeYBtcIc4VmHKpF6jVrwOV/dXLjJLC+yq0vfmX6fCfdn5oOrso8W2Lg+svMv6+c4/bVo2bjkcrlnWK236LDCmUPuHG7QX88XqT8Snx1Q6ZeYf5CpiZhzhvhoqOnqmsS4Bgf5WoQTtbzyVl4ldoyGlFV+rQtW9PRib8poeJFeSfvVLYeIZ0mnR7FuWA6IpHaVNIkIRX+jmnXCF+1Z/Ybe79hxLVI5JcqzRIaj9HEa37X1QwldaK9QedVPlxkhhD9dHpNByJSe0qaJDQ2tcLiKtspQeoXIovQ2lSlSw4n6/nk7B/8Fs3OHDxL8uj5cT5p11T5nqyvcivvaobN6CvW8mdoRHYVwdcRwh0YRjmCSPntoyYhit/Rx3Rud/EijglwjczxoHeMu93ZeoQs18gcY+0lidWAo3z2rzP89sU8A5OZI55vO3UJ5F6drOeTxDwDbbkDx7n8YxunTcYklSsZxNMyRG6FwR1YITaoikWpFRF8Vge5ihwWWrCGzP0/sOLxeLqurq7sT7wbtYreG7WKPlhqFa1WuRq/xl+r1CpaREREdqUkQURERApSkiAiIiIFWfF4PO106s+UiIiIyE5HAGzbNh3HNhUu7o0KFw+WChdVuKXxa/y1SoWLIiIisislCSIiIlKQkgQREREpSEmCiIiIFKQkQURERArad5KQCvfgcDjoebsPdNSPw+HIbtXeJjpj8/5TBtpmuHVfLaKLtTw+o3Mp75Ek6LGwrLzNFzEdlJRZMujBsiw8waTpUGraPpKEKH6Hg5tcY8T19k1+HH0JRuZsbNvGvtvKxEU/0ZKEasIG020z3KOVy2dNx3IIPFviTuJveHQu5QP0z6ZJp7PblHpA1o4IPsuil1ECbtOxyD6ShHbGbJsHvX9u/5xaS4DLy/ncTe0X6CbBWtXOJtTTvdTJjat/MR3IIbDFk9BLPP3NfGw6FBGpYF6m0mligy2mAxFKXJPQ2NQKi6vszAkWWa3aJEFKZfP+Io9az9H9qelIpFqEOnLLDR404yxixpGSPlr7GHe7HfQ5prMHXLhc0FrSJ5Gqs77KvcljfL1UD6gWQd6nmcFYmsHsXjLooaXFR2t6Ci06iJRXya9uaB/L1iPYNrZ9jdbFUj+DVJctnvzzBQ3ftnHadChSlZoHR+knxIxqF0XKrrQzCW+LzjNNN3fbD/RZpKL9l/88h9j1GWL5h5/PM/D4DP4fTnHCVGhSHZIJ4rjp0hK1SNkdYJIQxd83jWtkDuUItSxT/Nm9vb/Fky/n+e3zC9y4etRgXFKpIj4PieEYg83Z/ckhFtwBws1m4xKpRftIEqL4HX3kqg5YvIhjAlwjczw4/ws9FyfIrTC4RuYKXgVRPTaYbvv1zTfg5/MMTELTsD7gRA6Kt9NJR4vFUO6AO8BKbBDlCLUigs/qIJTbXWjBGgJ3YIXYoN4F5WbF4/F0XV2d6Ti2qVX03qhV9MFSq2i1ytX4Nf5apVbRIiIisislCSIiIlKQkgQREREpyIrH42mn02k6DhEREakwRwBs2zYdxzYVLu6NChcPlgoXVbil8Wv8tUqFiyIiIrIrJQkiIiJSkJIEERERKUhJgoiIiBSkJEFEREQK2leSkAr34HA4tjd/dMeN9Ox2WxXavP+UgbaZ7W36memIqtvyeOY83rq/ZToUqXDJoAfLsrKbh2DSdERSTrnX36MX3qi9JwmpMDcjXuZsG9u2mRtxMd3nJ5MLRPFfnICROWzbxr7bzXRfD+FUqcMuk/VV7j1uwL/Uye2lTvzDx4ldX2LZdFzV6tkSdxJ/w3PWdCBS6ZJBDy0Pu1hJp0mn06TTb7pCymEXwWdZ9DJKwG06Ftl7ktDYy4MHveR6Ozae9+IiwVoKiM4zTTfXcp0f279ixLXIarUmCSdPceOHU5zI7p5ob6CJ1/y+bjSqKrXFk9BLPP3NfGw6FKlwESaHIBBW58fa5GUqnSY22GI6EKEUNQmpVRZppakRUmsJcJ3i7ebQibVqzRLeknrNGsf46KTpQKrP5v1FHrWeo/tT05FIxUsmiAMPe603yw2+iOmoRGpSkUlCivB307hGvqK94O2NNLUW9wyVI/NNuGm4mdOmQ6k266vcmzzG16P1piORarCyzALQFc4uNawEcIc6UJ4gUn5FJQlR/0UmGOGb3rfnDnJSrCWKeYbKsTw+zyPO8I+rR02HUmW2ePLPFzR826bkSvbASWturaH5El1uiCdUwCZSbkf2+4NRv4O+xAhz+fUJTa2wuEoKdiw5tDbtlkRUh+XxGe4kzuDPq0+QD/Vf/vMcYtdniOUffj7PwGOdUymg5TRuHpJIgldFCSJG7WMmIUW4588JAgDtF+hmmvncZY/R75lY7OZC4bWIKrDFky+VIBSnnu7s1SGZ7QKXz0LT8AVu65xKIc2X6HIv8PCn7MxBZJKhBTddl5QxiJTb3mcSot8zgaXJvwAAIABJREFUsQgwwUXHxJvj3Xexx9oZmxuh56IDBwAuRuYe7FKvUAWeJXn0HOAFY20v3hy/co7bWl8XOSDNDIYDPGxpwRrKHOmfTesSyJoRwWd1EMrtLmTeB+7ACjG9CcrOisfj6bq6OtNxbFOr6L1Rq+iDpVbRapWr8Wv8tUqtokVERGRXShJERESkICUJIiIiUpAVj8fTTqfTdBwiIiJSYY4A2LZtOo5tKlzcGxUuHiwVLqpwS+PX+GuVChdFRERkV0oSREREpCAlCSIiIlKQkgQREREpSEmCiIiIFLSvJCEV7sHhcGxv/mjh23vCqVLEaNTm/acMtM1ktyWWTQdU5ZbHM+fy1v0t06FIpYr4sCyrwOYjYjo2KZtk0INlWXiCahFu0t6ThFSYmxEvc7aNbdvMjbiY7vOTyROi+B0ObnKNEVepQzVhg58fN+DPdjD8+spL7oxvmA6qej1b4k7ib3jOmg5EKpp3inQ6vWOb7Qf6O/Gajk3KIILPsuhllIDbdCyy9yShsZcHeS2iG897cZFgLQXQzpht86C38R0PUE3q6c5rZ/zXpuOQ2GLTaEzVaosnoZd4+pv52HQoUl2SQcZDbgLDShFqg5epdJrYYIvpQIRS1CSkVlmklabDkhfsaoOfJ/+g6fP67aRBPtzm/UUetZ6j+1PTkUi1iUwOsdA/qlbRIgYcKe7HU4S/m8Y1Mkd7aeKpPM+WGLj+MvPvK+e4ffWo2Xiq0foq9yaP8fVSPaBaBNmLCDMh6J/VLIKICUUlCVH/RSYYYe7QLC8U8Gkbt5fagFwR4//y9VIbpw2HVT22ePLPFzR826lzJnuWDI4TcgdYUY4gYsS+k4So30FfYoS5vPqEw+5EewNNk6/4fR04aTqaavFf/vMcYtdniOUffj7PwOMz+PNqPkR2ijA5tED/bAytNIiYsY8kIUW4JzuDcNgThPVVboWPcmO0HoDN6CvWOMbnShD2oJ7upU66t/e3ePLlPL99foEbWrqRd0gGxwnRj1YaRMzZe5IQ/Z6JRYAJLjom3hzvvos9Bn5HH9O5Y4sXcUyAa2SuOq94OFnPJ4l5BtpyB45z+UctNYgcvMwsgjsQ1mWPNSeCz+oglNtdaMEaAndghZiqV8vOisfj6bq6OtNxbFOr6L1Rq+iDpVbRapWr8Wv8tUqtokVERGRXShJERESkICUJIiIiUpAVj8fTTqfTdBwiIiJSYY4A2LZtOo5tKlzcGxUuHiwVLqpwS+PX+GuVChdFRERkV0oSRET+X3v3F9JGvv9//DlQr37tVXd/XQrFr1QNdG1perfJrvWieIhLQeihCuW7XhyMh2VR96IsuJILsULpxcZSytHSi+yhUMuvIBzWsNKFbVrduyptECZJcYNQTtmeq/Vcz+8if0zsJDXRZDLm9YABMx8nvj8zMXk78x7fImJLSYKIiIjYUpIgIiIitpQkiIiIiK2qkoR0ZBCPx5NfQrG9jbnZxvQio+cX+eHBttOhuJr2o+xJdATDMPKLfzbldERSZ6lZv459A6g8SUhH+C4aYNk0MU2T5QkvC8MhYh8ac7Pn6/wj8T/4zzkdiMtpP8qeRBnpixNOWliWhZUMw/gQ+qxoFlFGDIMhJgn7nI5FKk8SWod4WNAiurUngJcEm+kPjLnWNk/nf8cfbOcTp0NxNe1H2aNUgjhddOYa/rV3on/31kwCzFkWK2MdTgciHERNQvo1a3TSZtcJutyYS7x7sMbjzs8Y+NzpSNxN+1H2rH2MyeA8fcYIUVLM+vuIhyOoS7BI/R3Z3+ZpIncX8E4s013RmEtsveaft47x9/UTgK6hV037USoUmLNYwqDPmAdfmKQyBBFH7OtMQizUywwT3Bx6/1RBuTF32Obp9684eec8Z5wOxdW0H6VSmWvSi/2ZmoTk1Ud0GH7VJIg4oOozCbGQh+HEBMsFNQh7GXOP//Lvl7DyzSIrhatfPmH057OEfjzNR06F5iraj1KZ1Ow0874wyUDmcftYhPCjDh79lGJMZxRE6qqKJCFNZDBzluD9JKDcmNucYGC9n4H8422efvWEF3+5xLfXjjoYl9toP0pl2ju7YHWDJNAOkPqJR6vQNakEQaTeKk8SYveZWQOYodczs7N+4B7mpSelx6ZcW5kgIvUUmGMpmK1HyPKFk8wFHIxJ6ijKiNFH/uivdmCMZ14DKzqTVHdGPB63WlpanI4jT62iK6NW0bWlVtFqlav5a/7NSq2iRUREpCQlCSIiImJLSYKIiIjYMuLxuNXVpX96KiIiIsWOAJim6XQceSpcrIwKF2tLhYsq3NL8Nf9mpcJFERERKUlJgoiIiNhSkiAiIiK2lCSIiIiILSUJIiIiYquqJCEdGcTj8eSXUKzUWIhY6adxgW2efrXI6PmCZfqt00G52sZ0Zj/+8GDb6VCkkUVHMAwju6hNdDNKzfoxDAO/Dr6jKk8S0hG+iwZYNk1M02R5wsvCcC4ZiHG/YOzewALDIXenCQD+O/3cXs8ukyecDse9nq/zj8T/4D/ndCDS0KIjGH1xwkkLy7KwlroY7xgh6nRcUidRRgyDISYJ+5yORSpPElqHeFjQBrq1J4CXBJtpgG6mCsdOeyGxSfqAghU32+bp/O/4g+184nQo0tBSiTj4rvJlruFfoJ8gcRL6g7JJBJizLFbGOpwORDiImoT0a9bopK1190CM+zNreAM9vDfkMivf5C43POPpltPRuNO7B2s87vyMgc+djkQaXXtnF6xukCxau8pGssQGIlIzR/a3eZrI3QW8E8t051bFQniGFzJfD9zDHHJzinCUiz/2czH76N2DZ0xdXufj9fOccTQul9l6zT9vHePv6ycA1SLIBwTmWAoa9Bnz2RU+fD7QP48Xqb99nUmIhXqZYYKbhYlA9xRmrl7h9N1DULy446Nrnfj5nVfPnY7ETbZ5+v0rTt5RYiV7F5jL1iNYFpY1Sdeq0xGJNKeqzyTEQh6GExMsF9Qg7NbaE8A7E2UzDd1uPqGQs7XNG45z4TDMpW7+y79fZi7ZrBSufvmE0Z/PEvrxNB85FZq4Q3SReYIsBZwORKT5VJEkpIkMZs4gvJcgpCMM3m/j4VTm4kP61yhrdPK1Sz9UN6af8cfQF1w8lX0cecXmubP87yln43KXEwys9zOQf7zN06+e8OIvl/j22lEH4xJ3iDLSN48vnEQ5gkj9VZ4kxO4zswYwQ69nZmf9wD3MqR4CiV48ntxKLxPLUzv1Ci5zpucYo5cXeZxbcU5/+YrUXGoWf8c4uSsMvnCSlbH2spvIYRJlxOgjV5HCagfGuF4HTjHi8bjV0tLidBx5ahVdGbWKri21ilarXM1f829WahUtIiIiJSlJEBEREVtKEkRERMSWEY/Hra4u/ZsSERERKXYEwDRNp+PIU+FiZVS4WFsqXFThluav+TcrFS6KiIhISUoSRERExJaSBBEREbGlJEFERERsKUkQERERW1UlCenIIB6PJ7+EbHpBx0KZscFIer8xOu7dg2eMnl/MLs94uuV0RO61MZ3Zjz882HY6FGlAqVk/hmHgn03tHsBvGBjZZSTqTHwi9VLyd6HOKk8S0hG+iwZYNk1M02R5wsvCcIiiPCEWYjgxwID3wOJ0zLsHz5j6+SSh9X5ur/dze32nK6RU6Pk6/0j8D/5zTgcijSfKiGEwxCRhn81YxziEk1iWhbUUZL7Pj8PvnSI1Uu53of4qTxJah3hY0CK6tSeAlwSb+RMGaSJ3Fxj4+m+cPqgoHfOWX27BlRvq/Lh/2zyd/x1/sJ1PnA5FGlCAOctiZazj/aHoIvMEmcx1AAxcJ+xbZSNZ3whF6qPM74ID9l+TkH7NGp20ZbOGdOQ7ZjrvMeXW/tCFtrZ5A7z4fnHncsP0W6ejcqV3D9Z43PkZA587HYm4TSoRB98Zdr9lxhM6lSBSa0f2t3nmrIF3YpluyFyKmOnkntkNuL8WgfSfbAJXbvTz7Slg6zU/XP6NhZ5+fdhVYus1/7x1jL+vnwBUiyD71U6n/pO8SF3s60xCLNTLDBPcHGoF0kS+m6Hz3hSH4STCjmN8nKtBOHWCC+fgTVofdHu3zdPvX3HyznnOOB2KHBIpEnGnYxBpDlWfSYiFPAwnJljO1yekeb0GC8MeFgq/ca0XT7Tw+1yk9RhtvOGPLUDFilX6L/9+CSvfLLJSuPrlE0Z/PkvoR9V7SHntnV2wukESaC9Y39XZXmoTETkgVSQJaSKDmTMIxR/83UyZJlO7vi8aWObhkOvSg4xTJ7hw7hUvYttcvHYUnqd4/PI4V24cdToyFznBwHo/A/nH2zz96gkv/nKJb69pP8oeBPoJ0sdidI5AAIjeYnw1yFLA6cBEDr/Kk4TYfWbWAGbo9czsrB+4h3koqhULHeXijbO8uPyE0VuZNf47/boFUuTARRkx+pjPPVztwBgHXzjJyliAuWQYf4eBAYCPcHIF5QhyOJX7Xaj/2TMjHo9bLS0tdf/BpahVdGXUKrq21CparXI1f82/WalVtIiIiJSkJEFERERsKUkQERERW0Y8Hre6uvSfSURERKTYEQDTNJ2OI0+Fi5VR4WJtqXBRhVuav+bfrFS4KCIiIiUpSRARERFbShJERETElpIEERERsaUkQURERGxVlSSkI4N4PJ78EorlR4gMeorGPDuDrvXuwTNGzy/ywwO1iK7ONk+/WmT0fMEy/dbpoKTBpWb9GIaRXfzMppyOSOopd/z9OvCOqrzBUzrCd9EAy+ZDWskkDL3DIS6ZU+TaOw3cMzkcvZ7esnD+N95c/4wr537jhdPhuJz/Tj8DnzsdhbhBatZPx6OrJK0V1BC62WQaHMXDS4R9fTxyOpwmV/mZhNYhHha0iG7tCeAlwWb6YANrDJk2x99e+z9OByLSRKLcGodwZEwJQlMKMGdZrIx1OB2IcBA1CenXrNFJW+vOqoXh3OWGQSKHMnmQaqx8k7vc8IynW05HIw0rlSAOPBoydi43jESdjkqkKVV+uaFImsjdBbwTy9lLDa0MPTQZyo1GBuntDdFWcClCmtFRLv7Yz8Xso3cPnjF1eZ2P189zxtG4pCElN1gFwhGLlXYgNYu/o4+Rfou5gNPBiTSXfZ1JiIV6mWGCm0OttuOtQ18zwAJP3F+7KAfoo2ud+PmdV8+djkQaVxeduWsN7V9y1QfxhArYROqt6iQhFvIwnJhguaA+4T3pTRJ4OV3yG6QpbW3zhuN8oteF2Ok4g484yglEnFdFkpC5zdEuQYiFimsQYvdnWPMG6NGHQVPbmC6uQdiIvGLz3Ek+PeVcTNLA2r/kqm+VRz9ls4ToLcZXfVz9UmWMIvVWeU1C7D4zawAz9HpmdtYP3MO81Mlwr4f8Wu8HzjQ0vMwtkCu5hy+fMHoL2q5f4ttrR50MzFXO9Bxj9PIij3Mrzp0l9ONpPnIyKGlg7YxFwjzq6MAYz6wJLlmMKUdoEplbIOdzD1czrwNfOMmKXgR1Z8TjcaulpcXpOPLUKroyahVdW2oVrVa5mr/m36zUKlpERERKUpIgIiIitpQkiIiIiC0jHo9bXV1dTschIiIiDeYIgGmaTseRp8LFyqhwsbZUuKjCLc1f829WKlwUERGRkpQkiIiIiC0lCSIiImJLSYKIiIjYUpIgIiIitqpKEtKRQTweT34JxcqNFzd9cpt3D54xen4xvyyovXEVtnn61WLRfhydfut0UNKooiMYhmGzjBB1Ojapm9SsH8Mw8M+qHaiTKm/wlI7wXTTAsvmQVjIJQe9wiEvmFN25xwXjrrb1mn/+fJLQ+hd8RCZhmPpmnbPr5znjdGwu5L/Tz8DnTkchDS8wh2XNFa2Kjhj00U/AoZCknjINnuLhJcK+Ph45HU6Tq/xMQusQDws6O7b2BPCSYDMNEOP+DEzcdHPnxwKnTvNtQbfCj7pP0saf/LFVdisROUipWabnfYSvK0VoDgHmLIuVsQ6nAxGqOZOwW/o1a3TydSuQ3iQBJL7zZNtJk2khPdW97x/TENJ/sskx/nLK6UDcaeWbxWzb7eNc+dcXXNR+lD2I3hpnNbjEiroEi9TdPpOENJG7C3gnlumGbMIAEzdNHmauRTDYO0zokon784Rtns7/Ttv1S7rUULGjXPyxn4vZR+8ePGPq8jof67KNfFCUxXkILuksgogT9nV3QyzUywwT3BwqvLjQSdvOtQgCXkhsurhyMWtj+gmPOcv/XjvqdCiu99G1Tvz8zisVgcoHpGanmfeF0ZUGEWdUnSTEQh6GExMsF9Qn0Hq6oD7h8NiYXuQfibOECuoTZB+2tnnDcT45FIUrUjtRbo2vEpwcQ1caRJxRRZKQJjJokyBA9szBGtFfs1lC7D4za14CPW79NMjcuqcEYX82pp/xtKDYcyPyis1zJ/lUNQlSRmp2mnmC9OssgohjKq9JiN3PFiXO0OuZ2VmfLVAcujlBtLeX3NDAPZMht+YIz1M8fgnwiqnzr3bW//Uzbk+ecCoq1znTc4zRy4s8zq04p6RLPiRzFsEXjui2x6aTuQVyPvdwtQNjHHzhJCtjOqdUb0Y8HrdaWlqcjiNPraIro1bRtaVW0WqVq/lr/s1KraJFRESkJCUJIiIiYktJgoiIiNgy4vG41dXV5XQcIiIi0mCOAJim6XQceSpcrIwKF2tLhYsq3NL8Nf9mpcJFERERKUlJgoiIiNhSkiAiIiK2lCSIiIiILSUJIiIiYquqJCEdGcTj8eSXUCw7EAsVrd9ZQsTKPmPjevfgGaPnF7PLOhtOB+RKmUZZO/txkdHpt04HJY0sOoJhGPnFP5tyOiKps9SsX8e+AVSeJKQjfBcNsGyamKbJ8oSXheFsEtA9hZldn1vuDQADl+g+6Mjr4i2//HyS0Ho/t9f7+ftff+cf+nCrmv9OZj/eXu9XgywpI8pIX5xw0sKyLKxkGMaH0GdFs4gyYhgMMUnY53QsUnmS0DrEw4IW0a09Abwk2EzbfG86wt0FLxN/c2eKACcYKOhW+H/bjkNim3eOxiRyyKUSxOmiM9fwr70T/bu3ZhJgzrJYGetwOhChmlbRu6Vfs0YnX9u0g47dn2Ft4B4P3doqushbfrn1H9que9XiuEor3yyyAsBxrvzrCy6ecjggaUztY0wGDfoMWLKuk/D3EQ8nmVOXYJG622eSkCZydwHvxLLN5YQYTxZg4J5bzyJkPV9n9JvfM1//9TNuXzvqbDyudJSLP/ZzMfvo3YNnTF1e5+P185xxNC5pVIE5iyUM+ox58IVJjilDEHHCvu5uiIV6mWGCm0PvnypIR+6y4J3AtVcacj4/n7+OHmpLqHjxAHx0rRM/v/PqudORSGPKXJNe7M/UJCSvPqLD8KsmQcQBVScJsZCH4cQEywX1CQWj3J9ZY+BruzH3+qj7JG38yR9bTkficlvbvOE4nxymF4ccmNTsNPO+MNcDmcftYxHCvlUe/aQsQaTeqkgS0kQGyyUI2bMIDHDJ7WcRtl7zQ8HdDO9ib9jkGB/rWnpFNqaf8bQgsdqIvGLz3Ek+1X4UG+2dXbC6QTK3IvUTj1ahq1OXHETqrfKahNh9ZtYAZuj1zOysH7iHOdVN7iyCd+KmS297LHDqBBcSTxg9n1txnCv/0nX0Sp3pOcbo5UUe51acO0uo4K4RkSKBOZaC2XqELF84yVzAwZikjqKMGH3kj/5qB8Z45jWwotqUujPi8bjV0tLidBx5ahVdGbWKri21ilarXM1f829WahUtIiIiJSlJEBEREVtKEkRERMSWEY/Hra4u/dNTERERKXYEwDRNp+PIU+FiZVS4WFsqXFThluav+TcrFS6KiIhISUoSRERExJaSBBEREbGlJEFERERsKUkQERERW1UlCenIIB6PJ7+EYgWDsVDR2GAkfUChOmtjepHR84v88GDb6VBcaJunX2X2X34paJwl8p7oCIZhZBe1iW5GqVk/hmHg18F3VOVJQjrCd9EAy6aJaZosT3hZGA6RyRNihIYTTCxnxszlCZj5DtfnCc/X+Ufif/CfczoQd/Pf6ef2enaZPOF0ONKooiMYfXHCSQvLsrCWuhjvGCHqdFxSJ1FGDIMhJgn7nI5FKk8SWod4WNAiurUngJcEm2kgvUmCTtryg210HlSkjtnm6fzv+IPtfOJ0KCJNIJWIg+8qX+Ya/gX6CRInoT8om0SAOctiZazD6UCEg6hJSL9mLZcYtA7x9cACw54QMdJEBodJTNxkqPWDz9Kw3j1Y43HnZwx87nQk7rfyTe5ywzOebjkdjTSq9s4uWN0gWbR2lY1kiQ1EpGaO7G/zNJG7C3gnlunOrumeMrmHh2HPAngnWHZzhrD1mn/eOsbf108AqkWo3lEu/tjPxeyjdw+eMXV5nY/Xz3PG0bikIQXmWAoa9Bnz2RU+fD7QP48Xqb99nUmIhXqZYYKb+UQgRsjj4cmlbL1CIEqvZ9ClNQnbPP3+FSfv6IPsoH10rRM/v/PqudORSKMKzGXrESwLy5qka9XpiESaU9VnEmIhD8OJCZYL6hPSkbsseCdYzp5WaB26yUS0l+ivaYZcd0bhv/z7ZeYU+Urh6pdPGP35LKEfT/ORU6G53dY2bzjOBbe9JMQZ0UXmCbIUcDoQkeZTRZKQJjKYOYNQmCAAtLZ1wtpr0pBZn/6V6Bp0fu3GT4MTDKz3M5B/vM3Tr57w4i+X+PbaUQfjcp+N6Wf8MfQFF09lH0desXnuLP97ytm4xA2ijPTN4wsnUY4gUn+VJwmx+8ysAczQ65nZWT9wD3NqinsD2XqELO/EMlPd7z2LNJEzPccYvbzI49yKczoTI2WkZvF3jJO7wuALJ1kZay+7iRwmUUaMPnIVKax2YIzrdeAUIx6PWy0tLU7HkadW0ZVRq+jaUqtotcrV/DX/ZqVW0SIiIlKSkgQRERGxpSRBREREbBnxeNzq6tK/KREREZFiRwBM03Q6jjwVLlZGhYu1pcJFFW5p/pp/s1LhooiIiJSkJEFERERsKUkQERERW0oSRERExJaSBBEREbFVVZKQjgzi8XjySyhWMBgLFYy5tU10zjZPv1pk9HzBMv3W6aBcSPtR9iY168cwDPyzqd0D+A0DI7uMRJ2JT+qn5GtB6qryBk/pCN9FAyybD2klkzD0Doe4ZE7RHQvhGU4wsWwy1EomYegN0WZO4eYeT/47/Qx87nQU7qf9KKVlmvrEw0uEfX082j3WMQ7hJNZYO0RHMPr8nEmuoH4/h1G514LUW+VnElqHeFjQIrq1J4CXBJtpSG8mwBugJzfYfYmB7JiISGkB5iyLlbGO94eii8wTZDKXEQSuE/atspGsb4RSL2VeC1J3lZ9J2C39mjU6+boVWts6Ye01acgnEbDG6+IVrrPyzSIrABznyr++4OIphwNyKe1HqUYqEQffVXZ/ZMQTKQjoVIJILe0zSUgTubuAd2I5czmhe4p7Ax6GPQvZcS9eL3TuM0jnHOXij/1czD569+AZU5fX+Xj9PGccjctttB/lILXTqf8kL1IX+7q7IRbqZYYJbg7tnCbonjIxzdzyNZ1r+46xYXx0rRM/v/PqudORuJv2o+xPikTc6RhEmkPVSUIs5GE4McFyQX3C+9/0hAUGuOTmqsVCW9u84TifuPjSSUPQfpQKtHd2weoGu0sQujp1qUGk1qpIEtJEBveQIBAjNLyAd+Jvrr2zYWP6GU+3Ch5HXrF57iSf6lp6RbQfZV8C/QSZZzF322P0FuOrQfoDjkYl0hQqr0mI3WdmDWCGXs/MzvqBe5h/22Swd4bcFQbvxDIPh9z75+KZnmOMXl7kcW7FubOEfjzNR04G5ULaj/Jhmdve5nMPVzswxsEXTrIyFmAuGcbfYWAA4COcXEE5wmFV7rWgs0f1ZsTjcaulpcXpOPLUKroyahVdW2oVrVa5mr/m36zUKlpERERKUpIgIiIitpQkiIiIiC0jHo9bXV36zyQiIiJS7AiAaZpOx5GnwsXKqHCxtlS4qMItzV/zb1YqXBQREZGSlCSIiIiILSUJIiIiYktJgoiIiNhSkiAiIiK2qkoS0pFBPB5PdgkRKx5kMD/mIRQr9Szu8e7BM0bPL2aX4mZFshfbPP1qsWAfLjI6/dbpoKQBpWb9GIaBfzZV0dhh1GzzlWKNcvyrSBJi3I8GWDZNTNPk3sACw/lMIEaodwYmljFNE/PeAAvDg0TSBxpzXb178Iypn08SWu/n9no/t9e/4KK6F1bFfye3D/u5PXnC6XCkoUQZMQyGmCTsq2TsMGq2+Uqxxjr+VSQJ3UwVtIhuPe2FxCZpgNgTFhjg61znx+6/MeFd47Vrk4S3/HILrtxQx0KR2gowZ1msjHVUOHYYNdt8pVhjHf/KW0UXiXF/Zg3vxE1agfRmArwBdjeHTmymoduFLaO3tnkDvPl+kccvs+v++pn+Cq7SyjeLrABwnCv/0hkZEZFGV12SEAvhGV7IfD1wD3OoVALQSltndYE1hPSfbAJXbvTz7Slg6zU/XP6NhZ5+Bj53Ojg3OcrFH/u5mH307sEzpi6v8/H6ec44GpeIiJRT3d0N3VOZmgPTZPn03feLF/PSbCb2E14jOMbHub94T53gwjl4k952NCK3++haJ35+59VzpyMREZFy9n0LZGtPAC8JNtPQ2tYJa6/ZXYLQ2ebCSw0Arcdo40/+0N0MB2trmzcc5xOXvixERJpF5UlCOsJgwX2N6V+jrNFJWyvQfYkBFniSv9nhPjNrA1zqPphg6+7UCS6c+w8vYtkzB89TPH55nAvdR52Ny2U2potvG92IvGLz3Ek+VU2CiEhDq7wmobWHQKIXjye3wsvE8hSZPKCbqeUJBns9ePJjD3FrjgBHuXjjLC8uP2H0VmaN/06/Cu4qdKbnGKOXF3mcW3HuLKEfdceIFIoyYvQxn3u42oExDr5wkpWxZJmxdmfCraly++IwzleKNdbxN+LxuNXS0lL3H1yKWkVXRq0aNfG0AAAdJUlEQVSia0utotUqV/PX/JuVWkWLiIhISUoSRERExJaSBBEREbFlxONxq6ury+k4REREpMEcATBN0+k48lS4WBkVLtaWChdVuKX5a/7NSoWLIiIiUpKSBBEREbGlJEFERERsKUkQERERW0oSRERExFZVSUI6MojH48ku77eJzo0PRnb3g3Sndw+eMXp+kR8eqEX0fuT2Y2YpbvokkhcdwTAMm2WEqNOxidRJataPYRj4Z1OOxlFFkhDjfjTAsmlimib3BhYYzneFjBHyePiOr5nwHmicDnnLwvlF/kknV845HYu7vXvwjKmfTxJa7+f2ej+3179QoyyxF5jDsqyiZSkIBPsJOB2bSM1FGTEMhpgk7HM6lmq6QNLN1MOdvo6tp70Q3SRNN610M2WaQJrIoUj5TzCw3g9s8/Rnp2Nxs7f8cguu/EudH6UKqVmm532Ek0oRpBkEmLMsIMXsI6djqSpJKBTj/swa3ombtB5MPHIYbW3zBnjz/SKPX2bX/fUzbk+ecDIqcYnorXFWg0usqEuySN1VlyTEQniGFzJfD9zDHFKKIGWk/2QTuHKjn29PAVuv+eHybyz09DPwudPBSWOLsjgPwSWdRRBxQnV3N3RPYWZrEpZP37UtXhQpdoyPczUIp05w4Ry8SasQVMpLzU4z7wtzXTmCiCP2fQtka08ALwk2D8eNDFILrcdo40/+0N0MUpEot8ZXCU6OoSsNIs6oPElIRxgM7Zw3SP8aZY1O2nTFQUo5dYIL5/7Di1j2zMHzFI9fHudC91Fn45KGlpqdZp4g/TqLIOKYymsSWnsIJHrxeHIrvEwsT5G53yFGyDPMQm5orRfPDHgnlnnoyrqFtyyc/42V3MOXTxi9BW3XL/HtNX3A7d1RLt44y4vLmf0H4L/Tr1sgpYzMWQRfOKLbHqXJRBkx+pjPPVztwBgHXzjJylj9z6kZ8XjcamlpqfsPLkWtoiujVtG1pVbRapWr+Wv+zUqtokVERKQkJQkiIiJiS0mCiIiI2DLi8bjV1dXldBwiIiLSYI4AmKbpdBx5KlysjAoXa0uFiyrc0vw1/2alwkUREREpSUmCiIiI2FKSICIiIraUJIiIiIgtJQkiIiJiq6okIR0ZxOPxZJfiNtHFYx5CLu8h/e7BM0bPL+aXhedOR+RexfvyGU/VFVJKiY5gGEZ+8c+mnI5IpK5Ss/6GeO1XkSTEuB8NsGyamKbJvYEFhnOZQDrCdwVjyxNeFoaLkwhX2XrNP38+SWi9n9vr/YSuH2flm3U2nI7Lhd49eMZUwb68vf6FGjxJCVFG+uKEkxaWZWElwzA+hPIEaQ5RRgyDISYJ+5yOpaokoZuph0Pkejq2nvZCYpM0QOsQDwvHegJ4SbCZPphg6+7Uab798TQfZR9+1H2SNv7kD/0FXKG3/HILrtzY2ZciJaUSxOmiM9fwrr0T/bs3aR4B5iyLlbEOpwMBqmkVXSTG/Zk1vBM3sW0EnX7NGp187cYu0XbSf7LJMf6iv4Ars7XNG+DN94s8fpld99fPuD15wsmopFG1jzEZNOgzYMm6TsLfRzycZK7+XXJFml51SUIshGd4IfP1wD3MIbssIE3k7gLeiWW6q4+vgWzzdP532q5f4ozTobhN+k82gSs3+vn2FLD1mh8u/8ZCTz8DnzsdnDSiwJzFEgZ9xjz4wiTHlCGIOKG6uxu6pzBzdQen775XvAgQC/UywwQ3bRMI99mYfsJjzvK/1446HYpLHePj3BmYUye4cA7epLcdjUgaVeaa7GJ/piYhefURHYZfNQkiDtj3LZB2dQexkIfhxATLBfUJbrYxvcg/EmcJ/ahr6lVpPaZaDtmz1Ow0874w1wOZx+1jEcK+VR79pCxBpN4qTxLSEQYL7mtM/xpljU7aWgHSRAYPU4KwzdOvlCDs26kTXDj3H17EsmcOnqd4/PI4F7p1Vkbe197ZBasbJHMrUj/xaBW6OnXJQaTeKq9JaO0hkOjF48mt8DKxPJWpO4jdZ2YNYIZez8zONgP3MKdcWJnwPJUttHvF1PlXO+tVdFeho1y8cZYXl58weiuzxn+nX7dAir3AHEvBbD1Cli+cZC7gYEwidRNlxOgj/+pf7cAYz/wOrDhQm2PE43GrpaWl7j+4FLWKroxaRdeWWkWrVa7mr/k3K7WKFhERkZKUJIiIiIgtJQkiIiJiy4jH41ZXl/7pqYiIiBQ7AmCaptNx5KlwsTIqXKwtFS6qcEvz1/yblQoXRUREpCQlCSIiImJLSYKIiIjYUpIgIiIitpQkiIiIiK2qkoR0ZBCPx5NdittElxtzo3cPnjF6fjG7rLPhdEAuVrwvn/FUXSGllOgIhmFkF7WJluaTmvVjGAZ+h1/8VSQJMe5HAyybJqZpcm9ggeF8V8hyY270ll9+PklovZ/b6/38/a+/84/pt04H5UrvHjxjqmBf3l7/Qg2exF50BKMvTjhpYVkW1lIX4x0jRJ2OS6QuoowYBkNMEvY5HUtVSUI3UwVtoFtPeyGxSfqDY250goGCFtH/t+04JLZ552hMbvSWX27BlRtqty0flkrEwXeVL3MN7wL9BImT0NkEaQoB5iyLlbEOpwMB9l2TEOP+zBreQE8+MdjbmBu95Zdb/6HtLyf0QVeprW3eAC++X9y53KAzMlJCe2cXrG6QLFq7ykayxAYiUjNHqtoqFsIzvJD5euAe5lDr3sbc6Pk6o9/8nvn6r59x+9pRZ+Nxo/SfbAJXbvTz7Slg6zU/XP6NhZ5+Bj53OjhpOIE5loIGfcZ8doUPnw/0z+NF6q+6MwndU5jZuoPl03eLCxTLjbnR5+ez19D7CbUlVLxYtWN8nKtBOHWCC+fgTXrb0YikcQXmsvUIloVlTdK16nREIs1p37dAtvYE8JJg06bwoNyYG33UfZI2/uQPVeVXpvWY9ptUL7rIPEH6A04HItJ8Kk8S0hEGC+5YSP8aZY1O2lo/MOZGW6/5oeDa+bvYGzYL/yKWvTl1ggvn/sOLWPbMwfMUj18e50K3Lt3Ih0QZ6ZvHF76OcgSR+qu8JqG1h0CiF48nt8LLxPIU3R8ac6NTJ7iQeMLo+dyK41z513nOOBmTKx3l4o2zvLj8hNFbmTX+O/26BVLspWbxd4yTu8LgCydZGWsvu4nI4RFlxOgjV5HDagfGuHO/B0Y8HrdaWlrq/oNLUavoyqhVdG2pVbRa5Wr+mn+zUqtoERERKUlJgoiIiNhSkiAiIiK2jHg8bnV16d+UiIiISLEjAKZpOh1HngoXK6PCxdpS4aIKtzR/zb9ZqXBRRERESlKSICIiIraUJIiIiIgtJQkiIiJiS0mCiIiI2KoqSUhHBvF4PNnFvhV0LJQZH4wcjhaQG9OLjJ5f5IcHam9crXcPnjF6fjG7POOpukLKLqlZP4Zh4J9N7R7AbxgY2WUk6kx8IvVS8nehzqpIEmLcjwZYNk1M0+TewALDoV1pQizEcGKAAe/BBOm45+v8I/E/+M85HYh7vXvwjKmfTxJa7+f2ej+3179QgycpEGXEMBhikrDPZqxjHMJJLMvCWgoy3+fH4fdOkRop97tQf1UkCd1MPRwi1/259bQXEpvsnC9IE7m7wMDXf+P0wcTosG2ezv+OP9jOJ06H4lpv+eUWXLlxmo+cDkUaVIA5y2JlrOP9oegi8wSZzHXAC1wn7FtlI1nfCEXqo8zvggP2WZMQ4/7MGt5ATz5pSEe+Y6bzHlOu7Q9d7N2DNR53fsbA505H4mJb27wBXny/uHO5Yfqt01GJS6QScfCdYfdbZjyhUwkitXakqq1iITzDC5mvB+5hDmVThHSE72Y6uWd2A4egFmHrNf+8dYy/r58AVItQtfSfbAJXbvTz7Slg6zU/XP6NhZ5+JV9ShXY69Z/kReqiujMJ3VOY2ZqE5dN3s8WLaSLfzdB5b4rDcRJhm6ffv+LknfOccTqUQ+EYH+dqEE6d4MI5eJNW4iXVSJGIOx2DSHOo7kxCgdaeAN6ZKJvpNK/XYGHYw0LhN6z14olOsFxQx+AO/+XfL2Hlm0VWCle/fMLoz2cJ/ajr63vWeow23vDHFqBiRalQe2cXrG6QBNoL1nd1tpfaREQOSOVJQjrC4P02HmaLDtK/Rlmjk69buxkyTaZ2vpHIYC/RwDIPh9yVHmScYGC9n4H8422efvWEF3+5xLfXjjoYlwudOsGFc694Edvm4rWj8DzF45fHuXJD+1H2INBPkD4Wo3MEAkD0FuOrQZYCTgcmcvhVniS09hBI9OLx5FZ4mVg+LJcYpDaOcvHGWV5cfsLorcwa/51+3QIpBaKMGH3M5x6udmCMgy+cZGUswFwyjL/DwADARzi5gnIEOZzK/S7U/+yZEY/HrZaWlrr/4FLUKroyahVdW2oVrVa5mr/m36zUKlpERERKUpIgIiIitpQkiIiIiC0jHo9bXV36zyQiIiJS7AiAaZpOx5GnwsXKqHCxtlS4qMItzV/zb1YqXBQREZGSlCSIiIiILSUJIiIiYktJgoiIiNhSkiAiIiK2qkoS0pFBPB5PdgkR2xkhMugpGPPgCcXKPFOj2+bpV4uMni9Ypt86HZRrvXvwrGBfPuPpltMRSaNJzfoxDAP/bKqiscOo2eYrxRrl+FfRKjrG/WiAZfMhrUAs5GE4dAlzaqfF08A9k6lD1PHJf6efgc+djsLd3j14xtTPJwmtf6EW22Ij09QmHl4i7Ovj0Z7HDqNmm68Ua6zjX8WZhG6mHg6Ra/7cetoLiU3SBxqWHC5v+eUWXLlxWgmClBBgzrJYGeuocOwwarb5SrHGOv5VnEkoFOP+zBreiZv5pAFgYdjDApBpI/2QoVb7rd1i5ZtFVgA4zpV/faEWx5Xa2uYN8Ob7RR6/zK7762fcnjzhZFQiIvIB1SUJsRCe4UwawMA9zHwW0MrQQ5Oh7KN0ZJDe3hBt5hTuvPpwlIs/9nMx++jdg2dMXV7n4/XznHE0LpdJ/8kmcOVGP9+eArZe88Pl31jo0WUcEZFGVt3dDd1TmKaJaZosn767q3hxR+vQ1wywwBM31y4W+OhaJ35+59VzpyNxo2N8nDsDc+oEF87Bm/S2oxGJiEh5+74FsrUngJcEm3ZFCelNEng57fLLDXlb27zhOJ8clvnUS+sx2viTP3Q3g4iIq1SeJKQjDBbc1pj+NcoanbS1Qiw0SKQgWYjdn2HNG6DHpR+qG9PFt+ltRF6xee4kn6omoTKnTnDh3H94EcueOXie4vHL41zoPupsXCIiUlblNQmtPQQSvXg8uRVeJpazNQeXOhnu9TCTH5pgueBOCLc503OM0cuLPM6tOHeW0I+q0K/cUS7eOMuLy08YvZVZ47/TrwJQKZC57Ws+93C1A2McfOEkK2PJMmPtzoRbU+X2xWGcrxRrrONvxONxq6Wlpe4/uBS1iq6MWkXXllpFq1Wu5q/5Nyu1ihYREZGSlCSIiIiILSUJIiIiYsuIx+NWV1eX03GIiIhIgzkCYJqm03HkqXCxMipcrC0VLqpwS/PX/JuVChdFRESkJCUJIiIiYktJgoiIiNhSkiAiIiK2lCSIiIiIraqShHRkEI/Hk13ebxNdPF7c9MmN3j14xuj5xexS3PRJ9k77sTKpWT+GYeCfTTkdSt2UmnNufW4ZiToUYB014/GXHY1y/Ctv8ESM+9EAy+ZDWoFYyMNw6BLmVDeQSRB6C8bd7t2DZ0z9fJLQ+hdq7LQP2o+VyDR4iYeXCPv6eOR0OHVRZs6pWYYeXSVprdBO5s2zo2+EfmuOgEPR1lYzHn/Z0VjHv4ozCd1MFXR2bD3thcQmmZMFMe7PwMRN93Z+LPaWX27BlRvq/Lg/2o+VCTBnWayMdTgdSB2VmXP7GCsrY+T637V/eRUfcRKH9g/sZjz+sqOxjn8VZxIKxbg/s4Z34mYmKUhvkgAS33mYWct+y8C9/FkG19na5g3w5vtFHr/MrvvrZ9yePOFkVO6j/SgHKbnBKl1MqmuySM1VV7gYC2XrDYZZGLjHw6HseYP0a9aAwE0T0zQxlyfwLgwT2l204BbpP9kELtzo5/Z6P7f/dZa2//cbC8+dDsxltB/lwKSYnZ7HF75+SC81iDSW6pKE7qlMEmCaLJ++u6t4sZO2/LWIHgJeSGy6uXLxGB+fyn556gQXzsGb9LajEbmT9qPsX3Skg3HCRMZ0GkGkHvZ9C2RrTwAvCTbTQOvpna8Pg9ZjtPEnf6gKf3+0H+UAREcM+uJhkgX1CSJSW5UnCekIgwXXD9K/RlnLnT1o7SHgXSP6azZLiN1nZs1LoMelZYynTnDh3H94Ecv+xfs8xeOXx7nQfdTZuNxG+1H2JcWsXwmCiBOMeDxutbS0VLBJmshg705hIl4mlh+SK0sgHWGwd4adukWTSuoWG64L5NZrfrj8is3sQ/+dfgY+dzSiIq7pAtng+7EUZ7pAZm6Bmt+11hdOslLn0+z164JXZs6dtzD6do8AwSWsudpWJjjTBbAZj39j0vE3qkkSaqvhkoQG55okwaXUKlofEpq/5t+s1CpaRERESlKSICIiIraUJIiIiIgtIx6PW11dXU7HISIiIg3mCNBQhRnNXihSKe2v2srsX6ejcI5hoPlr/k1L89flBhERESlBSYKIiIjYUpIgIiIitpQkiIiIiC0lCSIiImJLSYLsWXTEwD+bsl1vjEQdiOhwS81mqov9s05HIvWWO/a5pRl+u3bPufAtZdZfPGaMOBdnLZX7nXfq/UBJguxLataPXe8d2Z8RA4aAsM/pSMQJtx5B0srcfrcUhL5D+qGYl4KhgjknwzDfV5wcBZcyY5YF1pxjkdZMud95J98PlCRI9VKzDI1DMJh75WZa+hrGrsU/S8p2fKTgTSDKiGE3Vm6bw2vOgpUxp6MQp8ytkG+J3XEGiMP75/AOkXZYKZhz+5fgAxKHetLFyv3OO/l+oCRBqhRlpGMcwhGun8mta2dsxcKyLJaCZFr5WhbWyhjtpJj1dzDelV1nWSTDcfp2fegHl6zs+ByBPW4jcpjdGgff1Z0P0KaQhFWgs2DS8307lxtsrnpKjShJkKpER/qYDy7tvb956icerQZZmgvkV7WPTRIkXvqvhWq2ETkMojsfiPPB5jurNDsNvjDkfvPHVnYuNSTDMN7RHHUajUBJglQsU4dQ/OH9QckNVt9b2cEZ3yobyQPcRuQwCBR8KJ5pnuJFgOgIjAOREolR+xgEgcVm2SEOU5Igldm4xdA4hJNzVJAiQMcZ3q+5SbKx6uNMxwFuI3LINNP1+egI9MUhuVLm8koK4qD3gDpRkiAVWZ2fh3CEvV5lyGv/kqu+efoK7mtKzU4z77vKl6Weq5ptRNwuBf6CuxlSP71/ff4wmvXbJwjRkeIahOgtWPWh94B6icfjViMBnA7BVeq5v5aCWASX3lufDPveW2//vUtWECxyiy9sJXeNvf/05bapvcz+rf9SNOfs4gvXPw6n5t8oi1PzD/uKj304ecjnv/T+6x2wCNqM+bCSh23+VvnfeafeDwDLiMfj1qefflrjVGTv1Pq4MtpftaVW0WqVq/k7HYVzNH9dbhAREZESlCSIiIiILSUJIiIiYusIZK67NpJGi6fRaX/VVrPvXs3f6Qicpfk7HYGzjgANVfimQrzKaH/VlgoXVbil+TsdhXM0f11uEBERkRKUJIiIiIgtJQkiIiJiS0mCiIiI2FKSICIiIraUJBxKKWb9BoZRuIw0TavZukmB38hUABsGjJTbwWW+NzW7s75oLFq8vnCJVjtm87z+2drtokPtgI5/ueOx+7VRuFktxmo2f5ufm2/aFC2xvkB0pPRrtRZje1LB/Mvu8zLPM+vf9Ts8sv8xu3js9nmeGjy5m/3+SlphH5YvnCx6bNecScqjTIOXYGGTlaXyjXhKfm8Sy1fQsCYZzowtlfiZmcZZ+xsLFsaZxPKVibvc/Jthqfnx/8DxCBa8NnYf31qM1Wr+yXCJxky7t1uyef0vZbYN+myaGtVirBbHv9zxKPM8YR9WcMn+OasdK3ksSsxfZxKaQjtfXvVBPMFOwrj7bEPhmYYUs34/s6koI/lx/65ss9z2QHSk+EyGf5aU7RmO4rHiv7BGbOIq8zNTs/gLnnckWuHPq0QU5oHJsezjAIR9sJGs8HvbYaWgNW77l+ADEnaZfQqm5yF8fR9jKYhT0Ha4Hbr2Ml8pdlDH/wPHY67gtdFxBoiT/x2uxdieVTJ/4NY4hCPFLaABUgmgsO1zAIIUv/5npyE4CWdsnrcWY3tS4fxL7vMKn+cglDoWpShJaAopfnq0iu/ql/kXRnSkg/GunVQzGY7T558teLNYZbxjmjPJ3DiMd+Q+lFPM+m22z31op2bx98UJF6TOrG6QpJ2xlcy6pSCQS3VXxvbwgv3AzyTKSMc4FPxJwvRPfFn1z/tANNk3t45d6+OJ/X0vSVil4EOjQPQWrAZhbD9j7TAZhL7sKc9ZP8TD9ttJaQd2/Cs4HrfGwXfV/s29FmPlVPSaziZCj4beP/3d3gmswu7PxNyHZGoWxrtgLmDztDUY26uK5r9L4T7fy/PM95W+LFDxWJljUYqShENsdbwj+9dzB+OrPq7m0vXULNPzPsLXd35L2scmCa4+4qeCF1pwaSX/ZtU+NkmQeCbDT/3Eo9UgS3O7ts+N18KHfmZ0kXmCTI7t/Ekyt4dkYL6v4AxD1acVMjor+JO81PfOToMvDHbvX4vzEOy3366SscAcLGU/mMaByJj9dlKZao9/2eNRcL1+PggrtR7bh5Lzzya+VyOZ/15oJcE3n732HtiZey6muC+7XQqGxmFpzuY5azG2T2WPfwX7vPB5xlay+8wi+4faTj1DVWPljkUJShIOMV/hBbKlLsY7Ci8ZrDLeUXgavo/5Dz7jaibDT26w+t5YB2d82fH2MVaSV3mUe/6+Dz9zTtGHduF2H/qZAL4z72XkHxLMX/xcIjjfh79sBU95ifj+vjc6UvpDOzUL8z64XuIvo0rGRgxY7M++gVyFjg8VLsmeVHv8yx6PQMGb/ZldRW+1GNuHD82/8JJK9upnJpy5nXgsC7qyv+izQ9C1ZJ8w12Jsv8rOv4J9Xup52scyl2IWbTasdKzUsbCjJKFZBPoJUvCBSpCl9ypVVj5w2tnHmQ6g4wy+98aSbKxmx4HorXFWc6f3l4J7DjNYWLFUuN0efmbmkka1AvTvPcySp0m7Oqv73ugI9MUhuVL6tHBwcv9ju5OG9rHMNdBHP9lsLCUd1PGv5HiUq1epxVg5lcyfjgp+RvYafX8ANlaLT5mPr8LqOBh+eFSDsUp2QUXz371twT6v6HmylwrO2P0ltNexSo5Fju5ucDf7/bX77gbLspaCFviszCqbcZvtd77fspJhn4UvbCULxwvuligeX7KCBdtmfnbQKry3IlPhW7gmma3ILfqmgu328jML57RkBfNje/l5me133wDCB6qb8xXEu6qy7SqYS31v2Fe+2rjcHQ8Vj+2uHs9W05eqhC43/2ZYan78yx2PJJav4DmKjmctxmo4/7Bvb3cCFFX671rCZe5EqMXYgc3/A/u81PMsBYv30VJw532i2rFKjkVu/koSXK5ckgDFS/EHoM337EoCgkuZD87MePGHfO5D9f1td394WweUJJT/mdkfbPny4wVJSpmfVzh/u6Sp7Idk9g09t/17v5jBPXzv0vvHCcrcIlXBm2qpsaXg7nlX9ybZDEvNj/8Hjsfu12jhdrUYq9f88x+Ku9aXey02WpJQyfzL7vO9vjcU/iFR7Vi5Y1Fi/kY8Hrc+/fTTUica6k6tjytTm/2VuZNgY9LaVwXwYVBVq+gU+Dtg0qrNtc96Mgwqn/8hUtX8m/34a/6Hav6qSRA5YKmfgBJ3KMjh1+zHX/PnUM3/iNMBiBw27WOw4nQQ4phmP/6a/+Gav5IEsZH5p0ciItLcjkDmumsjabR4Gp32V201++7V/J2OwFmav9MROOv/A2vVlKn5Z20yAAAAAElFTkSuQmCC)\n",
        "\n",
        "P(A) = 1/36 = 0.0277778\n",
        "\n",
        "P(B) = 3/36 = 0.0833333\n",
        "\n",
        "P(C) = 25/36 = 0.694444"
      ],
      "metadata": {
        "id": "mXd3p1NIHiae"
      }
    },
    {
      "cell_type": "code",
      "execution_count": 12,
      "metadata": {
        "id": "Ly0qKIPu53Ih"
      },
      "outputs": [],
      "source": [
        "# первый кубик\n",
        "A = [i for i in range(1, 7)]\n",
        "# второй кубик\n",
        "B = [i for i in range(1, 7)]\n",
        "# задаем число экспериментов\n",
        "n = 100000\n",
        "# формируем датафрейм с нашими экспериментами, где столбцы - результаты подбрасывания каждого кубика соответственно\n",
        "Z = pd.DataFrame({\"A\":list(map(lambda a: random.choice([\n",
        "                           random.choice(A)\n",
        "                           ]), range(n)\n",
        "                              ))\n",
        "                 , \"B\": list(map(lambda a: random.choice([\n",
        "                           random.choice(B)\n",
        "                           ]), range(n)\n",
        "                              ))\n",
        "                 })"
      ]
    },
    {
      "cell_type": "code",
      "source": [
        "# 1. вышло две \"шестерки\"\n",
        "p1 = len(Z[(Z.A == 6) & (Z.B == 6)])/Z.shape[0]\n",
        "print(f\"{p1} - вышло две 'шестерки'\")\n",
        "# 2. сумма выпавших очков не меньше 11\n",
        "p2 = len(Z[(Z.A + Z.B >= 11)])/Z.shape[0]\n",
        "print(f\"{p2} - сумма выпавших очков не меньше 11\")\n",
        "# 3. не выпала ни одна \"шестерка\"\n",
        "p3 = len(Z[((Z.A != 6)) & ((Z.B != 6))])/Z.shape[0]\n",
        "print(f\"{p3} - не выпала ни одна 'шестерка'\")"
      ],
      "metadata": {
        "colab": {
          "base_uri": "https://localhost:8080/"
        },
        "id": "rYYtfm5Y3d8Z",
        "outputId": "b6b1b1a0-a92d-4d48-bb6c-77b50071c694"
      },
      "execution_count": 13,
      "outputs": [
        {
          "output_type": "stream",
          "name": "stdout",
          "text": [
            "0.02768 - вышло две 'шестерки'\n",
            "0.08364 - сумма выпавших очков не меньше 11\n",
            "0.69365 - не выпала ни одна 'шестерка'\n"
          ]
        }
      ]
    },
    {
      "cell_type": "markdown",
      "metadata": {
        "id": "f-Bi0p8haclB"
      },
      "source": [
        "## Вероятность суммы событий"
      ]
    },
    {
      "cell_type": "markdown",
      "metadata": {
        "id": "g7A7QlvGTnwZ"
      },
      "source": [
        "### Задача 5\n",
        "Брошены две игральные кости. Найти вероятность события D = {выпала хотя бы одна шестёрка}\n",
        "\n",
        "---\n",
        "Решение\n",
        "\n",
        "P(D) = 1/6 + 1/6 - 1/36 = 6/36 + 6/36 - 1/36 = 11/36 = 0.305556\n"
      ]
    },
    {
      "cell_type": "code",
      "source": [
        "# выпала хотя бы одна шестёрка\n",
        "p4 = len(Z[(Z.A == 6) | (Z.B == 6)])/Z.shape[0]\n",
        "print(f\"{p4} - выпала хотя бы одна 'шестерка'\")"
      ],
      "metadata": {
        "colab": {
          "base_uri": "https://localhost:8080/"
        },
        "id": "SA4Cwbpt8zOX",
        "outputId": "323c8a65-1f56-44ef-fb97-d1af0dc17068"
      },
      "execution_count": 15,
      "outputs": [
        {
          "output_type": "stream",
          "name": "stdout",
          "text": [
            "0.30635 - выпала хотя бы одна 'шестерка'\n"
          ]
        }
      ]
    },
    {
      "cell_type": "markdown",
      "metadata": {
        "id": "R1bYSzQQbC6I"
      },
      "source": [
        "Предлагается также решить задачи: \n",
        "\n",
        "### Задача 6\n",
        "В телефонном номере три последние цифры стерлись. Считая, что все возможные значения стершихся цифр равновероятны, найти вероятность событий:\n",
        "\n",
        "A = {Стерлись различные цифры},\n",
        "\n",
        "B = {Стерлись одинаковые цифры},\n",
        "\n",
        "C = {Среди стершихся цифр хотя бы две совпадают},\n",
        "\n",
        "D = {Среди стершихся цифр хотя бы две различны}\n"
      ]
    },
    {
      "cell_type": "markdown",
      "source": [
        "---\n",
        "\n",
        "Решение\n",
        "\n",
        "Всего возможных вариантов: 10 в степени 3, итого 1000 событий\n",
        "1. Найдем количество номеров с разными числами. На первое место можно поставить любое число (всего у нас чисел 10), значит на второе место уже можно поставить всего 10−1=9 чисел, а на третьем месте уже остается 10−1−1=8 чисел. Значит, номеров с разными числами 10⋅9⋅8=720\n",
        "\n",
        "P(A) = 720/1000 = 0.72\n",
        "2. Всего возможно 10 комбинаций: 000, 111, 222, 333, 444, 555, 666, 777, 888, 999\n",
        "\n",
        "P(B) = 10/1000 = 0.01\n",
        "\n",
        "3. Среди стершихся цифр хотя бы две совпадают - среди стершихся нет цифр, чтобы были все различны \n",
        "\n",
        "P(C) = не P(A) = 1 - 0.72 = 0.28\n",
        "4. Среди стершихся цифр хотя бы две различны - среди стершихся нет одинаковых цифр\n",
        "\n",
        "P(D) = не P(B) = 1 - 0.01 = 0.99"
      ],
      "metadata": {
        "id": "nptaGrSeLeZ4"
      }
    },
    {
      "cell_type": "code",
      "execution_count": 16,
      "metadata": {
        "id": "a_X-8Bg653Ij"
      },
      "outputs": [],
      "source": [
        "# возможные значения первой цифры\n",
        "A = [i for i in range(0, 10)]\n",
        "# возможные значения второй цифры\n",
        "B = [i for i in range(0, 10)]\n",
        "# возможные значения третьей цифры\n",
        "C = [i for i in range(0, 10)]\n",
        "# задаем число экспериментов\n",
        "n = 1000000\n",
        "# формируем датафрейм с нашими экспериментами, где столбцы - возможные значения цифр в номере\n",
        "Z = pd.DataFrame({\"A\":list(map(lambda a: random.choice([\n",
        "                           random.choice(A)\n",
        "                           ]), range(n)\n",
        "                              ))\n",
        "                 , \"B\": list(map(lambda a: random.choice([\n",
        "                           random.choice(B)\n",
        "                           ]), range(n)\n",
        "                              ))\n",
        "                 ,  \"C\": list(map(lambda a: random.choice([\n",
        "                           random.choice(C)\n",
        "                           ]), range(n)\n",
        "                              ))})"
      ]
    },
    {
      "cell_type": "code",
      "source": [
        "# 1. Стерлись различные цифры\n",
        "p1 = len(Z[((Z.A != Z.B)) & ((Z.A != Z.C)) & ((Z.B != Z.C))])/Z.shape[0]\n",
        "print(f\"{p1} - стерлись различные цифры\")\n",
        "# 2. Стерлись одинаковые цифры\n",
        "p2 = len(Z[((Z.A == Z.B)) & ((Z.A == Z.C))])/Z.shape[0]\n",
        "print(f\"{p2} - стерлись одинаковые цифры\")\n",
        "# 3. Среди стершихся цифр хотя бы две совпадают\n",
        "p3 = len(Z[((Z.A == Z.B)) | ((Z.A == Z.C)) | ((Z.B == Z.C))])/Z.shape[0]\n",
        "print(f\"{p3} - среди стершихся цифр хотя бы две совпадают\")\n",
        "# 4. Среди стершихся цифр хотя бы две различны\n",
        "p4 = len(Z[((Z.A != Z.B)) | ((Z.A != Z.C)) | ((Z.B != Z.C))])/Z.shape[0]\n",
        "print(f\"{p4} - среди стершихся цифр хотя бы две различны\")"
      ],
      "metadata": {
        "colab": {
          "base_uri": "https://localhost:8080/"
        },
        "id": "h5o6t9t4NilQ",
        "outputId": "ffb66e76-d841-46be-f506-d4392ded1955"
      },
      "execution_count": 17,
      "outputs": [
        {
          "output_type": "stream",
          "name": "stdout",
          "text": [
            "0.719419 - стерлись различные цифры\n",
            "0.009911 - стерлись одинаковые цифры\n",
            "0.280581 - среди стершихся цифр хотя бы две совпадают\n",
            "0.990089 - среди стершихся цифр хотя бы две различны\n"
          ]
        }
      ]
    },
    {
      "cell_type": "markdown",
      "metadata": {
        "id": "RnugkR8BalK_"
      },
      "source": [
        "## Случайные величины"
      ]
    },
    {
      "cell_type": "markdown",
      "metadata": {
        "id": "yLoZDZ17UVsp"
      },
      "source": [
        "### Задача 7\n",
        "В лотерее имеется 10 билетов, из которых один выигрышный. Размер выигрыша 10 ден. ед.; стоимость билета 1 ден ед. Найти закон распределения случайной величины X, равной чистому выигрышу участника лотереи, который вытаскивает билет первым."
      ]
    },
    {
      "cell_type": "markdown",
      "source": [
        "---\n",
        "\n",
        "Решение\n",
        "\n",
        "Всего 10 билетов, один выигрышный. \n",
        "\n",
        "Вероятность выигрыша: 1/10 = 0.1, участник выиграет 9 ден. единиц.\n",
        "\n",
        "Вероятность проигрыша: 9/10 = 0.9, участник проиграет 1 ден. единицу.\n",
        "\n",
        "Это дискретная случайная величина.\n",
        "\n",
        "Закон распределения можно представить в виде таблицы:\n",
        "\n",
        "![image.png](data:image/png;base64,iVBORw0KGgoAAAANSUhEUgAAAMEAAAApCAYAAACMVU1zAAADTElEQVR4nO2cPXKjMBiGH+3kKDhF4hPgE5htUm2bTpS42c5lDiCXdpc21TYLJzAnYFIE7vJt4Z+xsZ3F2dkQoe+ZoeBvRi/oFdKgV6aqKkFRAuYG4P7+vu9y9IYxBpFw2wHVb/jWdyEUpW/UBErwqAmU4FETKMGjJlCCR00QAM1igjGGyaLpuyifT5FijNluE849AjXBoClIjeGROS7uuyw9UKSYpMLVgogg+ZjZKKVoXXZsgmbB5NAt7X3FM6YsRVhno74L0gvNWwXxD75H2wPTBywVb636fGyCKOPZwexxQUPD4nEG7pksQlG8I7odQ/lKfXS05PX4wOaP8dGN2Rw7S3icvFDiqNUBiq9Ml+TWkJjV9kBMHMO4ddmZMcGUZW4pyxI7z1AL+MFu8LvZTvu9oTJdbscDIojMGZen15wxQUGaVDhnWSX6MH0hytYHL3vJtO8CfUWKX6ywPLQezkl3qEgTVjZHshG8jEjSB2Spj1TxnYI0WRG7+rSBqKpK9uRWwEq+26+dxMTiahksQN9F+I/kYkFobfHBCx20/tpJfEH3DkBMVVWiU6nDnkocun79WaYEj5pACR41gRI8N7DpF4WM6g9b/w0Q/MBI9YetX7tDSvCoCZTgURMowaMmUIJHTaAEj5rAR5oFk/20aUP63lTfDhlb77hGP3/PWKsJvKMgHc3A1dvcrGWVXKjcHTO2fnGF/o4Z65YJGhaTCYtmc/OgWo+hsJ0TP98l/qY/cfFpZBC6Z2y94gr9XTPWZ74EJbPRE3fb1qN2DKD1GA6bin1H+7VWZ2p214ytT1yjvytnu0M2X+/D9VE297/1GDQRt+3Q7I7pktyuSPZf9SeqwS298o7+jnQcE/jdegybhrfq8tkuGVu/eV9/FzqaIOYuzKVrvhznuzgwvu2wJMKFjK1P/JP+SxzFK6UWFyMcRCprFwuxk6EmLPEuXriJTNpdBrYVic0twv7k6X3tiGEY+jf1+lK88qwJbH6YTT3IHA8Q/yqBtLKzxxnwo0rQMWPrHV31d8xYXzDBp0j5EnhZCS5RO4mvbLRUP3Ky5IriL83vF3DPwa459FH9aoIBEWVr1n0Xokc+qr9lgohsHW7KSAkTzRij+kPX/wfDp3h4O+NEHAAAAABJRU5ErkJggg==)"
      ],
      "metadata": {
        "id": "xEr2n8qAs0Gj"
      }
    },
    {
      "cell_type": "code",
      "execution_count": 40,
      "metadata": {
        "id": "oNk432sKUqzT",
        "colab": {
          "base_uri": "https://localhost:8080/"
        },
        "outputId": "550992aa-dc17-4f67-a8e7-7c620951b32e"
      },
      "outputs": [
        {
          "output_type": "stream",
          "name": "stdout",
          "text": [
            "Выигрыш 290 денежных единиц\n"
          ]
        }
      ],
      "source": [
        "# формируем лотерейный билет и считаем, что выигрышный билет № 5\n",
        "L = [i for i in range(0, 10)]\n",
        "n = 10000\n",
        "# формируем датафрейм с результатами нашей лотерии. \n",
        "Z = pd.DataFrame({\"A\":list(map(lambda a: random.choice([\n",
        "                           random.choice(L)\n",
        "                           ]), range(n)\n",
        "                              ))})\n",
        "result = len(Z[Z.A == 5]) * 10 - Z.shape[0]\n",
        "print(f'Выигрыш {result} денежных единиц')"
      ]
    },
    {
      "cell_type": "markdown",
      "metadata": {
        "id": "U-NK9liSbpvb"
      },
      "source": [
        "Предлагается также решить задачу: \n",
        "\n",
        "### Задача 8\n",
        "Брошены две игральные кости. Найти закон распределения случайной величины $X$, равной сумме выпавших очков. Найти вероятности событий ${X <= 4}$, ${X > 4}$"
      ]
    },
    {
      "cell_type": "markdown",
      "source": [
        "---\n",
        "\n",
        "Решение\n",
        "\n",
        "Представим закон рапределения в виде таблицы:\n",
        "\n",
        "![image.png](data:image/png;base64,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)\n",
        "\n",
        "Видим, что закон распределения приближен к нормальному распределению.\n",
        "\n",
        "P( X <= 4) = 6/36 = 0.16667\n",
        "\n",
        "P( X > 4) = 30/36 = 0.83333"
      ],
      "metadata": {
        "id": "EsntWZ4_WYtm"
      }
    },
    {
      "cell_type": "code",
      "execution_count": 22,
      "metadata": {
        "id": "uXH1PurC53Ik"
      },
      "outputs": [],
      "source": [
        "# зададим множество значений и соответсвующих вероятностей\n",
        "# первый кубик\n",
        "A = [i for i in range(1, 7)]\n",
        "# второй кубик\n",
        "B = [i for i in range(1, 7)]\n",
        "# задаем число экспериментов\n",
        "n = 100000\n",
        "# формируем датафрейм с нашими экспериментами, где столбцы - результаты подбрасывания каждого кубика соответственно\n",
        "Z = pd.DataFrame({\"A\":list(map(lambda a: random.choice([\n",
        "                           random.choice(A)\n",
        "                           ]), range(n)\n",
        "                              ))\n",
        "                 , \"B\": list(map(lambda a: random.choice([\n",
        "                           random.choice(B)\n",
        "                           ]), range(n)\n",
        "                              ))\n",
        "                 })"
      ]
    },
    {
      "cell_type": "code",
      "source": [
        "Z = Z.eval(\"summa = A + B\")"
      ],
      "metadata": {
        "id": "BzR5NupKoPvS"
      },
      "execution_count": 23,
      "outputs": []
    },
    {
      "cell_type": "code",
      "source": [
        "# Построим график распределения в виде гистограммы:\n",
        "law = Z.groupby('summa').count()\n",
        "law = law.drop('B', axis = 1)\n",
        "law.plot(kind = 'bar')"
      ],
      "metadata": {
        "colab": {
          "base_uri": "https://localhost:8080/",
          "height": 470
        },
        "id": "qSlpFLVDZNdt",
        "outputId": "b9177876-dbb7-44fb-cb9e-ae8c561d07f9"
      },
      "execution_count": 24,
      "outputs": [
        {
          "output_type": "execute_result",
          "data": {
            "text/plain": [
              "<Axes: xlabel='summa'>"
            ]
          },
          "metadata": {},
          "execution_count": 24
        },
        {
          "output_type": "display_data",
          "data": {
            "text/plain": [
              "<Figure size 640x480 with 1 Axes>"
            ],
            "image/png": "[encoded data removed]"
          },
          "metadata": {}
        }
      ]
    },
    {
      "cell_type": "code",
      "source": [
        "# 1. Вероятность выпадения суммы очков X <= 4\n",
        "p1 = len(Z[Z.summa <= 4])/Z.shape[0]\n",
        "print(f'{p1} - вероятность выпадения суммы очков X <= 4')\n",
        "# 2. Вероятность выпадения суммы очков X > 4\n",
        "p2 = len(Z[Z.summa > 4])/Z.shape[0]\n",
        "print(f'{p2} - вероятность выпадения суммы очков X > 4')"
      ],
      "metadata": {
        "colab": {
          "base_uri": "https://localhost:8080/"
        },
        "id": "7e8dEWLbVyMm",
        "outputId": "976a7706-6397-41be-a63d-29252dba6433"
      },
      "execution_count": 25,
      "outputs": [
        {
          "output_type": "stream",
          "name": "stdout",
          "text": [
            "0.1653 - вероятность выпадения суммы очков X <= 4\n",
            "0.8347 - вероятность выпадения суммы очков X > 4\n"
          ]
        }
      ]
    },
    {
      "cell_type": "markdown",
      "metadata": {
        "id": "shgW4D83awjK"
      },
      "source": [
        "## Условные вероятности"
      ]
    },
    {
      "cell_type": "markdown",
      "metadata": {
        "id": "Fbu1RFZwWZrk"
      },
      "source": [
        "### Задача 9\n",
        "Из колоды (36 карт) вынимают последовательно без возвращения две карты. Найти вероятность того, что первой картой была шестерка, а второй — семерка. Найти условную вероятность того же события при условии, что обе карты бубновой масти.\n"
      ]
    },
    {
      "cell_type": "markdown",
      "source": [
        "---\n",
        "\n",
        "Решение:\n",
        "\n",
        "P1 = 4/36 * 4/35 = 0.012698\n",
        "\n",
        "P2 = 1/36 * 1/35 = 0.00079365"
      ],
      "metadata": {
        "id": "vJ_l_mQtaZ6L"
      }
    },
    {
      "cell_type": "code",
      "source": [
        "K = [i for i in range(1, 37)]\n",
        "# sixs  - 1, 2, 3, 4\n",
        "# sevens - 5, 6, 7, 8\n",
        "# six_b - 2\n",
        "# seven_b - 6\n",
        "\n",
        "def one(w):\n",
        "  K1 = [i for i in range(1, 37)]\n",
        "  K1.remove(w)\n",
        "  return random.choice(K1)\n",
        "\n",
        "n = 1000000\n",
        "# формируем датафрейм с нашими экспериментами, столбец A - результат извлчения шара из урны первый раз\n",
        "Z = pd.DataFrame({\"A\":list(map(lambda a: random.choice([\n",
        "                           random.choice(K)\n",
        "                           ]), range(n)\n",
        "                              ))\n",
        "                 })\n",
        "\n",
        "Z['B'] = Z['A'].map(one)\n",
        "# 1. Найти вероятность того, что первой картой была шестерка, а второй — семерка\n",
        "p1 = len(Z[((Z.A == 1) & (Z.B == 5)) | ((Z.A == 1) & (Z.B == 6)) | ((Z.A == 1) & (Z.B == 7)) | ((Z.A == 1) & (Z.B == 8)) | ((Z.A == 2) & (Z.B == 5)) | ((Z.A == 2) & (Z.B == 6)) | ((Z.A == 2) & (Z.B == 7)) | ((Z.A == 2) & (Z.B == 8)) |((Z.A == 3) & (Z.B == 5)) | ((Z.A == 3) & (Z.B == 6)) | ((Z.A == 3) & (Z.B == 7)) | ((Z.A == 3) & (Z.B == 8)) |((Z.A == 4) & (Z.B == 5)) | ((Z.A == 4) & (Z.B == 6)) | ((Z.A == 4) & (Z.B == 7)) | ((Z.A == 4) & (Z.B == 8))])/Z.shape[0]\n",
        "print(f\"{p1} - первой картой была шестерка, а второй — семерка\")\n",
        "# 2. Найти условную вероятность того же события при условии, что обе карты бубновой масти.\n",
        "p2 = len(Z[(Z.A == 2) & (Z.B == 6)])/Z.shape[0]\n",
        "print(f\"{p2} - обе карты бубновой масти\")\n"
      ],
      "metadata": {
        "colab": {
          "base_uri": "https://localhost:8080/"
        },
        "id": "5rBBS_1k_eAg",
        "outputId": "25d21a58-5b9a-455d-f80f-abdc1e464f02"
      },
      "execution_count": 26,
      "outputs": [
        {
          "output_type": "stream",
          "name": "stdout",
          "text": [
            "0.012732 - первой картой была шестерка, а второй — семерка\n",
            "0.000805 - обе карты бубновой масти\n"
          ]
        }
      ]
    },
    {
      "cell_type": "markdown",
      "metadata": {
        "id": "hNVxtaz5c57b"
      },
      "source": [
        "Предлагается также решить задачу: \n",
        "\n",
        "### Задача 10\n",
        "Из урны, содержащей два белых и три черных шара, последовательно извлекают два шара; вынутые шары не возвращаются. Если первый шар оказался черным, то перед вторым извлечением в урну добавляют белый шар. В противном случае состав оставшихся шаров не меняют. Найти вероятности событий:\n",
        "\n",
        "$A$ = {извлечены два белых шара},\n",
        "\n",
        "$B$ = {извлечены два черных шара}\n",
        "\n",
        "Указание. Пусть событие $C_1$ = {первый шар белый}, событие $C_2$ = {второй шар белый}. Тогда $A = C_1C_2$, $B = \\overline C_1 \\overline C_2$ "
      ]
    },
    {
      "cell_type": "markdown",
      "source": [
        "---\n",
        "\n",
        "Решение:\n",
        "\n",
        "P(A) = 2/5 * 1/4 = 0.1\n",
        "\n",
        "P(B) = 3/5 * 2/5 = 0.24"
      ],
      "metadata": {
        "id": "XpG8XJ6BajBb"
      }
    },
    {
      "cell_type": "code",
      "source": [
        "# заполняем урну перед первым извлечением шара\n",
        "B1 = [\"white\"]*2 + ['black']*3\n",
        "# заполняем урну перед вторым извлечением шара, если в первый раз извлекли черный шар\n",
        "B21 = [\"white\"]*3 + ['black']*2\n",
        "# заполняем урну перед вторым извлечением шара, если в первый раз извлекли белый шар\n",
        "B22 = [\"white\"] + ['black']*3\n",
        "# задаем число экспериментов\n",
        "n = 100000\n",
        "# формируем датафрейм с нашими экспериментами, столбец A - результат извлечения шара из урны первый раз\n",
        "Z = pd.DataFrame({\"A\":list(map(lambda a: random.choice([\n",
        "                           random.choice(B1)\n",
        "                           ]), range(n)\n",
        "                              ))\n",
        "                 })\n",
        "\n",
        "# напишем функцию, извлекающую второй раз шар в зависимости от результат извлечения шара в первый раз\n",
        "def one(w):\n",
        "  if w =='white':\n",
        "    return random.choice(B22)\n",
        "  elif w == 'black':\n",
        "    return random.choice(B21)\n",
        "\n",
        "# добавляем в наш датафрейм второй столбец, который представляет из себя результат извлечения второго шара в зависимости от первого\n",
        "Z['B'] = Z['A'].map(one)\n",
        "\n"
      ],
      "metadata": {
        "id": "YFe8yzP61ydL"
      },
      "execution_count": 29,
      "outputs": []
    },
    {
      "cell_type": "code",
      "source": [
        "# 1. Извлечены два белых шара\n",
        "p1 = len(Z[(Z.A == 'white') & (Z.B == 'white')])/Z.shape[0]\n",
        "print(f\"{p1} - извлечены два белых шара\")\n",
        "# 2. Извлечены два черных шара\n",
        "p2 = len(Z[(Z.A == 'black') & (Z.B == 'black')])/Z.shape[0]\n",
        "print(f\"{p2} - извлечены два черных шара\")\n"
      ],
      "metadata": {
        "colab": {
          "base_uri": "https://localhost:8080/"
        },
        "id": "y50tKp3IeOxM",
        "outputId": "4bf6c0ae-1901-4382-97b7-13e8565178fb"
      },
      "execution_count": 30,
      "outputs": [
        {
          "output_type": "stream",
          "name": "stdout",
          "text": [
            "0.0999 - извлечены два белых шара\n",
            "0.24116 - извлечены два черных шара\n"
          ]
        }
      ]
    }
  ],
  "metadata": {
    "colab": {
      "provenance": []
    },
    "kernelspec": {
      "display_name": "Python 3 (ipykernel)",
      "language": "python",
      "name": "python3"
    },
    "language_info": {
      "codemirror_mode": {
        "name": "ipython",
        "version": 3
      },
      "file_extension": ".py",
      "mimetype": "text/x-python",
      "name": "python",
      "nbconvert_exporter": "python",
      "pygments_lexer": "ipython3",
      "version": "3.9.13"
    }
  },
  "nbformat": 4,
  "nbformat_minor": 0
}